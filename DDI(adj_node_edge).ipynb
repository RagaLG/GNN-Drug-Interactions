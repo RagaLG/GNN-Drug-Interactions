{
  "cells": [
    {
      "cell_type": "code",
      "execution_count": null,
      "metadata": {
        "colab": {
          "base_uri": "https://localhost:8080/"
        },
        "id": "y4XuYUZ45w9_",
        "outputId": "219e65f3-ffb3-4cd1-8763-5f70ba82e60f"
      },
      "outputs": [
        {
          "output_type": "stream",
          "name": "stdout",
          "text": [
            "Looking in indexes: https://pypi.org/simple, https://us-python.pkg.dev/colab-wheels/public/simple/, https://download.pytorch.org/whl/cu113\n",
            "Collecting torch==1.12.1+cu113\n",
            "  Downloading https://download.pytorch.org/whl/cu113/torch-1.12.1%2Bcu113-cp38-cp38-linux_x86_64.whl (1837.7 MB)\n",
            "\u001b[K     |██████████████▌                 | 834.1 MB 1.3 MB/s eta 0:13:03tcmalloc: large alloc 1147494400 bytes == 0x3a844000 @  0x7f766e276615 0x5d6f4c 0x51edd1 0x51ef5b 0x4f750a 0x4997a2 0x4fd8b5 0x4997c7 0x4fd8b5 0x49abe4 0x4f5fe9 0x55e146 0x4f5fe9 0x55e146 0x4f5fe9 0x55e146 0x5d8868 0x5da092 0x587116 0x5d8d8c 0x55dc1e 0x55cd91 0x5d8941 0x49abe4 0x55cd91 0x5d8941 0x4990ca 0x5d8868 0x4997a2 0x4fd8b5 0x49abe4\n",
            "\u001b[K     |██████████████████▍             | 1055.7 MB 1.3 MB/s eta 0:10:26tcmalloc: large alloc 1434370048 bytes == 0x7ee9a000 @  0x7f766e276615 0x5d6f4c 0x51edd1 0x51ef5b 0x4f750a 0x4997a2 0x4fd8b5 0x4997c7 0x4fd8b5 0x49abe4 0x4f5fe9 0x55e146 0x4f5fe9 0x55e146 0x4f5fe9 0x55e146 0x5d8868 0x5da092 0x587116 0x5d8d8c 0x55dc1e 0x55cd91 0x5d8941 0x49abe4 0x55cd91 0x5d8941 0x4990ca 0x5d8868 0x4997a2 0x4fd8b5 0x49abe4\n",
            "\u001b[K     |███████████████████████▎        | 1336.2 MB 1.2 MB/s eta 0:06:50tcmalloc: large alloc 1792966656 bytes == 0x3ccc000 @  0x7f766e276615 0x5d6f4c 0x51edd1 0x51ef5b 0x4f750a 0x4997a2 0x4fd8b5 0x4997c7 0x4fd8b5 0x49abe4 0x4f5fe9 0x55e146 0x4f5fe9 0x55e146 0x4f5fe9 0x55e146 0x5d8868 0x5da092 0x587116 0x5d8d8c 0x55dc1e 0x55cd91 0x5d8941 0x49abe4 0x55cd91 0x5d8941 0x4990ca 0x5d8868 0x4997a2 0x4fd8b5 0x49abe4\n",
            "\u001b[K     |█████████████████████████████▌  | 1691.1 MB 1.2 MB/s eta 0:02:08tcmalloc: large alloc 2241208320 bytes == 0x6eab4000 @  0x7f766e276615 0x5d6f4c 0x51edd1 0x51ef5b 0x4f750a 0x4997a2 0x4fd8b5 0x4997c7 0x4fd8b5 0x49abe4 0x4f5fe9 0x55e146 0x4f5fe9 0x55e146 0x4f5fe9 0x55e146 0x5d8868 0x5da092 0x587116 0x5d8d8c 0x55dc1e 0x55cd91 0x5d8941 0x49abe4 0x55cd91 0x5d8941 0x4990ca 0x5d8868 0x4997a2 0x4fd8b5 0x49abe4\n",
            "\u001b[K     |████████████████████████████████| 1837.7 MB 1.2 MB/s eta 0:00:01tcmalloc: large alloc 1837744128 bytes == 0xf4416000 @  0x7f766e2751e7 0x4d30a0 0x4d312c 0x5d6f4c 0x51edd1 0x51ef5b 0x4f750a 0x4997a2 0x55cd91 0x5d8941 0x4997a2 0x55cd91 0x5d8941 0x4997a2 0x55cd91 0x5d8941 0x4997a2 0x55cd91 0x5d8941 0x4997a2 0x55cd91 0x5d8941 0x4997a2 0x5d8868 0x4997a2 0x55cd91 0x5d8941 0x49abe4 0x4fd8b5 0x49abe4 0x55cd91\n",
            "tcmalloc: large alloc 2297184256 bytes == 0x161cb2000 @  0x7f766e276615 0x5d6f4c 0x51edd1 0x51ef5b 0x4f750a 0x4997a2 0x55cd91 0x5d8941 0x4997a2 0x55cd91 0x5d8941 0x4997a2 0x55cd91 0x5d8941 0x4997a2 0x55cd91 0x5d8941 0x4997a2 0x55cd91 0x5d8941 0x4997a2 0x5d8868 0x4997a2 0x55cd91 0x5d8941 0x49abe4 0x4fd8b5 0x49abe4 0x55cd91 0x5d8941 0x4fe318\n",
            "\u001b[K     |████████████████████████████████| 1837.7 MB 10 kB/s \n",
            "\u001b[?25hCollecting torchvision==0.13.1+cu113\n",
            "  Downloading https://download.pytorch.org/whl/cu113/torchvision-0.13.1%2Bcu113-cp38-cp38-linux_x86_64.whl (23.4 MB)\n",
            "\u001b[K     |████████████████████████████████| 23.4 MB 94.6 MB/s \n",
            "\u001b[?25hCollecting torchaudio==0.12.1\n",
            "  Downloading https://download.pytorch.org/whl/cu113/torchaudio-0.12.1%2Bcu113-cp38-cp38-linux_x86_64.whl (3.8 MB)\n",
            "\u001b[K     |████████████████████████████████| 3.8 MB 43.0 MB/s \n",
            "\u001b[?25hRequirement already satisfied: typing-extensions in /usr/local/lib/python3.8/dist-packages (from torch==1.12.1+cu113) (4.4.0)\n",
            "Requirement already satisfied: requests in /usr/local/lib/python3.8/dist-packages (from torchvision==0.13.1+cu113) (2.23.0)\n",
            "Requirement already satisfied: pillow!=8.3.*,>=5.3.0 in /usr/local/lib/python3.8/dist-packages (from torchvision==0.13.1+cu113) (7.1.2)\n",
            "Requirement already satisfied: numpy in /usr/local/lib/python3.8/dist-packages (from torchvision==0.13.1+cu113) (1.21.6)\n",
            "Requirement already satisfied: chardet<4,>=3.0.2 in /usr/local/lib/python3.8/dist-packages (from requests->torchvision==0.13.1+cu113) (3.0.4)\n",
            "Requirement already satisfied: certifi>=2017.4.17 in /usr/local/lib/python3.8/dist-packages (from requests->torchvision==0.13.1+cu113) (2022.12.7)\n",
            "Requirement already satisfied: urllib3!=1.25.0,!=1.25.1,<1.26,>=1.21.1 in /usr/local/lib/python3.8/dist-packages (from requests->torchvision==0.13.1+cu113) (1.24.3)\n",
            "Requirement already satisfied: idna<3,>=2.5 in /usr/local/lib/python3.8/dist-packages (from requests->torchvision==0.13.1+cu113) (2.10)\n",
            "Installing collected packages: torch, torchvision, torchaudio\n",
            "  Attempting uninstall: torch\n",
            "    Found existing installation: torch 1.13.0+cu116\n",
            "    Uninstalling torch-1.13.0+cu116:\n",
            "      Successfully uninstalled torch-1.13.0+cu116\n",
            "  Attempting uninstall: torchvision\n",
            "    Found existing installation: torchvision 0.14.0+cu116\n",
            "    Uninstalling torchvision-0.14.0+cu116:\n",
            "      Successfully uninstalled torchvision-0.14.0+cu116\n",
            "  Attempting uninstall: torchaudio\n",
            "    Found existing installation: torchaudio 0.13.0+cu116\n",
            "    Uninstalling torchaudio-0.13.0+cu116:\n",
            "      Successfully uninstalled torchaudio-0.13.0+cu116\n",
            "\u001b[31mERROR: pip's dependency resolver does not currently take into account all the packages that are installed. This behaviour is the source of the following dependency conflicts.\n",
            "torchtext 0.14.0 requires torch==1.13.0, but you have torch 1.12.1+cu113 which is incompatible.\u001b[0m\n",
            "Successfully installed torch-1.12.1+cu113 torchaudio-0.12.1+cu113 torchvision-0.13.1+cu113\n",
            "1.12.1+cu113\n",
            "\u001b[K     |████████████████████████████████| 8.9 MB 20.6 MB/s \n",
            "\u001b[K     |████████████████████████████████| 3.5 MB 28.0 MB/s \n",
            "\u001b[K     |████████████████████████████████| 512 kB 26.3 MB/s \n",
            "\u001b[K     |████████████████████████████████| 280 kB 72.8 MB/s \n",
            "\u001b[?25h  Building wheel for torch-geometric (setup.py) ... \u001b[?25l\u001b[?25hdone\n"
          ]
        }
      ],
      "source": [
        "# Install required packages.\n",
        "import os\n",
        "\n",
        "!pip install torch==1.12.1+cu113 torchvision==0.13.1+cu113 torchaudio==0.12.1 --extra-index-url https://download.pytorch.org/whl/cu113\n",
        "import torch\n",
        "os.environ['TORCH'] = torch.__version__\n",
        "print(torch.__version__)\n",
        "\n",
        "!pip install -q torch-scatter -f https://data.pyg.org/whl/torch-${TORCH}.html\n",
        "!pip install -q torch-sparse -f https://data.pyg.org/whl/torch-${TORCH}.html\n",
        "!pip install -q git+https://github.com/pyg-team/pytorch_geometric.git\n",
        "\n",
        "# Helper function for visualization.\n",
        "%matplotlib inline\n",
        "import networkx as nx\n",
        "import matplotlib.pyplot as plt\n"
      ]
    },
    {
      "cell_type": "code",
      "execution_count": null,
      "metadata": {
        "id": "reMyhxz40dp5",
        "colab": {
          "base_uri": "https://localhost:8080/"
        },
        "outputId": "d4262146-d4b8-456f-e103-9a4adefefe04"
      },
      "outputs": [
        {
          "output_type": "stream",
          "name": "stdout",
          "text": [
            "Looking in indexes: https://pypi.org/simple, https://us-python.pkg.dev/colab-wheels/public/simple/\n",
            "Collecting deepchem==2.6.1\n",
            "  Downloading deepchem-2.6.1-py3-none-any.whl (608 kB)\n",
            "\u001b[K     |████████████████████████████████| 608 kB 18.5 MB/s \n",
            "\u001b[?25hRequirement already satisfied: pandas in /usr/local/lib/python3.8/dist-packages (from deepchem==2.6.1) (1.3.5)\n",
            "Requirement already satisfied: scikit-learn in /usr/local/lib/python3.8/dist-packages (from deepchem==2.6.1) (1.0.2)\n",
            "Requirement already satisfied: scipy in /usr/local/lib/python3.8/dist-packages (from deepchem==2.6.1) (1.7.3)\n",
            "Collecting rdkit-pypi\n",
            "  Downloading rdkit_pypi-2022.9.3-cp38-cp38-manylinux_2_17_x86_64.manylinux2014_x86_64.whl (29.3 MB)\n",
            "\u001b[K     |████████████████████████████████| 29.3 MB 98.7 MB/s \n",
            "\u001b[?25hRequirement already satisfied: joblib in /usr/local/lib/python3.8/dist-packages (from deepchem==2.6.1) (1.2.0)\n",
            "Requirement already satisfied: numpy>=1.21 in /usr/local/lib/python3.8/dist-packages (from deepchem==2.6.1) (1.21.6)\n",
            "Requirement already satisfied: python-dateutil>=2.7.3 in /usr/local/lib/python3.8/dist-packages (from pandas->deepchem==2.6.1) (2.8.2)\n",
            "Requirement already satisfied: pytz>=2017.3 in /usr/local/lib/python3.8/dist-packages (from pandas->deepchem==2.6.1) (2022.6)\n",
            "Requirement already satisfied: six>=1.5 in /usr/local/lib/python3.8/dist-packages (from python-dateutil>=2.7.3->pandas->deepchem==2.6.1) (1.15.0)\n",
            "Requirement already satisfied: Pillow in /usr/local/lib/python3.8/dist-packages (from rdkit-pypi->deepchem==2.6.1) (7.1.2)\n",
            "Requirement already satisfied: threadpoolctl>=2.0.0 in /usr/local/lib/python3.8/dist-packages (from scikit-learn->deepchem==2.6.1) (3.1.0)\n",
            "Installing collected packages: rdkit-pypi, deepchem\n",
            "Successfully installed deepchem-2.6.1 rdkit-pypi-2022.9.3\n"
          ]
        }
      ],
      "source": [
        "pip install deepchem==2.6.1"
      ]
    },
    {
      "cell_type": "code",
      "execution_count": null,
      "metadata": {
        "id": "IP0tLwINx9ot"
      },
      "outputs": [],
      "source": [
        "import torch\n",
        "import pandas as pd\n",
        "import numpy as np\n",
        "import torch_geometric.transforms as T\n",
        "import torch_geometric\n",
        "from torch_geometric.data import Dataset\n",
        "import numpy as np \n",
        "import os\n",
        "import deepchem as dc\n",
        "import torch.nn as nn\n",
        "from torch.nn import Linear,BatchNorm1d\n",
        "from torch_geometric.nn import GCNConv,GATv2Conv\n",
        "from torch_geometric.nn import BatchNorm\n",
        "from tqdm import tqdm\n",
        "from torch_geometric.data import DataLoader\n",
        "from sklearn.metrics import roc_curve\n",
        "from sklearn.metrics import roc_auc_score\n",
        "from sklearn.metrics import precision_recall_curve\n",
        "from matplotlib import pyplot\n",
        "from sklearn import metrics\n",
        "from sklearn.preprocessing import label_binarize\n",
        "from sklearn.metrics import average_precision_score\n",
        "import seaborn as sns\n",
        "import pandas as pd \n",
        "from sklearn.metrics import f1_score\n",
        "from sklearn.metrics import confusion_matrix\n",
        "import math\n",
        "from sklearn.metrics import accuracy_score\n",
        "import warnings\n",
        "warnings.filterwarnings(\"ignore\")"
      ]
    },
    {
      "cell_type": "code",
      "execution_count": null,
      "metadata": {
        "colab": {
          "base_uri": "https://localhost:8080/",
          "height": 206
        },
        "id": "CKwOflB6YXiE",
        "outputId": "1546ebcc-1dc6-4b79-f3f8-648c5630891b"
      },
      "outputs": [
        {
          "output_type": "execute_result",
          "data": {
            "text/plain": [
              "   Unnamed: 0 Drug1_ID                                       Drug1_SMILES\n",
              "0           0  DB04571                CC1=CC2=CC3=C(OC(=O)C=C3C)C(C)=C2O1\n",
              "1           1  DB00460  COC(=O)CCC1=C2NC(\\C=C3/N=C(/C=C4\\N\\C(=C/C5=N/C...\n",
              "2           2  DB00855                                    NCC(=O)CCC(O)=O\n",
              "3           3  DB09536                                           O=[Ti]=O\n",
              "4           4  DB01600              CC(C(O)=O)C1=CC=C(S1)C(=O)C1=CC=CC=C1"
            ],
            "text/html": [
              "\n",
              "  <div id=\"df-152cc59f-5cfa-4011-86b9-a1b40aa8ae88\">\n",
              "    <div class=\"colab-df-container\">\n",
              "      <div>\n",
              "<style scoped>\n",
              "    .dataframe tbody tr th:only-of-type {\n",
              "        vertical-align: middle;\n",
              "    }\n",
              "\n",
              "    .dataframe tbody tr th {\n",
              "        vertical-align: top;\n",
              "    }\n",
              "\n",
              "    .dataframe thead th {\n",
              "        text-align: right;\n",
              "    }\n",
              "</style>\n",
              "<table border=\"1\" class=\"dataframe\">\n",
              "  <thead>\n",
              "    <tr style=\"text-align: right;\">\n",
              "      <th></th>\n",
              "      <th>Unnamed: 0</th>\n",
              "      <th>Drug1_ID</th>\n",
              "      <th>Drug1_SMILES</th>\n",
              "    </tr>\n",
              "  </thead>\n",
              "  <tbody>\n",
              "    <tr>\n",
              "      <th>0</th>\n",
              "      <td>0</td>\n",
              "      <td>DB04571</td>\n",
              "      <td>CC1=CC2=CC3=C(OC(=O)C=C3C)C(C)=C2O1</td>\n",
              "    </tr>\n",
              "    <tr>\n",
              "      <th>1</th>\n",
              "      <td>1</td>\n",
              "      <td>DB00460</td>\n",
              "      <td>COC(=O)CCC1=C2NC(\\C=C3/N=C(/C=C4\\N\\C(=C/C5=N/C...</td>\n",
              "    </tr>\n",
              "    <tr>\n",
              "      <th>2</th>\n",
              "      <td>2</td>\n",
              "      <td>DB00855</td>\n",
              "      <td>NCC(=O)CCC(O)=O</td>\n",
              "    </tr>\n",
              "    <tr>\n",
              "      <th>3</th>\n",
              "      <td>3</td>\n",
              "      <td>DB09536</td>\n",
              "      <td>O=[Ti]=O</td>\n",
              "    </tr>\n",
              "    <tr>\n",
              "      <th>4</th>\n",
              "      <td>4</td>\n",
              "      <td>DB01600</td>\n",
              "      <td>CC(C(O)=O)C1=CC=C(S1)C(=O)C1=CC=CC=C1</td>\n",
              "    </tr>\n",
              "  </tbody>\n",
              "</table>\n",
              "</div>\n",
              "      <button class=\"colab-df-convert\" onclick=\"convertToInteractive('df-152cc59f-5cfa-4011-86b9-a1b40aa8ae88')\"\n",
              "              title=\"Convert this dataframe to an interactive table.\"\n",
              "              style=\"display:none;\">\n",
              "        \n",
              "  <svg xmlns=\"http://www.w3.org/2000/svg\" height=\"24px\"viewBox=\"0 0 24 24\"\n",
              "       width=\"24px\">\n",
              "    <path d=\"M0 0h24v24H0V0z\" fill=\"none\"/>\n",
              "    <path d=\"M18.56 5.44l.94 2.06.94-2.06 2.06-.94-2.06-.94-.94-2.06-.94 2.06-2.06.94zm-11 1L8.5 8.5l.94-2.06 2.06-.94-2.06-.94L8.5 2.5l-.94 2.06-2.06.94zm10 10l.94 2.06.94-2.06 2.06-.94-2.06-.94-.94-2.06-.94 2.06-2.06.94z\"/><path d=\"M17.41 7.96l-1.37-1.37c-.4-.4-.92-.59-1.43-.59-.52 0-1.04.2-1.43.59L10.3 9.45l-7.72 7.72c-.78.78-.78 2.05 0 2.83L4 21.41c.39.39.9.59 1.41.59.51 0 1.02-.2 1.41-.59l7.78-7.78 2.81-2.81c.8-.78.8-2.07 0-2.86zM5.41 20L4 18.59l7.72-7.72 1.47 1.35L5.41 20z\"/>\n",
              "  </svg>\n",
              "      </button>\n",
              "      \n",
              "  <style>\n",
              "    .colab-df-container {\n",
              "      display:flex;\n",
              "      flex-wrap:wrap;\n",
              "      gap: 12px;\n",
              "    }\n",
              "\n",
              "    .colab-df-convert {\n",
              "      background-color: #E8F0FE;\n",
              "      border: none;\n",
              "      border-radius: 50%;\n",
              "      cursor: pointer;\n",
              "      display: none;\n",
              "      fill: #1967D2;\n",
              "      height: 32px;\n",
              "      padding: 0 0 0 0;\n",
              "      width: 32px;\n",
              "    }\n",
              "\n",
              "    .colab-df-convert:hover {\n",
              "      background-color: #E2EBFA;\n",
              "      box-shadow: 0px 1px 2px rgba(60, 64, 67, 0.3), 0px 1px 3px 1px rgba(60, 64, 67, 0.15);\n",
              "      fill: #174EA6;\n",
              "    }\n",
              "\n",
              "    [theme=dark] .colab-df-convert {\n",
              "      background-color: #3B4455;\n",
              "      fill: #D2E3FC;\n",
              "    }\n",
              "\n",
              "    [theme=dark] .colab-df-convert:hover {\n",
              "      background-color: #434B5C;\n",
              "      box-shadow: 0px 1px 3px 1px rgba(0, 0, 0, 0.15);\n",
              "      filter: drop-shadow(0px 1px 2px rgba(0, 0, 0, 0.3));\n",
              "      fill: #FFFFFF;\n",
              "    }\n",
              "  </style>\n",
              "\n",
              "      <script>\n",
              "        const buttonEl =\n",
              "          document.querySelector('#df-152cc59f-5cfa-4011-86b9-a1b40aa8ae88 button.colab-df-convert');\n",
              "        buttonEl.style.display =\n",
              "          google.colab.kernel.accessAllowed ? 'block' : 'none';\n",
              "\n",
              "        async function convertToInteractive(key) {\n",
              "          const element = document.querySelector('#df-152cc59f-5cfa-4011-86b9-a1b40aa8ae88');\n",
              "          const dataTable =\n",
              "            await google.colab.kernel.invokeFunction('convertToInteractive',\n",
              "                                                     [key], {});\n",
              "          if (!dataTable) return;\n",
              "\n",
              "          const docLinkHtml = 'Like what you see? Visit the ' +\n",
              "            '<a target=\"_blank\" href=https://colab.research.google.com/notebooks/data_table.ipynb>data table notebook</a>'\n",
              "            + ' to learn more about interactive tables.';\n",
              "          element.innerHTML = '';\n",
              "          dataTable['output_type'] = 'display_data';\n",
              "          await google.colab.output.renderOutput(dataTable, element);\n",
              "          const docLink = document.createElement('div');\n",
              "          docLink.innerHTML = docLinkHtml;\n",
              "          element.appendChild(docLink);\n",
              "        }\n",
              "      </script>\n",
              "    </div>\n",
              "  </div>\n",
              "  "
            ]
          },
          "metadata": {},
          "execution_count": 4
        }
      ],
      "source": [
        "data = pd.read_csv('raw/totalData.csv')\n",
        "data.head() "
      ]
    },
    {
      "cell_type": "code",
      "execution_count": null,
      "metadata": {
        "colab": {
          "base_uri": "https://localhost:8080/"
        },
        "id": "bGfB5EZPG_Ui",
        "outputId": "b6857cbd-caea-4564-be52-6847dc5dd192"
      },
      "outputs": [
        {
          "output_type": "stream",
          "name": "stderr",
          "text": [
            "Processing...\n",
            "  0%|          | 1/1705 [00:00<05:46,  4.92it/s]WARNING:deepchem.feat.base_classes:Failed to featurize datapoint 0, None. Appending empty array\n",
            "WARNING:deepchem.feat.base_classes:Exception message: Python argument types in\n",
            "    rdkit.Chem.rdmolfiles.CanonicalRankAtoms(NoneType)\n",
            "did not match C++ signature:\n",
            "    CanonicalRankAtoms(RDKit::ROMol mol, bool breakTies=True, bool includeChirality=True, bool includeIsotopes=True)\n",
            "  1%|          | 16/1705 [00:00<00:36, 46.29it/s]"
          ]
        },
        {
          "output_type": "stream",
          "name": "stdout",
          "text": [
            "6\n"
          ]
        },
        {
          "output_type": "stream",
          "name": "stderr",
          "text": [
            "  5%|▍         | 82/1705 [00:01<00:26, 60.67it/s]WARNING:deepchem.feat.base_classes:Failed to featurize datapoint 0, [Al]. Appending empty array\n",
            "WARNING:deepchem.feat.base_classes:Exception message: More than one atom should be present in the molecule for this featurizer to work.\n",
            "WARNING:deepchem.feat.base_classes:Failed to featurize datapoint 0, [Mg+2].[OH-].[OH-]. Appending empty array\n",
            "WARNING:deepchem.feat.base_classes:Exception message: zero-size array to reduction operation maximum which has no identity\n",
            "WARNING:deepchem.feat.base_classes:Failed to featurize datapoint 0, [Al+3].[OH-].[OH-].[OH-]. Appending empty array\n",
            "WARNING:deepchem.feat.base_classes:Exception message: zero-size array to reduction operation maximum which has no identity\n",
            "  5%|▌         | 89/1705 [00:02<00:25, 62.48it/s]WARNING:deepchem.feat.base_classes:Failed to featurize datapoint 0, [Mg+2].[O-2]. Appending empty array\n",
            "WARNING:deepchem.feat.base_classes:Exception message: zero-size array to reduction operation maximum which has no identity\n"
          ]
        },
        {
          "output_type": "stream",
          "name": "stdout",
          "text": [
            "82\n",
            "83\n",
            "85\n",
            "90\n"
          ]
        },
        {
          "output_type": "stream",
          "name": "stderr",
          "text": [
            " 51%|█████▏    | 878/1705 [00:20<00:08, 97.87it/s]WARNING:deepchem.feat.base_classes:Failed to featurize datapoint 0, None. Appending empty array\n",
            "WARNING:deepchem.feat.base_classes:Exception message: Python argument types in\n",
            "    rdkit.Chem.rdmolfiles.CanonicalRankAtoms(NoneType)\n",
            "did not match C++ signature:\n",
            "    CanonicalRankAtoms(RDKit::ROMol mol, bool breakTies=True, bool includeChirality=True, bool includeIsotopes=True)\n",
            " 52%|█████▏    | 889/1705 [00:20<00:08, 98.98it/s]"
          ]
        },
        {
          "output_type": "stream",
          "name": "stdout",
          "text": [
            "881\n"
          ]
        },
        {
          "output_type": "stream",
          "name": "stderr",
          "text": [
            " 58%|█████▊    | 986/1705 [00:21<00:05, 121.13it/s]WARNING:deepchem.feat.base_classes:Failed to featurize datapoint 0, [Li+]. Appending empty array\n",
            "WARNING:deepchem.feat.base_classes:Exception message: More than one atom should be present in the molecule for this featurizer to work.\n",
            " 59%|█████▉    | 1013/1705 [00:21<00:05, 124.35it/s]"
          ]
        },
        {
          "output_type": "stream",
          "name": "stdout",
          "text": [
            "987\n"
          ]
        },
        {
          "output_type": "stream",
          "name": "stderr",
          "text": [
            " 64%|██████▍   | 1094/1705 [00:23<00:15, 39.42it/s] WARNING:deepchem.feat.base_classes:Failed to featurize datapoint 0, [C]. Appending empty array\n",
            "WARNING:deepchem.feat.base_classes:Exception message: More than one atom should be present in the molecule for this featurizer to work.\n",
            " 65%|██████▌   | 1116/1705 [00:23<00:10, 57.36it/s]"
          ]
        },
        {
          "output_type": "stream",
          "name": "stdout",
          "text": [
            "1090\n"
          ]
        },
        {
          "output_type": "stream",
          "name": "stderr",
          "text": [
            "WARNING:deepchem.feat.base_classes:Failed to featurize datapoint 0, [I-].[K+]. Appending empty array\n",
            "WARNING:deepchem.feat.base_classes:Exception message: zero-size array to reduction operation maximum which has no identity\n",
            " 67%|██████▋   | 1137/1705 [00:23<00:08, 63.51it/s]"
          ]
        },
        {
          "output_type": "stream",
          "name": "stdout",
          "text": [
            "1116\n"
          ]
        },
        {
          "output_type": "stream",
          "name": "stderr",
          "text": [
            " 68%|██████▊   | 1166/1705 [00:24<00:08, 66.08it/s]WARNING:deepchem.feat.base_classes:Failed to featurize datapoint 0, None. Appending empty array\n",
            "WARNING:deepchem.feat.base_classes:Exception message: Python argument types in\n",
            "    rdkit.Chem.rdmolfiles.CanonicalRankAtoms(NoneType)\n",
            "did not match C++ signature:\n",
            "    CanonicalRankAtoms(RDKit::ROMol mol, bool breakTies=True, bool includeChirality=True, bool includeIsotopes=True)\n",
            " 70%|██████▉   | 1187/1705 [00:24<00:06, 76.67it/s]"
          ]
        },
        {
          "output_type": "stream",
          "name": "stdout",
          "text": [
            "1158\n"
          ]
        },
        {
          "output_type": "stream",
          "name": "stderr",
          "text": [
            " 72%|███████▏  | 1230/1705 [00:24<00:05, 81.39it/s]WARNING:deepchem.feat.base_classes:Failed to featurize datapoint 0, None. Appending empty array\n",
            "WARNING:deepchem.feat.base_classes:Exception message: Python argument types in\n",
            "    rdkit.Chem.rdmolfiles.CanonicalRankAtoms(NoneType)\n",
            "did not match C++ signature:\n",
            "    CanonicalRankAtoms(RDKit::ROMol mol, bool breakTies=True, bool includeChirality=True, bool includeIsotopes=True)\n",
            " 73%|███████▎  | 1239/1705 [00:25<00:07, 60.51it/s]WARNING:deepchem.feat.base_classes:Failed to featurize datapoint 0, [223Ra+2].[Cl-].[Cl-]. Appending empty array\n",
            "WARNING:deepchem.feat.base_classes:Exception message: zero-size array to reduction operation maximum which has no identity\n",
            " 73%|███████▎  | 1249/1705 [00:25<00:06, 68.35it/s]WARNING:deepchem.feat.base_classes:Failed to featurize datapoint 0, None. Appending empty array\n",
            "WARNING:deepchem.feat.base_classes:Exception message: Python argument types in\n",
            "    rdkit.Chem.rdmolfiles.CanonicalRankAtoms(NoneType)\n",
            "did not match C++ signature:\n",
            "    CanonicalRankAtoms(RDKit::ROMol mol, bool breakTies=True, bool includeChirality=True, bool includeIsotopes=True)\n"
          ]
        },
        {
          "output_type": "stream",
          "name": "stdout",
          "text": [
            "1225\n",
            "1230\n",
            "1238\n"
          ]
        },
        {
          "output_type": "stream",
          "name": "stderr",
          "text": [
            " 83%|████████▎ | 1423/1705 [00:27<00:02, 108.19it/s]WARNING:deepchem.feat.base_classes:Failed to featurize datapoint 0, [K+]. Appending empty array\n",
            "WARNING:deepchem.feat.base_classes:Exception message: More than one atom should be present in the molecule for this featurizer to work.\n",
            " 85%|████████▍ | 1446/1705 [00:27<00:02, 96.49it/s]"
          ]
        },
        {
          "output_type": "stream",
          "name": "stdout",
          "text": [
            "1417\n"
          ]
        },
        {
          "output_type": "stream",
          "name": "stderr",
          "text": [
            " 86%|████████▌ | 1469/1705 [00:27<00:02, 103.64it/s]WARNING:deepchem.feat.base_classes:Failed to featurize datapoint 0, [Ca+2].[Cl-].[Cl-]. Appending empty array\n",
            "WARNING:deepchem.feat.base_classes:Exception message: zero-size array to reduction operation maximum which has no identity\n",
            " 87%|████████▋ | 1480/1705 [00:27<00:02, 103.56it/s]WARNING:deepchem.feat.base_classes:Failed to featurize datapoint 0, [Fe]. Appending empty array\n",
            "WARNING:deepchem.feat.base_classes:Exception message: More than one atom should be present in the molecule for this featurizer to work.\n"
          ]
        },
        {
          "output_type": "stream",
          "name": "stdout",
          "text": [
            "1455\n",
            "1465\n"
          ]
        },
        {
          "output_type": "stream",
          "name": "stderr",
          "text": [
            " 89%|████████▉ | 1522/1705 [00:28<00:01, 93.59it/s]WARNING:deepchem.feat.base_classes:Failed to featurize datapoint 0, [Cl-].[K+]. Appending empty array\n",
            "WARNING:deepchem.feat.base_classes:Exception message: zero-size array to reduction operation maximum which has no identity\n",
            "WARNING:deepchem.feat.base_classes:Failed to featurize datapoint 0, [Cl-].[NH4+]. Appending empty array\n",
            "WARNING:deepchem.feat.base_classes:Exception message: zero-size array to reduction operation maximum which has no identity\n",
            " 90%|████████▉ | 1532/1705 [00:28<00:01, 92.24it/s]WARNING:deepchem.feat.base_classes:Failed to featurize datapoint 0, [Cl-].[Na+]. Appending empty array\n",
            "WARNING:deepchem.feat.base_classes:Exception message: zero-size array to reduction operation maximum which has no identity\n",
            " 90%|█████████ | 1543/1705 [00:28<00:01, 94.66it/s]"
          ]
        },
        {
          "output_type": "stream",
          "name": "stdout",
          "text": [
            "1508\n",
            "1510\n",
            "1516\n"
          ]
        },
        {
          "output_type": "stream",
          "name": "stderr",
          "text": [
            " 93%|█████████▎| 1593/1705 [00:30<00:03, 36.62it/s]WARNING:deepchem.feat.base_classes:Failed to featurize datapoint 0, [131I-]. Appending empty array\n",
            "WARNING:deepchem.feat.base_classes:Exception message: More than one atom should be present in the molecule for this featurizer to work.\n",
            " 94%|█████████▍| 1604/1705 [00:30<00:02, 41.57it/s]"
          ]
        },
        {
          "output_type": "stream",
          "name": "stdout",
          "text": [
            "1579\n"
          ]
        },
        {
          "output_type": "stream",
          "name": "stderr",
          "text": [
            " 98%|█████████▊| 1672/1705 [00:31<00:00, 85.90it/s]WARNING:deepchem.feat.base_classes:Failed to featurize datapoint 0, [Mg+2]. Appending empty array\n",
            "WARNING:deepchem.feat.base_classes:Exception message: More than one atom should be present in the molecule for this featurizer to work.\n",
            " 99%|█████████▊| 1683/1705 [00:31<00:00, 91.04it/s]WARNING:deepchem.feat.base_classes:Failed to featurize datapoint 0, [Cu]. Appending empty array\n",
            "WARNING:deepchem.feat.base_classes:Exception message: More than one atom should be present in the molecule for this featurizer to work.\n",
            "WARNING:deepchem.feat.base_classes:Failed to featurize datapoint 0, [Se]. Appending empty array\n",
            "WARNING:deepchem.feat.base_classes:Exception message: More than one atom should be present in the molecule for this featurizer to work.\n",
            "100%|█████████▉| 1698/1705 [00:31<00:00, 106.12it/s]WARNING:deepchem.feat.base_classes:Failed to featurize datapoint 0, [Al+3].[Al+3].[O-2].[O-2].[O-2]. Appending empty array\n",
            "WARNING:deepchem.feat.base_classes:Exception message: zero-size array to reduction operation maximum which has no identity\n",
            "WARNING:deepchem.feat.base_classes:Failed to featurize datapoint 0, [Cr]. Appending empty array\n",
            "WARNING:deepchem.feat.base_classes:Exception message: More than one atom should be present in the molecule for this featurizer to work.\n"
          ]
        },
        {
          "output_type": "stream",
          "name": "stdout",
          "text": [
            "1657\n",
            "1660\n",
            "1668\n",
            "1671\n",
            "1671\n"
          ]
        },
        {
          "output_type": "stream",
          "name": "stderr",
          "text": [
            "\r100%|██████████| 1705/1705 [00:32<00:00, 52.15it/s] \n",
            "Done!\n"
          ]
        }
      ],
      "source": [
        "remove = []\n",
        "\n",
        "class MoleculeDataset(Dataset):\n",
        "    def __init__(self, root, filename, test=False, transform=None, pre_transform=None):\n",
        "        \"\"\"\n",
        "        root = Where the dataset should be stored. This folder is split\n",
        "        into raw_dir (downloaded dataset) and processed_dir (processed data). \n",
        "        \"\"\"\n",
        "        self.test = test\n",
        "        self.filename = filename\n",
        "        self.sz = 0\n",
        "        super(MoleculeDataset, self).__init__(root, transform, pre_transform)\n",
        "        \n",
        "    @property\n",
        "    def raw_file_names(self):\n",
        "        \"\"\" If this file exists in raw_dir, the download is not triggered.\n",
        "            (The download func. is not implemented here)  \n",
        "        \"\"\"\n",
        "        return self.filename\n",
        "\n",
        "    @property\n",
        "    def processed_file_names(self):\n",
        "        \"\"\" If these files are found in raw_dir, processing is skipped\"\"\"\n",
        "        self.data = pd.read_csv(self.raw_paths[0]).reset_index()\n",
        "\n",
        "        if self.test:\n",
        "            return [f'data_test_{i}.pt' for i in list(self.data.index)]\n",
        "        else:\n",
        "            return [f'data_{i}.pt' for i in list(self.data.index)]\n",
        "        \n",
        "\n",
        "    def download(self):\n",
        "        pass\n",
        "\n",
        "    def process(self):\n",
        "        self.data = pd.read_csv(self.raw_paths[0]).reset_index()\n",
        "        featurizer = dc.feat.MolGraphConvFeaturizer(use_edges=True)\n",
        "        count = 0\n",
        "        for index, mol in tqdm(self.data.iterrows(), total=self.data.shape[0]):\n",
        "            # Featurize molecule\n",
        "            if type(mol[\"Drug1_SMILES\"])==float:\n",
        "              remove.append(mol[\"Drug1_ID\"])\n",
        "              continue\n",
        "            f = featurizer.featurize(mol[\"Drug1_SMILES\"])\n",
        "            if not f : \n",
        "              remove.append(mol[\"Drug1_ID\"])\n",
        "              print(count)\n",
        "              continue\n",
        "            data = f[0].to_pyg_graph()\n",
        "            data.y = 1\n",
        "            data.smiles = mol[\"Drug1_SMILES\"]\n",
        "            data.id = mol[\"Drug1_ID\"]\n",
        "            if self.test:\n",
        "                torch.save(data, \n",
        "                    os.path.join(self.processed_dir, \n",
        "                                f'data_test_{count}.pt'))\n",
        "            else:\n",
        "                torch.save(data, \n",
        "                    os.path.join(self.processed_dir, \n",
        "                                f'data_{count}.pt'))\n",
        "            count+=1\n",
        "        self.sz = count\n",
        "\n",
        "    def _get_label(self, label):\n",
        "        label = np.asarray([label])\n",
        "        return torch.tensor(label, dtype=torch.int64)\n",
        "\n",
        "    def len(self):\n",
        "        return self.sz\n",
        "        #return self.data.shape[0]\n",
        "\n",
        "    def get(self, idx):\n",
        "        \"\"\" - Equivalent to __getitem__ in pytorch\n",
        "            - Is not needed for PyG's InMemoryDataset\n",
        "        \"\"\"\n",
        "        if self.test:\n",
        "            data = torch.load(os.path.join(self.processed_dir, \n",
        "                                 f'data_test_{idx}.pt'))\n",
        "        else:\n",
        "            data = torch.load(os.path.join(self.processed_dir, \n",
        "                                 f'data_{idx}.pt'))        \n",
        "        return data\n",
        "\n",
        "encoder_set = MoleculeDataset(\"\",\"totalData.csv\")"
      ]
    },
    {
      "cell_type": "code",
      "execution_count": null,
      "metadata": {
        "colab": {
          "base_uri": "https://localhost:8080/"
        },
        "id": "4z9BanO9FdDi",
        "outputId": "e132edd4-213a-4d8f-c3da-6c3da5824633"
      },
      "outputs": [
        {
          "output_type": "execute_result",
          "data": {
            "text/plain": [
              "device(type='cpu')"
            ]
          },
          "metadata": {},
          "execution_count": 6
        }
      ],
      "source": [
        "device = torch.device(\"cuda:0\" if torch.cuda.is_available() else \"cpu\")\n",
        "device"
      ]
    },
    {
      "cell_type": "code",
      "source": [
        "len(encoder_set)"
      ],
      "metadata": {
        "colab": {
          "base_uri": "https://localhost:8080/"
        },
        "id": "_EDXwaKhaWeB",
        "outputId": "ecb59e82-7e9e-45f4-8a13-f9bf708ef4b6"
      },
      "execution_count": null,
      "outputs": [
        {
          "output_type": "execute_result",
          "data": {
            "text/plain": [
              "1676"
            ]
          },
          "metadata": {},
          "execution_count": 7
        }
      ]
    },
    {
      "cell_type": "code",
      "execution_count": null,
      "metadata": {
        "colab": {
          "base_uri": "https://localhost:8080/"
        },
        "id": "vRR5eksOs07x",
        "outputId": "d45ffc39-325d-465f-dd89-b3fac3a15ed1"
      },
      "outputs": [
        {
          "output_type": "stream",
          "name": "stdout",
          "text": [
            "GVAE(\n",
            "  (conv1): GATv2Conv(30, 64, heads=4)\n",
            "  (bn1): BatchNorm(64)\n",
            "  (conv2): GATv2Conv(64, 64, heads=4)\n",
            "  (bn2): BatchNorm(64)\n",
            "  (conv3): GATv2Conv(64, 64, heads=4)\n",
            "  (bn3): BatchNorm(64)\n",
            "  (mu_transform): GATv2Conv(64, 8, heads=4)\n",
            "  (logvar_transform): GATv2Conv(64, 8, heads=4)\n",
            "  (decoder_dense_2): Linear(in_features=16, out_features=64, bias=True)\n",
            "  (decoder_bn_2): BatchNorm1d(64, eps=1e-05, momentum=0.1, affine=True, track_running_stats=True)\n",
            "  (decoder_dense_3): Linear(in_features=16, out_features=64, bias=True)\n",
            "  (decoder_bn_3): BatchNorm1d(64, eps=1e-05, momentum=0.1, affine=True, track_running_stats=True)\n",
            "  (decoder_dense_4): Linear(in_features=64, out_features=1, bias=True)\n",
            ")\n",
            "Number of parameters:  103825\n"
          ]
        }
      ],
      "source": [
        "class GVAE(nn.Module):\n",
        "    def __init__(self, feature_size):\n",
        "        super(GVAE, self).__init__()\n",
        "        self.encoder_embedding_size = 64\n",
        "        edge_dim = 11\n",
        "        self.latent_embedding_size = 8\n",
        "        self.decoder_hidden_neurons = 64\n",
        "        decoder_size = 64\n",
        "\n",
        "        # Encoder layers\n",
        "        # self.conv1 = GCNConv(feature_size, self.encoder_embedding_size)\n",
        "        self.conv1 = GATv2Conv(feature_size, self.encoder_embedding_size,\n",
        "                             edge_dim=edge_dim, heads=4, concat=False, beta=True)\n",
        "        self.bn1 = BatchNorm(self.encoder_embedding_size)\n",
        "        self.conv2 = GATv2Conv(self.encoder_embedding_size, self.encoder_embedding_size,\n",
        "                             edge_dim=edge_dim, heads=4, concat=False, beta=True)\n",
        "        self.bn2 = BatchNorm(self.encoder_embedding_size)\n",
        "        self.conv3 = GATv2Conv(self.encoder_embedding_size, self.encoder_embedding_size,\n",
        "                             edge_dim=edge_dim, heads=4, concat=False, beta=True)\n",
        "        self.bn3 = BatchNorm(self.encoder_embedding_size)\n",
        "        \n",
        "\n",
        "        # Latent transform layers\n",
        "        self.mu_transform = GATv2Conv(self.encoder_embedding_size, self.latent_embedding_size, \n",
        "                                   heads=4, concat=False, beta=True, edge_dim=edge_dim)\n",
        "        self.logvar_transform = GATv2Conv(self.encoder_embedding_size, self.latent_embedding_size, \n",
        "                                       heads=4, concat=False, beta=True, edge_dim=edge_dim)\n",
        "        \n",
        "\n",
        "        \n",
        "        self.decoder_dense_2 = Linear(self.latent_embedding_size*2, decoder_size)\n",
        "        self.decoder_bn_2 = BatchNorm1d(decoder_size)\n",
        "        self.decoder_dense_3 = Linear(self.latent_embedding_size*2, decoder_size)\n",
        "        self.decoder_bn_3 = BatchNorm1d(decoder_size)\n",
        "        self.decoder_dense_4 = Linear(decoder_size, 1)\n",
        "        \n",
        "\n",
        "    def encode(self, x, edge_attr, edge_index, batch_index):\n",
        "        # GNN layers\n",
        "        x = self.conv1(x, edge_index, edge_attr).relu()\n",
        "        # x = self.conv1(x, edge_index, edge_attr).relu()\n",
        "        x = self.bn1(x)\n",
        "        x = self.conv2(x, edge_index, edge_attr).relu()\n",
        "        x = self.bn2(x)\n",
        "        x = self.conv3(x, edge_index, edge_attr).relu()\n",
        "        x = self.bn3(x)\n",
        "        \n",
        "        # Latent transform layers\n",
        "        mu = self.mu_transform(x, edge_index, edge_attr)\n",
        "        logvar = self.logvar_transform(x, edge_index, edge_attr)\n",
        "        return mu, logvar\n",
        "\n",
        "\n",
        "    def decode(self, z, batch_index):\n",
        "        \"\"\"\n",
        "        Takes n latent vectors (one per node) and decodes them\n",
        "        into the upper triangular part of their adjacency matrix.\n",
        "        \"\"\"\n",
        "        inputs = []\n",
        "\n",
        "        # Iterate over molecules in batch\n",
        "        for graph_id in torch.unique(batch_index):\n",
        "            graph_mask = torch.eq(batch_index, graph_id)\n",
        "            graph_z = z[graph_mask]\n",
        "\n",
        "            # Get indices for triangular upper part of adjacency matrix\n",
        "            # graph_z.shape[0] = number of nodes | triu_indices()=gives edge_indices for the graph\n",
        "            edge_indices = torch.triu_indices(graph_z.shape[0], graph_z.shape[0], offset=1)\n",
        "\n",
        "            # Repeat indices to match dim of latent codes\n",
        "            dim = self.latent_embedding_size\n",
        "            source_indices = torch.reshape(edge_indices[0].repeat_interleave(dim), (edge_indices.shape[1], dim))\n",
        "            target_indices = torch.reshape(edge_indices[1].repeat_interleave(dim), (edge_indices.shape[1], dim))\n",
        "\n",
        "            # Gather features=sampled latent vectors\n",
        "            sources_feats = torch.gather(graph_z, 0, source_indices.to(device))\n",
        "            target_feats = torch.gather(graph_z, 0, target_indices.to(device))\n",
        "\n",
        "            # Concatenate inputs of all source and target nodes\n",
        "            # graph_input shape = [no of pairs of nodes, dimension of each pair]\n",
        "            graph_inputs = torch.cat([sources_feats, target_feats], axis=1)\n",
        "            inputs.append(graph_inputs)\n",
        "\n",
        "        # Concatenate all inputs of all graphs in the batch\n",
        "        inputs = torch.cat(inputs)\n",
        "\n",
        "        x = self.decoder_dense_2(inputs).relu()\n",
        "        x = self.decoder_bn_2(x)\n",
        "        x = self.decoder_dense_3(inputs).relu()\n",
        "        x = self.decoder_bn_3(x)\n",
        "        edge_logits = self.decoder_dense_4(x)\n",
        "   \n",
        "\n",
        "        return edge_logits\n",
        "\n",
        "\n",
        "    def reparameterize(self, mu, logvar):\n",
        "        \"\"\"\n",
        "        The reparametrization trick is required to \n",
        "        backpropagate through the network.\n",
        "        We cannot backpropagate through a \"sampled\"\n",
        "        node as it is not deterministic.\n",
        "        The trick is to separate the randomness\n",
        "        from the network.\n",
        "        \"\"\"\n",
        "        if self.training:\n",
        "            # Get standard deviation\n",
        "            std = torch.exp(logvar)\n",
        "            # Returns random numbers from a normal distribution\n",
        "            eps = torch.randn_like(std)\n",
        "            # Return sampled values\n",
        "            return eps.mul(std).add_(mu)\n",
        "        else:\n",
        "            return mu\n",
        "\n",
        "    def forward(self, x, edge_attr, edge_index, batch_index):\n",
        "        # Encode the molecule\n",
        "        mu, logvar = self.encode(x, edge_attr, edge_index, batch_index)\n",
        "        # Sample latent vector (per atom)\n",
        "        z = self.reparameterize(mu, logvar)\n",
        "        # Decode latent vector into original molecule\n",
        "        triu_logits = self.decode(z, batch_index) #output=triangular upper part of the matrix\n",
        "\n",
        "        return triu_logits, mu, logvar\n",
        "\n",
        "    \n",
        "   \n",
        "model = GVAE(feature_size=encoder_set[0].x.shape[1])\n",
        "print(model)\n",
        "print(\"Number of parameters: \", sum(p.numel() for p in model.parameters()))"
      ]
    },
    {
      "cell_type": "code",
      "execution_count": null,
      "metadata": {
        "id": "AA-p2HHsLPBG"
      },
      "outputs": [],
      "source": [
        "from torch_geometric.data import DataLoader\n",
        "\n",
        "data_size = len(encoder_set)\n",
        "NUM_GRAPHS_PER_BATCH = 64\n",
        "frac = 0.8\n",
        "train_loader = DataLoader(encoder_set[:int(data_size * frac)], \n",
        "                    batch_size=NUM_GRAPHS_PER_BATCH, shuffle=True)\n",
        "test_loader = DataLoader(encoder_set[int(data_size * frac):], \n",
        "                         batch_size=NUM_GRAPHS_PER_BATCH, shuffle=True)\n",
        "\n",
        "\n",
        "model = model.to(device)\n"
      ]
    },
    {
      "cell_type": "code",
      "execution_count": null,
      "metadata": {
        "id": "Bs7VvcwZgI11"
      },
      "outputs": [],
      "source": [
        "from torch_geometric.utils import to_dense_adj\n",
        "\n",
        "def kl_loss(mu=None, logstd=None):\n",
        "    \"\"\"\n",
        "    Closed formula of the KL divergence for normal distributions\n",
        "    \"\"\"\n",
        "    MAX_LOGSTD = 10\n",
        "    logstd =  logstd.clamp(max=MAX_LOGSTD)\n",
        "    kl_div = -0.5 * torch.mean(torch.sum(1 + 2 * logstd - mu**2 - logstd.exp()**2, dim=1))\n",
        "\n",
        "    # Limit numeric errors\n",
        "    kl_div = kl_div.clamp(max=1000)\n",
        "    return kl_div\n",
        "\n",
        "def slice_graph_targets(graph_id, batch_targets, batch_index):\n",
        "    # Create mask for nodes of this graph id\n",
        "    graph_mask = torch.eq(batch_index, graph_id)\n",
        "    # Row slice and column slice batch targets to get graph targets\n",
        "    graph_targets = batch_targets[graph_mask][:, graph_mask]\n",
        "    # Get triangular upper part of adjacency matrix for targets\n",
        "    triu_indices = torch.triu_indices(graph_targets.shape[0], graph_targets.shape[0], offset=1)\n",
        "    triu_mask = torch.squeeze(to_dense_adj(triu_indices)).bool()\n",
        "    return graph_targets[triu_mask]\n",
        "\n",
        "def slice_graph_predictions(triu_logits, graph_triu_size, start_point):\n",
        "\n",
        "    graph_logits_triu = torch.squeeze(triu_logits[start_point:start_point + graph_triu_size])  \n",
        "    return graph_logits_triu\n",
        "\n",
        "def slice_node_features(graph_id, node_features, batch_index):\n",
        "    # Create mask for nodes of this graph id\n",
        "    graph_mask = torch.eq(batch_index, graph_id)\n",
        "    graph_node_features = node_features[graph_mask]\n",
        "    return graph_node_features\n",
        "\n",
        "  \n",
        "\n",
        "def gvae_loss(triu_logits, edge_index, mu, logvar, batch_index, kl_beta):\n",
        "    \"\"\"\n",
        "    Calculates a weighted ELBO loss for a batch of graphs for the graph\n",
        "    variational autoencoder model.\n",
        "    \"\"\"\n",
        "    # Convert target edge index to dense adjacency matrix\n",
        "    batch_targets = torch.squeeze(to_dense_adj(edge_index))\n",
        "\n",
        "    # Reconstruction loss per graph\n",
        "    batch_recon_loss = []\n",
        "    batch_node_counter = 0\n",
        "\n",
        "    # Loop over graphs in this batch\n",
        "    for graph_id in torch.unique(batch_index):\n",
        "        # Get upper triangular targets for this graph from the whole batch\n",
        "        graph_targets_triu = slice_graph_targets(graph_id, \n",
        "                                                batch_targets, \n",
        "                                                batch_index)\n",
        "\n",
        "        # Get upper triangular predictions for this graph from the whole batch\n",
        "        graph_predictions_triu = slice_graph_predictions(triu_logits, \n",
        "                                                        graph_targets_triu.shape[0], \n",
        "                                                        batch_node_counter)\n",
        "        \n",
        "        # Update counter to the index of the next graph\n",
        "        batch_node_counter = batch_node_counter + graph_targets_triu.shape[0]\n",
        "\n",
        "        # Calculate edge-weighted binary cross entropy\n",
        "        weight = graph_targets_triu.shape[0]/sum(graph_targets_triu)\n",
        "        bce = torch.nn.BCEWithLogitsLoss(pos_weight=weight).to(device)\n",
        "        graph_recon_loss = bce(graph_predictions_triu.view(-1), graph_targets_triu.view(-1))\n",
        "        batch_recon_loss.append(graph_recon_loss)   \n",
        "\n",
        "    # Take average of all losses\n",
        "    num_graphs = torch.unique(batch_index).shape[0]\n",
        "    batch_recon_loss = sum(batch_recon_loss) / num_graphs\n",
        "    \n",
        "    # KL Divergence\n",
        "    kl_divergence = kl_loss(mu, logvar)\n",
        "\n",
        "    return batch_recon_loss + kl_beta * kl_divergence, kl_divergence\n",
        "\n",
        "\n",
        "def reconstruction_accuracy(triu_logits, edge_index, batch_index, node_features):\n",
        "    # Convert edge index to adjacency matrix\n",
        "    batch_targets = torch.squeeze(to_dense_adj(edge_index))\n",
        "    # Store target trius\n",
        "    batch_targets_triu = []\n",
        "    # Iterate over batch and collect each of the trius\n",
        "    batch_node_counter = 0\n",
        "    num_recon = 0\n",
        "    for graph_id in torch.unique(batch_index):\n",
        "        # Get triu parts for this graph\n",
        "        graph_targets_triu = slice_graph_targets(graph_id, \n",
        "                                                batch_targets, \n",
        "                                                batch_index)\n",
        "        graph_predictions_triu = slice_graph_predictions(triu_logits, \n",
        "                                                        graph_targets_triu.shape[0], \n",
        "                                                        batch_node_counter)\n",
        "\n",
        "        # Update counter to the index of the next graph\n",
        "        batch_node_counter = batch_node_counter + graph_targets_triu.shape[0]\n",
        "\n",
        "        # Slice node features of this batch\n",
        "        graph_node_features = slice_node_features(graph_id, node_features, batch_index)\n",
        "\n",
        "        # Check if graph is successfully reconstructed\n",
        "        num_nodes = sum(torch.eq(batch_index, graph_id))\n",
        "      \n",
        "        batch_targets_triu.append(graph_targets_triu)\n",
        "        \n",
        "    batch_targets_triu = torch.cat(batch_targets_triu).detach()\n",
        "    triu_discrete = torch.squeeze(torch.tensor(torch.sigmoid(triu_logits) > 0.5, dtype=torch.int32))\n",
        "    acc = torch.true_divide(torch.sum(batch_targets_triu==triu_discrete), batch_targets_triu.shape[0]) \n",
        "    return acc.detach().cpu().numpy(), num_recon\n",
        "    \n",
        "\n",
        "\n"
      ]
    },
    {
      "cell_type": "code",
      "execution_count": null,
      "metadata": {
        "id": "HPQGg31JLT0f"
      },
      "outputs": [],
      "source": [
        "loss_fn = gvae_loss\n",
        "optimizer = torch.optim.Adam(model.parameters(), lr=0.002)\n",
        "kl_beta = 0.005"
      ]
    },
    {
      "cell_type": "code",
      "execution_count": null,
      "metadata": {
        "id": "NlrCct9vLkA4"
      },
      "outputs": [],
      "source": [
        "def run_one_epoch(data_loader, type, epoch, kl_beta):\n",
        "    # Store per batch loss and accuracy \n",
        "    all_losses = []\n",
        "    all_accs = []\n",
        "\n",
        "    # Iterate over data loader\n",
        "    for i, batch in enumerate(tqdm(data_loader)):\n",
        "        # Some of the data points have invalid adjacency matrices \n",
        "        try:\n",
        "            # Use GPU\n",
        "            batch.to(device)  \n",
        "            # Reset gradients\n",
        "            optimizer.zero_grad() \n",
        "            # Call model\n",
        "            triu_logits, mu, logvar = model(batch.x.float(), \n",
        "                                            batch.edge_attr.float(),\n",
        "                                            batch.edge_index, \n",
        "                                            batch.batch) \n",
        "            # Calculate loss and backpropagate\n",
        "            loss, kl_div = loss_fn(triu_logits, batch.edge_index, mu, logvar, batch.batch, kl_beta)\n",
        "            if type == \"Train\":\n",
        "                loss.backward()  \n",
        "                optimizer.step()  \n",
        "            # Calculate metrics\n",
        "            acc = reconstruction_accuracy(triu_logits, batch.edge_index, batch.batch, batch.x.float())\n",
        "            \n",
        "\n",
        "            # Store loss and metrics\n",
        "            all_losses.append(loss.detach().cpu().numpy())\n",
        "            all_accs.append(acc)\n",
        "            \n",
        "            \n",
        "\n",
        "        except IndexError as error:\n",
        "            # For a few graphs the edge information is not correct\n",
        "            # Simply skip the batch containing those\n",
        "            print(\"Error: \", error)\n",
        "    \n",
        "    print(f\"{type} epoch {epoch} loss: \", np.array(all_losses).mean())\n",
        "    print(f\"{type} epoch {epoch} accuracy: \", np.array(all_accs).mean())\n",
        "   "
      ]
    },
    {
      "cell_type": "code",
      "execution_count": null,
      "metadata": {
        "id": "2vXLu09qLsXb",
        "colab": {
          "base_uri": "https://localhost:8080/"
        },
        "outputId": "9c5649dc-bf14-47e6-a6c5-e06ea46b5922"
      },
      "outputs": [
        {
          "output_type": "stream",
          "name": "stderr",
          "text": [
            "100%|██████████| 21/21 [00:16<00:00,  1.30it/s]\n"
          ]
        },
        {
          "output_type": "stream",
          "name": "stdout",
          "text": [
            "Train epoch 0 loss:  0.35481474\n",
            "Train epoch 0 accuracy:  0.45709803984278724\n",
            "test epoch...\n"
          ]
        },
        {
          "output_type": "stream",
          "name": "stderr",
          "text": [
            "100%|██████████| 6/6 [00:04<00:00,  1.22it/s]\n"
          ]
        },
        {
          "output_type": "stream",
          "name": "stdout",
          "text": [
            "Test epoch 0 loss:  0.36904898\n",
            "Test epoch 0 accuracy:  0.4438093801339467\n"
          ]
        },
        {
          "output_type": "stream",
          "name": "stderr",
          "text": [
            "100%|██████████| 21/21 [00:16<00:00,  1.26it/s]\n"
          ]
        },
        {
          "output_type": "stream",
          "name": "stdout",
          "text": [
            "Train epoch 1 loss:  0.33954892\n",
            "Train epoch 1 accuracy:  0.4588060748009455\n"
          ]
        },
        {
          "output_type": "stream",
          "name": "stderr",
          "text": [
            "100%|██████████| 21/21 [00:16<00:00,  1.24it/s]\n"
          ]
        },
        {
          "output_type": "stream",
          "name": "stdout",
          "text": [
            "Train epoch 2 loss:  0.33362544\n",
            "Train epoch 2 accuracy:  0.4596736204056513\n"
          ]
        },
        {
          "output_type": "stream",
          "name": "stderr",
          "text": [
            "100%|██████████| 21/21 [00:16<00:00,  1.28it/s]\n"
          ]
        },
        {
          "output_type": "stream",
          "name": "stdout",
          "text": [
            "Train epoch 3 loss:  0.32738945\n",
            "Train epoch 3 accuracy:  0.46095635635512217\n"
          ]
        },
        {
          "output_type": "stream",
          "name": "stderr",
          "text": [
            "100%|██████████| 21/21 [00:18<00:00,  1.15it/s]\n"
          ]
        },
        {
          "output_type": "stream",
          "name": "stdout",
          "text": [
            "Train epoch 4 loss:  0.3165987\n",
            "Train epoch 4 accuracy:  0.46200789014498395\n"
          ]
        },
        {
          "output_type": "stream",
          "name": "stderr",
          "text": [
            "100%|██████████| 21/21 [00:16<00:00,  1.29it/s]\n"
          ]
        },
        {
          "output_type": "stream",
          "name": "stdout",
          "text": [
            "Train epoch 5 loss:  0.31292105\n",
            "Train epoch 5 accuracy:  0.46290324557395207\n",
            "test epoch...\n"
          ]
        },
        {
          "output_type": "stream",
          "name": "stderr",
          "text": [
            "100%|██████████| 6/6 [00:04<00:00,  1.25it/s]"
          ]
        },
        {
          "output_type": "stream",
          "name": "stdout",
          "text": [
            "Test epoch 5 loss:  0.34143218\n",
            "Test epoch 5 accuracy:  0.4490105261405309\n"
          ]
        },
        {
          "output_type": "stream",
          "name": "stderr",
          "text": [
            "\n"
          ]
        }
      ],
      "source": [
        "for epoch in range(6): \n",
        "  model.train()\n",
        "  run_one_epoch(train_loader, type=\"Train\", epoch=epoch, kl_beta=kl_beta)\n",
        "  if epoch % 5 == 0:\n",
        "      print(\"test epoch...\")\n",
        "      model.eval()\n",
        "      run_one_epoch(test_loader, type=\"Test\", epoch=epoch, kl_beta=kl_beta)"
      ]
    },
    {
      "cell_type": "code",
      "execution_count": null,
      "metadata": {
        "colab": {
          "base_uri": "https://localhost:8080/"
        },
        "id": "c0ztMzzL_rle",
        "outputId": "9dc4bcfe-52e6-48ba-b9e2-dea8d657f085"
      },
      "outputs": [
        {
          "output_type": "stream",
          "name": "stdout",
          "text": [
            "done!!!\n"
          ]
        }
      ],
      "source": [
        "NUM_GRAPHS_PER_BATCH = 1\n",
        "loader = DataLoader(encoder_set, \n",
        "                    batch_size=NUM_GRAPHS_PER_BATCH, shuffle=False)\n",
        "\n",
        "dictval = {}\n",
        "for batch in loader : \n",
        "  batch.to(device)\n",
        "  decode_pred, mu, logvar = model(batch.x.float(), \n",
        "                            batch.edge_attr.float(),\n",
        "                            batch.edge_index, \n",
        "                            batch.batch) \n",
        "  \n",
        "  \n",
        "  dictval[batch.id[0]] = [mu,logvar]\n",
        "  \n",
        "print(\"done!!!\")      "
      ]
    },
    {
      "cell_type": "code",
      "execution_count": null,
      "metadata": {
        "colab": {
          "base_uri": "https://localhost:8080/",
          "height": 322
        },
        "id": "zpC4B4TsfPeL",
        "outputId": "4f2f1758-73ed-4e58-bbbc-d6b83d7806b3"
      },
      "outputs": [
        {
          "output_type": "execute_result",
          "data": {
            "text/plain": [
              "   Unnamed: 0  Unnamed: 0.1  index  Unnamed: 0.1.1 Drug1_ID  \\\n",
              "0           0         81088  18331           47029  DB00420   \n",
              "1           1        109505  46748          160842  DB00289   \n",
              "2           2         11901  11901           79706  DB00492   \n",
              "3           3        121325  58568          172662  DB09049   \n",
              "4           4         43610  43610          111415  DB08897   \n",
              "\n",
              "                                        Drug1_SMILES Drug2_ID  \\\n",
              "0                 CN(C)CCCN1C2=CC=CC=C2SC2=CC=CC=C12  DB09119   \n",
              "1               CNCC[C@@H](OC1=CC=CC=C1C)C1=CC=CC=C1  DB00932   \n",
              "2  CCC(=O)O[C@@H](OP(=O)(CCCCC1=CC=CC=C1)CC(=O)N1...  DB00598   \n",
              "3  COCCOCCOCCOCCOCCOCCOCCO[C@H]1CC[C@@]2(O)[C@H]3...  DB00333   \n",
              "4  OC(C(=O)O[C@H]1C[N+]2(CCCOC3=CC=CC=C3)CCC1CC2)...  DB01192   \n",
              "\n",
              "                                        Drug2_SMILES  label  \n",
              "0     CC(=O)O[C@H]1CC2=CC=CC=C2N(C(N)=O)C2=CC=CC=C12      0  \n",
              "1  [H][C@@](CC)(C1=CC(NS(=O)(=O)C2=NC=C(C=C2)C(F)...      0  \n",
              "2      CC(CCC1=CC=CC=C1)NCC(O)C1=CC(C(N)=O)=C(O)C=C1      1  \n",
              "3       CCC(=O)C(CC(C)N(C)C)(C1=CC=CC=C1)C1=CC=CC=C1      0  \n",
              "4  [H][C@@]12OC3=C(O)C=CC4=C3[C@@]11CCN(C)[C@]([H...      1  "
            ],
            "text/html": [
              "\n",
              "  <div id=\"df-0f0d6212-aa26-41bc-9a7a-ab8b19caa357\">\n",
              "    <div class=\"colab-df-container\">\n",
              "      <div>\n",
              "<style scoped>\n",
              "    .dataframe tbody tr th:only-of-type {\n",
              "        vertical-align: middle;\n",
              "    }\n",
              "\n",
              "    .dataframe tbody tr th {\n",
              "        vertical-align: top;\n",
              "    }\n",
              "\n",
              "    .dataframe thead th {\n",
              "        text-align: right;\n",
              "    }\n",
              "</style>\n",
              "<table border=\"1\" class=\"dataframe\">\n",
              "  <thead>\n",
              "    <tr style=\"text-align: right;\">\n",
              "      <th></th>\n",
              "      <th>Unnamed: 0</th>\n",
              "      <th>Unnamed: 0.1</th>\n",
              "      <th>index</th>\n",
              "      <th>Unnamed: 0.1.1</th>\n",
              "      <th>Drug1_ID</th>\n",
              "      <th>Drug1_SMILES</th>\n",
              "      <th>Drug2_ID</th>\n",
              "      <th>Drug2_SMILES</th>\n",
              "      <th>label</th>\n",
              "    </tr>\n",
              "  </thead>\n",
              "  <tbody>\n",
              "    <tr>\n",
              "      <th>0</th>\n",
              "      <td>0</td>\n",
              "      <td>81088</td>\n",
              "      <td>18331</td>\n",
              "      <td>47029</td>\n",
              "      <td>DB00420</td>\n",
              "      <td>CN(C)CCCN1C2=CC=CC=C2SC2=CC=CC=C12</td>\n",
              "      <td>DB09119</td>\n",
              "      <td>CC(=O)O[C@H]1CC2=CC=CC=C2N(C(N)=O)C2=CC=CC=C12</td>\n",
              "      <td>0</td>\n",
              "    </tr>\n",
              "    <tr>\n",
              "      <th>1</th>\n",
              "      <td>1</td>\n",
              "      <td>109505</td>\n",
              "      <td>46748</td>\n",
              "      <td>160842</td>\n",
              "      <td>DB00289</td>\n",
              "      <td>CNCC[C@@H](OC1=CC=CC=C1C)C1=CC=CC=C1</td>\n",
              "      <td>DB00932</td>\n",
              "      <td>[H][C@@](CC)(C1=CC(NS(=O)(=O)C2=NC=C(C=C2)C(F)...</td>\n",
              "      <td>0</td>\n",
              "    </tr>\n",
              "    <tr>\n",
              "      <th>2</th>\n",
              "      <td>2</td>\n",
              "      <td>11901</td>\n",
              "      <td>11901</td>\n",
              "      <td>79706</td>\n",
              "      <td>DB00492</td>\n",
              "      <td>CCC(=O)O[C@@H](OP(=O)(CCCCC1=CC=CC=C1)CC(=O)N1...</td>\n",
              "      <td>DB00598</td>\n",
              "      <td>CC(CCC1=CC=CC=C1)NCC(O)C1=CC(C(N)=O)=C(O)C=C1</td>\n",
              "      <td>1</td>\n",
              "    </tr>\n",
              "    <tr>\n",
              "      <th>3</th>\n",
              "      <td>3</td>\n",
              "      <td>121325</td>\n",
              "      <td>58568</td>\n",
              "      <td>172662</td>\n",
              "      <td>DB09049</td>\n",
              "      <td>COCCOCCOCCOCCOCCOCCOCCO[C@H]1CC[C@@]2(O)[C@H]3...</td>\n",
              "      <td>DB00333</td>\n",
              "      <td>CCC(=O)C(CC(C)N(C)C)(C1=CC=CC=C1)C1=CC=CC=C1</td>\n",
              "      <td>0</td>\n",
              "    </tr>\n",
              "    <tr>\n",
              "      <th>4</th>\n",
              "      <td>4</td>\n",
              "      <td>43610</td>\n",
              "      <td>43610</td>\n",
              "      <td>111415</td>\n",
              "      <td>DB08897</td>\n",
              "      <td>OC(C(=O)O[C@H]1C[N+]2(CCCOC3=CC=CC=C3)CCC1CC2)...</td>\n",
              "      <td>DB01192</td>\n",
              "      <td>[H][C@@]12OC3=C(O)C=CC4=C3[C@@]11CCN(C)[C@]([H...</td>\n",
              "      <td>1</td>\n",
              "    </tr>\n",
              "  </tbody>\n",
              "</table>\n",
              "</div>\n",
              "      <button class=\"colab-df-convert\" onclick=\"convertToInteractive('df-0f0d6212-aa26-41bc-9a7a-ab8b19caa357')\"\n",
              "              title=\"Convert this dataframe to an interactive table.\"\n",
              "              style=\"display:none;\">\n",
              "        \n",
              "  <svg xmlns=\"http://www.w3.org/2000/svg\" height=\"24px\"viewBox=\"0 0 24 24\"\n",
              "       width=\"24px\">\n",
              "    <path d=\"M0 0h24v24H0V0z\" fill=\"none\"/>\n",
              "    <path d=\"M18.56 5.44l.94 2.06.94-2.06 2.06-.94-2.06-.94-.94-2.06-.94 2.06-2.06.94zm-11 1L8.5 8.5l.94-2.06 2.06-.94-2.06-.94L8.5 2.5l-.94 2.06-2.06.94zm10 10l.94 2.06.94-2.06 2.06-.94-2.06-.94-.94-2.06-.94 2.06-2.06.94z\"/><path d=\"M17.41 7.96l-1.37-1.37c-.4-.4-.92-.59-1.43-.59-.52 0-1.04.2-1.43.59L10.3 9.45l-7.72 7.72c-.78.78-.78 2.05 0 2.83L4 21.41c.39.39.9.59 1.41.59.51 0 1.02-.2 1.41-.59l7.78-7.78 2.81-2.81c.8-.78.8-2.07 0-2.86zM5.41 20L4 18.59l7.72-7.72 1.47 1.35L5.41 20z\"/>\n",
              "  </svg>\n",
              "      </button>\n",
              "      \n",
              "  <style>\n",
              "    .colab-df-container {\n",
              "      display:flex;\n",
              "      flex-wrap:wrap;\n",
              "      gap: 12px;\n",
              "    }\n",
              "\n",
              "    .colab-df-convert {\n",
              "      background-color: #E8F0FE;\n",
              "      border: none;\n",
              "      border-radius: 50%;\n",
              "      cursor: pointer;\n",
              "      display: none;\n",
              "      fill: #1967D2;\n",
              "      height: 32px;\n",
              "      padding: 0 0 0 0;\n",
              "      width: 32px;\n",
              "    }\n",
              "\n",
              "    .colab-df-convert:hover {\n",
              "      background-color: #E2EBFA;\n",
              "      box-shadow: 0px 1px 2px rgba(60, 64, 67, 0.3), 0px 1px 3px 1px rgba(60, 64, 67, 0.15);\n",
              "      fill: #174EA6;\n",
              "    }\n",
              "\n",
              "    [theme=dark] .colab-df-convert {\n",
              "      background-color: #3B4455;\n",
              "      fill: #D2E3FC;\n",
              "    }\n",
              "\n",
              "    [theme=dark] .colab-df-convert:hover {\n",
              "      background-color: #434B5C;\n",
              "      box-shadow: 0px 1px 3px 1px rgba(0, 0, 0, 0.15);\n",
              "      filter: drop-shadow(0px 1px 2px rgba(0, 0, 0, 0.3));\n",
              "      fill: #FFFFFF;\n",
              "    }\n",
              "  </style>\n",
              "\n",
              "      <script>\n",
              "        const buttonEl =\n",
              "          document.querySelector('#df-0f0d6212-aa26-41bc-9a7a-ab8b19caa357 button.colab-df-convert');\n",
              "        buttonEl.style.display =\n",
              "          google.colab.kernel.accessAllowed ? 'block' : 'none';\n",
              "\n",
              "        async function convertToInteractive(key) {\n",
              "          const element = document.querySelector('#df-0f0d6212-aa26-41bc-9a7a-ab8b19caa357');\n",
              "          const dataTable =\n",
              "            await google.colab.kernel.invokeFunction('convertToInteractive',\n",
              "                                                     [key], {});\n",
              "          if (!dataTable) return;\n",
              "\n",
              "          const docLinkHtml = 'Like what you see? Visit the ' +\n",
              "            '<a target=\"_blank\" href=https://colab.research.google.com/notebooks/data_table.ipynb>data table notebook</a>'\n",
              "            + ' to learn more about interactive tables.';\n",
              "          element.innerHTML = '';\n",
              "          dataTable['output_type'] = 'display_data';\n",
              "          await google.colab.output.renderOutput(dataTable, element);\n",
              "          const docLink = document.createElement('div');\n",
              "          docLink.innerHTML = docLinkHtml;\n",
              "          element.appendChild(docLink);\n",
              "        }\n",
              "      </script>\n",
              "    </div>\n",
              "  </div>\n",
              "  "
            ]
          },
          "metadata": {},
          "execution_count": 16
        }
      ],
      "source": [
        "temp = pd.read_csv(\"drugbankbinary_train.csv\")\n",
        "temp.head()"
      ]
    },
    {
      "cell_type": "code",
      "source": [
        "len(temp)"
      ],
      "metadata": {
        "colab": {
          "base_uri": "https://localhost:8080/"
        },
        "id": "92tYUmmxT9Rm",
        "outputId": "3250b5ba-b742-47b4-c63c-581bb84b1bc0"
      },
      "execution_count": null,
      "outputs": [
        {
          "output_type": "execute_result",
          "data": {
            "text/plain": [
              "103091"
            ]
          },
          "metadata": {},
          "execution_count": 17
        }
      ]
    },
    {
      "cell_type": "code",
      "execution_count": null,
      "metadata": {
        "id": "brgpfFtjwoge"
      },
      "outputs": [],
      "source": [
        "df = temp\n",
        "\n",
        "# df = pd.DataFrame(columns = ['Drug1_ID', 'Drug1_SMILES', 'Drug2_ID','Drug2_SMILES','label'])\n",
        "\n",
        "# sz = len(temp)\n",
        "\n",
        "# for i in range(sz):\n",
        "#   id1 = temp['Drug1_ID'][i]\n",
        "#   id2 = temp['Drug2_ID'][i]\n",
        "#   if (id1 in dictval) and (id2 in dictval) : \n",
        "#     df = df.append({'Drug1_ID' : id1, 'Drug1_SMILES' : temp['Drug1_SMILES'][i], 'Drug2_ID' : id2,'Drug2_SMILES' : temp['Drug2_SMILES'][i],'label' : temp['label'][i]}, \n",
        "#                   ignore_index = True)\n",
        "\n",
        "# df.head()"
      ]
    },
    {
      "cell_type": "code",
      "execution_count": null,
      "metadata": {
        "colab": {
          "base_uri": "https://localhost:8080/"
        },
        "id": "ZJd9aFSUJueh",
        "outputId": "015f37a8-bda7-4b26-af3f-4b930166fc4e"
      },
      "outputs": [
        {
          "output_type": "execute_result",
          "data": {
            "text/plain": [
              "2"
            ]
          },
          "metadata": {},
          "execution_count": 19
        }
      ],
      "source": [
        "n_classes = len(df['label'].unique())\n",
        "n_classes"
      ]
    },
    {
      "cell_type": "code",
      "execution_count": null,
      "metadata": {
        "colab": {
          "base_uri": "https://localhost:8080/"
        },
        "id": "sdkRTFlGRZ2D",
        "outputId": "963c5a48-3e1f-4fea-8822-e84766456ad0"
      },
      "outputs": [
        {
          "output_type": "execute_result",
          "data": {
            "text/plain": [
              "0    55988\n",
              "1    47103\n",
              "Name: label, dtype: int64"
            ]
          },
          "metadata": {},
          "execution_count": 20
        }
      ],
      "source": [
        "df['label'].value_counts()"
      ]
    },
    {
      "cell_type": "code",
      "execution_count": null,
      "metadata": {
        "id": "M6W3a-xHKkuf"
      },
      "outputs": [],
      "source": [
        "dftrain = df\n",
        "dftest = pd.read_csv(\"drugbankbinary_test.csv\")\n"
      ]
    },
    {
      "cell_type": "code",
      "execution_count": null,
      "metadata": {
        "id": "kO1HZhy2DcDZ"
      },
      "outputs": [],
      "source": [
        "tempdf = temp.append(dftest)"
      ]
    },
    {
      "cell_type": "code",
      "execution_count": null,
      "metadata": {
        "id": "556KMzM3DxLP"
      },
      "outputs": [],
      "source": [
        "tempdf.reset_index(inplace=True)"
      ]
    },
    {
      "cell_type": "code",
      "execution_count": null,
      "metadata": {
        "id": "XOgGTt_sD877"
      },
      "outputs": [],
      "source": [
        "tempdf['Unnamed: 0'] = range(len(tempdf))\n",
        "tempdf.drop(columns='level_0', inplace=True)"
      ]
    },
    {
      "cell_type": "code",
      "execution_count": null,
      "metadata": {
        "colab": {
          "base_uri": "https://localhost:8080/",
          "height": 287
        },
        "id": "vgoOE2xDD3lK",
        "outputId": "6040a6f2-16ed-4ea6-f549-091dc69b9063"
      },
      "outputs": [
        {
          "output_type": "execute_result",
          "data": {
            "text/plain": [
              "        Unnamed: 0  Unnamed: 0.1  index  Unnamed: 0.1.1 Drug1_ID  \\\n",
              "137450      137450        126343  63586          177680  DB00320   \n",
              "137451      137451         58991  58991          126796  DB01433   \n",
              "137452      137452         60578  60578          128383  DB00455   \n",
              "137453      137453         59655  59655          127460  DB01189   \n",
              "137454      137454          9169   9169           76974  DB01545   \n",
              "\n",
              "                                             Drug1_SMILES Drug2_ID  \\\n",
              "137450  [H][C@@]12CCCN1C(=O)[C@H](CC1=CC=CC=C1)N1C(=O)...  DB00881   \n",
              "137451  CCC(OC(C)=O)C(CC(C)N(C)C)(C1=CC=CC=C1)C1=CC=CC=C1  DB09225   \n",
              "137452  CCOC(=O)N1CCC(CC1)=C1C2=C(CCC3=C1N=CC=C3)C=C(C...  DB00980   \n",
              "137453                                 FC(F)OC(F)C(F)(F)F  DB01466   \n",
              "137454  CCOC(=O)C1N=C(C2=CC=CC=C2F)C2=C(NC1=O)C=CC(Cl)=C2  DB09128   \n",
              "\n",
              "                                             Drug2_SMILES  label  \n",
              "137450  CCOC(=O)[C@H](CCC1=CC=CC=C1)N[C@@H](C)C(=O)N1C...      0  \n",
              "137451           CN(C)CCOC1=CC2=CC=CC=C2SC2=CC=C(Cl)C=C12      1  \n",
              "137452             CCC(=O)NCC[C@@H]1CCC2=C1C1=C(OCC1)C=C2      1  \n",
              "137453  [H][C@@]12OC3=C(OCC)C=CC4=C3[C@@]11CCN(C)[C@](...      1  \n",
              "137454  O=C1NC2=CC(OCCCCN3CCN(CC3)C3=C4C=CSC4=CC=C3)=C...      1  "
            ],
            "text/html": [
              "\n",
              "  <div id=\"df-aed32a8a-a42f-4493-87fa-952130505fd5\">\n",
              "    <div class=\"colab-df-container\">\n",
              "      <div>\n",
              "<style scoped>\n",
              "    .dataframe tbody tr th:only-of-type {\n",
              "        vertical-align: middle;\n",
              "    }\n",
              "\n",
              "    .dataframe tbody tr th {\n",
              "        vertical-align: top;\n",
              "    }\n",
              "\n",
              "    .dataframe thead th {\n",
              "        text-align: right;\n",
              "    }\n",
              "</style>\n",
              "<table border=\"1\" class=\"dataframe\">\n",
              "  <thead>\n",
              "    <tr style=\"text-align: right;\">\n",
              "      <th></th>\n",
              "      <th>Unnamed: 0</th>\n",
              "      <th>Unnamed: 0.1</th>\n",
              "      <th>index</th>\n",
              "      <th>Unnamed: 0.1.1</th>\n",
              "      <th>Drug1_ID</th>\n",
              "      <th>Drug1_SMILES</th>\n",
              "      <th>Drug2_ID</th>\n",
              "      <th>Drug2_SMILES</th>\n",
              "      <th>label</th>\n",
              "    </tr>\n",
              "  </thead>\n",
              "  <tbody>\n",
              "    <tr>\n",
              "      <th>137450</th>\n",
              "      <td>137450</td>\n",
              "      <td>126343</td>\n",
              "      <td>63586</td>\n",
              "      <td>177680</td>\n",
              "      <td>DB00320</td>\n",
              "      <td>[H][C@@]12CCCN1C(=O)[C@H](CC1=CC=CC=C1)N1C(=O)...</td>\n",
              "      <td>DB00881</td>\n",
              "      <td>CCOC(=O)[C@H](CCC1=CC=CC=C1)N[C@@H](C)C(=O)N1C...</td>\n",
              "      <td>0</td>\n",
              "    </tr>\n",
              "    <tr>\n",
              "      <th>137451</th>\n",
              "      <td>137451</td>\n",
              "      <td>58991</td>\n",
              "      <td>58991</td>\n",
              "      <td>126796</td>\n",
              "      <td>DB01433</td>\n",
              "      <td>CCC(OC(C)=O)C(CC(C)N(C)C)(C1=CC=CC=C1)C1=CC=CC=C1</td>\n",
              "      <td>DB09225</td>\n",
              "      <td>CN(C)CCOC1=CC2=CC=CC=C2SC2=CC=C(Cl)C=C12</td>\n",
              "      <td>1</td>\n",
              "    </tr>\n",
              "    <tr>\n",
              "      <th>137452</th>\n",
              "      <td>137452</td>\n",
              "      <td>60578</td>\n",
              "      <td>60578</td>\n",
              "      <td>128383</td>\n",
              "      <td>DB00455</td>\n",
              "      <td>CCOC(=O)N1CCC(CC1)=C1C2=C(CCC3=C1N=CC=C3)C=C(C...</td>\n",
              "      <td>DB00980</td>\n",
              "      <td>CCC(=O)NCC[C@@H]1CCC2=C1C1=C(OCC1)C=C2</td>\n",
              "      <td>1</td>\n",
              "    </tr>\n",
              "    <tr>\n",
              "      <th>137453</th>\n",
              "      <td>137453</td>\n",
              "      <td>59655</td>\n",
              "      <td>59655</td>\n",
              "      <td>127460</td>\n",
              "      <td>DB01189</td>\n",
              "      <td>FC(F)OC(F)C(F)(F)F</td>\n",
              "      <td>DB01466</td>\n",
              "      <td>[H][C@@]12OC3=C(OCC)C=CC4=C3[C@@]11CCN(C)[C@](...</td>\n",
              "      <td>1</td>\n",
              "    </tr>\n",
              "    <tr>\n",
              "      <th>137454</th>\n",
              "      <td>137454</td>\n",
              "      <td>9169</td>\n",
              "      <td>9169</td>\n",
              "      <td>76974</td>\n",
              "      <td>DB01545</td>\n",
              "      <td>CCOC(=O)C1N=C(C2=CC=CC=C2F)C2=C(NC1=O)C=CC(Cl)=C2</td>\n",
              "      <td>DB09128</td>\n",
              "      <td>O=C1NC2=CC(OCCCCN3CCN(CC3)C3=C4C=CSC4=CC=C3)=C...</td>\n",
              "      <td>1</td>\n",
              "    </tr>\n",
              "  </tbody>\n",
              "</table>\n",
              "</div>\n",
              "      <button class=\"colab-df-convert\" onclick=\"convertToInteractive('df-aed32a8a-a42f-4493-87fa-952130505fd5')\"\n",
              "              title=\"Convert this dataframe to an interactive table.\"\n",
              "              style=\"display:none;\">\n",
              "        \n",
              "  <svg xmlns=\"http://www.w3.org/2000/svg\" height=\"24px\"viewBox=\"0 0 24 24\"\n",
              "       width=\"24px\">\n",
              "    <path d=\"M0 0h24v24H0V0z\" fill=\"none\"/>\n",
              "    <path d=\"M18.56 5.44l.94 2.06.94-2.06 2.06-.94-2.06-.94-.94-2.06-.94 2.06-2.06.94zm-11 1L8.5 8.5l.94-2.06 2.06-.94-2.06-.94L8.5 2.5l-.94 2.06-2.06.94zm10 10l.94 2.06.94-2.06 2.06-.94-2.06-.94-.94-2.06-.94 2.06-2.06.94z\"/><path d=\"M17.41 7.96l-1.37-1.37c-.4-.4-.92-.59-1.43-.59-.52 0-1.04.2-1.43.59L10.3 9.45l-7.72 7.72c-.78.78-.78 2.05 0 2.83L4 21.41c.39.39.9.59 1.41.59.51 0 1.02-.2 1.41-.59l7.78-7.78 2.81-2.81c.8-.78.8-2.07 0-2.86zM5.41 20L4 18.59l7.72-7.72 1.47 1.35L5.41 20z\"/>\n",
              "  </svg>\n",
              "      </button>\n",
              "      \n",
              "  <style>\n",
              "    .colab-df-container {\n",
              "      display:flex;\n",
              "      flex-wrap:wrap;\n",
              "      gap: 12px;\n",
              "    }\n",
              "\n",
              "    .colab-df-convert {\n",
              "      background-color: #E8F0FE;\n",
              "      border: none;\n",
              "      border-radius: 50%;\n",
              "      cursor: pointer;\n",
              "      display: none;\n",
              "      fill: #1967D2;\n",
              "      height: 32px;\n",
              "      padding: 0 0 0 0;\n",
              "      width: 32px;\n",
              "    }\n",
              "\n",
              "    .colab-df-convert:hover {\n",
              "      background-color: #E2EBFA;\n",
              "      box-shadow: 0px 1px 2px rgba(60, 64, 67, 0.3), 0px 1px 3px 1px rgba(60, 64, 67, 0.15);\n",
              "      fill: #174EA6;\n",
              "    }\n",
              "\n",
              "    [theme=dark] .colab-df-convert {\n",
              "      background-color: #3B4455;\n",
              "      fill: #D2E3FC;\n",
              "    }\n",
              "\n",
              "    [theme=dark] .colab-df-convert:hover {\n",
              "      background-color: #434B5C;\n",
              "      box-shadow: 0px 1px 3px 1px rgba(0, 0, 0, 0.15);\n",
              "      filter: drop-shadow(0px 1px 2px rgba(0, 0, 0, 0.3));\n",
              "      fill: #FFFFFF;\n",
              "    }\n",
              "  </style>\n",
              "\n",
              "      <script>\n",
              "        const buttonEl =\n",
              "          document.querySelector('#df-aed32a8a-a42f-4493-87fa-952130505fd5 button.colab-df-convert');\n",
              "        buttonEl.style.display =\n",
              "          google.colab.kernel.accessAllowed ? 'block' : 'none';\n",
              "\n",
              "        async function convertToInteractive(key) {\n",
              "          const element = document.querySelector('#df-aed32a8a-a42f-4493-87fa-952130505fd5');\n",
              "          const dataTable =\n",
              "            await google.colab.kernel.invokeFunction('convertToInteractive',\n",
              "                                                     [key], {});\n",
              "          if (!dataTable) return;\n",
              "\n",
              "          const docLinkHtml = 'Like what you see? Visit the ' +\n",
              "            '<a target=\"_blank\" href=https://colab.research.google.com/notebooks/data_table.ipynb>data table notebook</a>'\n",
              "            + ' to learn more about interactive tables.';\n",
              "          element.innerHTML = '';\n",
              "          dataTable['output_type'] = 'display_data';\n",
              "          await google.colab.output.renderOutput(dataTable, element);\n",
              "          const docLink = document.createElement('div');\n",
              "          docLink.innerHTML = docLinkHtml;\n",
              "          element.appendChild(docLink);\n",
              "        }\n",
              "      </script>\n",
              "    </div>\n",
              "  </div>\n",
              "  "
            ]
          },
          "metadata": {},
          "execution_count": 25
        }
      ],
      "source": [
        "tempdf.tail()"
      ]
    },
    {
      "cell_type": "code",
      "execution_count": null,
      "metadata": {
        "colab": {
          "base_uri": "https://localhost:8080/",
          "height": 1000
        },
        "id": "kmwYSgvNDb2U",
        "outputId": "fbe2ac3b-57aa-4277-9173-f8a3e2f784ab"
      },
      "outputs": [
        {
          "output_type": "execute_result",
          "data": {
            "text/plain": [
              "        Unnamed: 0  Unnamed: 0.1  index  Unnamed: 0.1.1 Drug1_ID  \\\n",
              "103080      103080        113657  50900          164994  DB09075   \n",
              "103081      103081          5298   5298           73103  DB00575   \n",
              "103082      103082        105411  42654          156748  DB00570   \n",
              "103083      103083         17127  17127           84932  DB01551   \n",
              "103084      103084         75174  12417           41115  DB00864   \n",
              "103085      103085         98030  35273           63971  DB00852   \n",
              "103086      103086         91014  28257           56955  DB06148   \n",
              "103087      103087         82302  19545           48243  DB01577   \n",
              "103088      103088         11958  11958           79763  DB00807   \n",
              "103089      103089         46381  46381          114186  DB00486   \n",
              "103090      103090           112    112           13368  DB00531   \n",
              "103091      103091         16638  16638           84443  DB00899   \n",
              "103092      103092         59168  59168          126973  DB00933   \n",
              "103093      103093         36471  36471          104276  DB00310   \n",
              "103094      103094         72493   9736           38434  DB01588   \n",
              "103095      103095          3265   3265           71070  DB09215   \n",
              "103096      103096         83367  20610           49308  DB00934   \n",
              "103097      103097        102301  39544           68242  DB00347   \n",
              "103098      103098        104594  41837          155931  DB04938   \n",
              "103099      103099         99785  37028           65726  DB00836   \n",
              "103100      103100         84296  21539           50237  DB12070   \n",
              "103101      103101        116774  54017          168111  DB08873   \n",
              "103102      103102         18787  18787           86592  DB00315   \n",
              "103103      103103         69232   6475           35173  DB06770   \n",
              "103104      103104        113157  50400          164494  DB11730   \n",
              "103105      103105         98513  35756           64454  DB00277   \n",
              "103106      103106        128216  65459          179975  DB00252   \n",
              "103107      103107        133435  70678          185194  DB01377   \n",
              "103108      103108         56806  56806          124611  DB01015   \n",
              "103109      103109        108188  45431          159525  DB00619   \n",
              "\n",
              "                                             Drug1_SMILES Drug2_ID  \\\n",
              "103080  CN(C)C(=O)[C@H]1CC[C@H](NC(=O)C(=O)NC2=NC=C(Cl...  DB00398   \n",
              "103081                         ClC1=CC=CC(Cl)=C1NC1=NCCN1  DB01621   \n",
              "103082  [H][C@@]12N(C)C3=CC(OC)=C(C=C3[C@@]11CCN3CC=C[...  DB09065   \n",
              "103083  [H][C@@]12OC3=C4C(C[C@H]5N(C)CC[C@@]14[C@@]5([...  DB01567   \n",
              "103084  CO[C@@H]1C[C@@H](CC[C@H]1O)\\C=C(/C)[C@H]1OC(=O...  DB00543   \n",
              "103085                    CN[C@@H](C)[C@@H](O)C1=CC=CC=C1  DB01156   \n",
              "103086               CN1CCN2C(C1)C1=CC=CC=C1CC1=CC=CC=C21  DB00243   \n",
              "103087                            CN[C@@H](C)CC1=CC=CC=C1  DB00215   \n",
              "103088                CCCOC1=C(N)C=C(C=C1)C(=O)OCCN(CC)CC  DB00575   \n",
              "103089  [H][C@@]12CC(=O)CC[C@@]1([H])C(C)(C)OC1=CC(=CC...  DB00780   \n",
              "103090                            ClCCN(CCCl)P1(=O)NCCCO1  DB00643   \n",
              "103091  CCC(=O)N(C1=CC=CC=C1)C1(CCN(CCC(=O)OC)CC1)C(=O)OC  DB08941   \n",
              "103092    CN1CCCCC1CCN1C2=C(SC3=C1C=C(C=C3)S(C)=O)C=CC=C2  DB08910   \n",
              "103093  NS(=O)(=O)C1=C(Cl)C=CC(=C1)C1(O)NC(=O)C2=CC=CC...  DB00966   \n",
              "103094     ClC1=CC2=C(C=C1)N(CC1CC1)C(=O)CN=C2C1=CC=CC=C1  DB09065   \n",
              "103095  CN1C2=C(OC(=O)N(C2=O)C2=CC=CC=N2)C2=CC=CC=C2S1...  DB08905   \n",
              "103096              CNCCCC12CCC(C3=CC=CC=C13)C1=CC=CC=C21  DB00705   \n",
              "103097                               CN1C(=O)OC(C)(C)C1=O  DB00257   \n",
              "103098  OCCOC1=CC=C(C=C1)C(=C(\\CCCl)C1=CC=CC=C1)\\C1=CC...  DB09048   \n",
              "103099  CN(C)C(=O)C(CCN1CCC(O)(CC1)C1=CC=C(Cl)C=C1)(C1...  DB00502   \n",
              "103100  COC1=CC=CC(=C1)N1CCN(CC1)C1=NC2=C(C=CC=C2F)[C@...  DB01026   \n",
              "103101  [H][C@]12CN([C@H](C(=O)NC(CC3CCC3)C(=O)C(N)=O)...  DB01211   \n",
              "103102         CN(C)CCC1=CNC2=CC=C(C[C@H]3COC(=O)N3)C=C12  DB00363   \n",
              "103103                                      OCC1=CC=CC=C1  DB00932   \n",
              "103104  CN(C)C(=O)C1=CC2=CN=C(NC3=CC=C(C=N3)N3CCNCC3)N...  DB01026   \n",
              "103105                        CN1C2=C(NC=N2)C(=O)N(C)C1=O  DB00907   \n",
              "103106            O=C1NC(=O)C(N1)(C1=CC=CC=C1)C1=CC=CC=C1  DB09101   \n",
              "103107                                       [O--].[Mg++]  DB00282   \n",
              "103108               CC1=CC(NS(=O)(=O)C2=CC=C(N)C=C2)=NO1  DB01076   \n",
              "103109  CN1CCN(CC2=CC=C(C=C2)C(=O)NC2=CC(NC3=NC=CC(=N3...  DB00872   \n",
              "\n",
              "                                             Drug2_SMILES  label  \n",
              "103080  CNC(=O)C1=NC=CC(OC2=CC=C(NC(=O)NC3=CC(=C(Cl)C=...      0  \n",
              "103081  CN(C)S(=O)(=O)C1=CC2=C(SC3=CC=CC=C3N2CCCN2CCC(...      1  \n",
              "103082  CC(C)C1=NC(CN(C)C(=O)N[C@@H](CCN2CCOCC2)C(=O)N...      0  \n",
              "103083         CN1C2=C(C=C(Cl)C=C2)C(=NCC1=O)C1=CC=CC=C1F      1  \n",
              "103084           ClC1=CC2=C(OC3=CC=CC=C3N=C2N2CCNCC2)C=C1      0  \n",
              "103085                  CC(NC(C)(C)C)C(=O)C1=CC(Cl)=CC=C1      0  \n",
              "103086  COC1=CC=CC=C1OCC(O)CN1CCN(CC(=O)NC2=C(C)C=CC=C...      0  \n",
              "103087      CN(C)CCCC1(OCC2=C1C=CC(=C2)C#N)C1=CC=C(F)C=C1      0  \n",
              "103088                         ClC1=CC=CC(Cl)=C1NC1=NCCN1      1  \n",
              "103089                                    NNCCC1=CC=CC=C1      1  \n",
              "103090      COC(=O)NC1=NC2=C(N1)C=C(C=C2)C(=O)C1=CC=CC=C1      1  \n",
              "103091  C[C@H](COC1=CC=CC=C1)N[C@H](C)[C@@H](O)C1=CC=C...      1  \n",
              "103092            NC1=CC=CC2=C1C(=O)N(C1CCC(=O)NC1=O)C2=O      1  \n",
              "103093  CCCC1=NC2=C(C=C(C=C2C)C2=NC3=CC=CC=C3N2C)N1CC1...      1  \n",
              "103094  CC(C)C1=NC(CN(C)C(=O)N[C@@H](CCN2CCOCC2)C(=O)N...      0  \n",
              "103095  [H][C@@]12CCC(=O)[C@@]1(C)CC[C@@]1([H])[C@@]2(...      1  \n",
              "103096  CC(C)NC1=C(N=CC=C1)N1CCN(CC1)C(=O)C1=CC2=C(N1)...      0  \n",
              "103097  ClC1=CC=CC=C1C(N1C=CN=C1)(C1=CC=CC=C1)C1=CC=CC=C1      0  \n",
              "103098  CN(C(=O)C(C)(C)C1=CC(=CC(=C1)C(F)(F)F)C(F)(F)F...      0  \n",
              "103099  OC1(CCN(CCCC(=O)C2=CC=C(F)C=C2)CC1)C1=CC=C(Cl)...      0  \n",
              "103100  CC(=O)N1CCN(CC1)C1=CC=C(OCC2COC(CN3C=CN=C3)(O2...      0  \n",
              "103101  [H][C@@]1(C[C@@](C)(OC)[C@@H](O)[C@H](C)O1)O[C...      0  \n",
              "103102        CN1CCN(CC1)C1=NC2=CC(Cl)=CC=C2NC2=CC=CC=C12      1  \n",
              "103103  [H][C@@](CC)(C1=CC(NS(=O)(=O)C2=NC=C(C=C2)C(F)...      0  \n",
              "103104  CC(=O)N1CCN(CC1)C1=CC=C(OCC2COC(CN3C=CN=C3)(O2...      0  \n",
              "103105  [H][C@]12CC[C@]([H])([C@H]([C@H](C1)OC(=O)C1=C...      0  \n",
              "103106  [H][C@@](CO)(C(C)C)N1C=C(C(O)=O)C(=O)C2=C1C=C(...      0  \n",
              "103107                        NCCC(O)(P(O)(O)=O)P(O)(O)=O      0  \n",
              "103108  CC(C)C1=C(C(=O)NC2=CC=CC=C2)C(=C(N1CC[C@@H](O)...      1  \n",
              "103109  CC1=NC2=C(CCN(C(=O)C3=CC=C(NC(=O)C4=CC=CC=C4C4...      0  "
            ],
            "text/html": [
              "\n",
              "  <div id=\"df-06fe3302-9d0c-4eac-b217-bd94145c9555\">\n",
              "    <div class=\"colab-df-container\">\n",
              "      <div>\n",
              "<style scoped>\n",
              "    .dataframe tbody tr th:only-of-type {\n",
              "        vertical-align: middle;\n",
              "    }\n",
              "\n",
              "    .dataframe tbody tr th {\n",
              "        vertical-align: top;\n",
              "    }\n",
              "\n",
              "    .dataframe thead th {\n",
              "        text-align: right;\n",
              "    }\n",
              "</style>\n",
              "<table border=\"1\" class=\"dataframe\">\n",
              "  <thead>\n",
              "    <tr style=\"text-align: right;\">\n",
              "      <th></th>\n",
              "      <th>Unnamed: 0</th>\n",
              "      <th>Unnamed: 0.1</th>\n",
              "      <th>index</th>\n",
              "      <th>Unnamed: 0.1.1</th>\n",
              "      <th>Drug1_ID</th>\n",
              "      <th>Drug1_SMILES</th>\n",
              "      <th>Drug2_ID</th>\n",
              "      <th>Drug2_SMILES</th>\n",
              "      <th>label</th>\n",
              "    </tr>\n",
              "  </thead>\n",
              "  <tbody>\n",
              "    <tr>\n",
              "      <th>103080</th>\n",
              "      <td>103080</td>\n",
              "      <td>113657</td>\n",
              "      <td>50900</td>\n",
              "      <td>164994</td>\n",
              "      <td>DB09075</td>\n",
              "      <td>CN(C)C(=O)[C@H]1CC[C@H](NC(=O)C(=O)NC2=NC=C(Cl...</td>\n",
              "      <td>DB00398</td>\n",
              "      <td>CNC(=O)C1=NC=CC(OC2=CC=C(NC(=O)NC3=CC(=C(Cl)C=...</td>\n",
              "      <td>0</td>\n",
              "    </tr>\n",
              "    <tr>\n",
              "      <th>103081</th>\n",
              "      <td>103081</td>\n",
              "      <td>5298</td>\n",
              "      <td>5298</td>\n",
              "      <td>73103</td>\n",
              "      <td>DB00575</td>\n",
              "      <td>ClC1=CC=CC(Cl)=C1NC1=NCCN1</td>\n",
              "      <td>DB01621</td>\n",
              "      <td>CN(C)S(=O)(=O)C1=CC2=C(SC3=CC=CC=C3N2CCCN2CCC(...</td>\n",
              "      <td>1</td>\n",
              "    </tr>\n",
              "    <tr>\n",
              "      <th>103082</th>\n",
              "      <td>103082</td>\n",
              "      <td>105411</td>\n",
              "      <td>42654</td>\n",
              "      <td>156748</td>\n",
              "      <td>DB00570</td>\n",
              "      <td>[H][C@@]12N(C)C3=CC(OC)=C(C=C3[C@@]11CCN3CC=C[...</td>\n",
              "      <td>DB09065</td>\n",
              "      <td>CC(C)C1=NC(CN(C)C(=O)N[C@@H](CCN2CCOCC2)C(=O)N...</td>\n",
              "      <td>0</td>\n",
              "    </tr>\n",
              "    <tr>\n",
              "      <th>103083</th>\n",
              "      <td>103083</td>\n",
              "      <td>17127</td>\n",
              "      <td>17127</td>\n",
              "      <td>84932</td>\n",
              "      <td>DB01551</td>\n",
              "      <td>[H][C@@]12OC3=C4C(C[C@H]5N(C)CC[C@@]14[C@@]5([...</td>\n",
              "      <td>DB01567</td>\n",
              "      <td>CN1C2=C(C=C(Cl)C=C2)C(=NCC1=O)C1=CC=CC=C1F</td>\n",
              "      <td>1</td>\n",
              "    </tr>\n",
              "    <tr>\n",
              "      <th>103084</th>\n",
              "      <td>103084</td>\n",
              "      <td>75174</td>\n",
              "      <td>12417</td>\n",
              "      <td>41115</td>\n",
              "      <td>DB00864</td>\n",
              "      <td>CO[C@@H]1C[C@@H](CC[C@H]1O)\\C=C(/C)[C@H]1OC(=O...</td>\n",
              "      <td>DB00543</td>\n",
              "      <td>ClC1=CC2=C(OC3=CC=CC=C3N=C2N2CCNCC2)C=C1</td>\n",
              "      <td>0</td>\n",
              "    </tr>\n",
              "    <tr>\n",
              "      <th>103085</th>\n",
              "      <td>103085</td>\n",
              "      <td>98030</td>\n",
              "      <td>35273</td>\n",
              "      <td>63971</td>\n",
              "      <td>DB00852</td>\n",
              "      <td>CN[C@@H](C)[C@@H](O)C1=CC=CC=C1</td>\n",
              "      <td>DB01156</td>\n",
              "      <td>CC(NC(C)(C)C)C(=O)C1=CC(Cl)=CC=C1</td>\n",
              "      <td>0</td>\n",
              "    </tr>\n",
              "    <tr>\n",
              "      <th>103086</th>\n",
              "      <td>103086</td>\n",
              "      <td>91014</td>\n",
              "      <td>28257</td>\n",
              "      <td>56955</td>\n",
              "      <td>DB06148</td>\n",
              "      <td>CN1CCN2C(C1)C1=CC=CC=C1CC1=CC=CC=C21</td>\n",
              "      <td>DB00243</td>\n",
              "      <td>COC1=CC=CC=C1OCC(O)CN1CCN(CC(=O)NC2=C(C)C=CC=C...</td>\n",
              "      <td>0</td>\n",
              "    </tr>\n",
              "    <tr>\n",
              "      <th>103087</th>\n",
              "      <td>103087</td>\n",
              "      <td>82302</td>\n",
              "      <td>19545</td>\n",
              "      <td>48243</td>\n",
              "      <td>DB01577</td>\n",
              "      <td>CN[C@@H](C)CC1=CC=CC=C1</td>\n",
              "      <td>DB00215</td>\n",
              "      <td>CN(C)CCCC1(OCC2=C1C=CC(=C2)C#N)C1=CC=C(F)C=C1</td>\n",
              "      <td>0</td>\n",
              "    </tr>\n",
              "    <tr>\n",
              "      <th>103088</th>\n",
              "      <td>103088</td>\n",
              "      <td>11958</td>\n",
              "      <td>11958</td>\n",
              "      <td>79763</td>\n",
              "      <td>DB00807</td>\n",
              "      <td>CCCOC1=C(N)C=C(C=C1)C(=O)OCCN(CC)CC</td>\n",
              "      <td>DB00575</td>\n",
              "      <td>ClC1=CC=CC(Cl)=C1NC1=NCCN1</td>\n",
              "      <td>1</td>\n",
              "    </tr>\n",
              "    <tr>\n",
              "      <th>103089</th>\n",
              "      <td>103089</td>\n",
              "      <td>46381</td>\n",
              "      <td>46381</td>\n",
              "      <td>114186</td>\n",
              "      <td>DB00486</td>\n",
              "      <td>[H][C@@]12CC(=O)CC[C@@]1([H])C(C)(C)OC1=CC(=CC...</td>\n",
              "      <td>DB00780</td>\n",
              "      <td>NNCCC1=CC=CC=C1</td>\n",
              "      <td>1</td>\n",
              "    </tr>\n",
              "    <tr>\n",
              "      <th>103090</th>\n",
              "      <td>103090</td>\n",
              "      <td>112</td>\n",
              "      <td>112</td>\n",
              "      <td>13368</td>\n",
              "      <td>DB00531</td>\n",
              "      <td>ClCCN(CCCl)P1(=O)NCCCO1</td>\n",
              "      <td>DB00643</td>\n",
              "      <td>COC(=O)NC1=NC2=C(N1)C=C(C=C2)C(=O)C1=CC=CC=C1</td>\n",
              "      <td>1</td>\n",
              "    </tr>\n",
              "    <tr>\n",
              "      <th>103091</th>\n",
              "      <td>103091</td>\n",
              "      <td>16638</td>\n",
              "      <td>16638</td>\n",
              "      <td>84443</td>\n",
              "      <td>DB00899</td>\n",
              "      <td>CCC(=O)N(C1=CC=CC=C1)C1(CCN(CCC(=O)OC)CC1)C(=O)OC</td>\n",
              "      <td>DB08941</td>\n",
              "      <td>C[C@H](COC1=CC=CC=C1)N[C@H](C)[C@@H](O)C1=CC=C...</td>\n",
              "      <td>1</td>\n",
              "    </tr>\n",
              "    <tr>\n",
              "      <th>103092</th>\n",
              "      <td>103092</td>\n",
              "      <td>59168</td>\n",
              "      <td>59168</td>\n",
              "      <td>126973</td>\n",
              "      <td>DB00933</td>\n",
              "      <td>CN1CCCCC1CCN1C2=C(SC3=C1C=C(C=C3)S(C)=O)C=CC=C2</td>\n",
              "      <td>DB08910</td>\n",
              "      <td>NC1=CC=CC2=C1C(=O)N(C1CCC(=O)NC1=O)C2=O</td>\n",
              "      <td>1</td>\n",
              "    </tr>\n",
              "    <tr>\n",
              "      <th>103093</th>\n",
              "      <td>103093</td>\n",
              "      <td>36471</td>\n",
              "      <td>36471</td>\n",
              "      <td>104276</td>\n",
              "      <td>DB00310</td>\n",
              "      <td>NS(=O)(=O)C1=C(Cl)C=CC(=C1)C1(O)NC(=O)C2=CC=CC...</td>\n",
              "      <td>DB00966</td>\n",
              "      <td>CCCC1=NC2=C(C=C(C=C2C)C2=NC3=CC=CC=C3N2C)N1CC1...</td>\n",
              "      <td>1</td>\n",
              "    </tr>\n",
              "    <tr>\n",
              "      <th>103094</th>\n",
              "      <td>103094</td>\n",
              "      <td>72493</td>\n",
              "      <td>9736</td>\n",
              "      <td>38434</td>\n",
              "      <td>DB01588</td>\n",
              "      <td>ClC1=CC2=C(C=C1)N(CC1CC1)C(=O)CN=C2C1=CC=CC=C1</td>\n",
              "      <td>DB09065</td>\n",
              "      <td>CC(C)C1=NC(CN(C)C(=O)N[C@@H](CCN2CCOCC2)C(=O)N...</td>\n",
              "      <td>0</td>\n",
              "    </tr>\n",
              "    <tr>\n",
              "      <th>103095</th>\n",
              "      <td>103095</td>\n",
              "      <td>3265</td>\n",
              "      <td>3265</td>\n",
              "      <td>71070</td>\n",
              "      <td>DB09215</td>\n",
              "      <td>CN1C2=C(OC(=O)N(C2=O)C2=CC=CC=N2)C2=CC=CC=C2S1...</td>\n",
              "      <td>DB08905</td>\n",
              "      <td>[H][C@@]12CCC(=O)[C@@]1(C)CC[C@@]1([H])[C@@]2(...</td>\n",
              "      <td>1</td>\n",
              "    </tr>\n",
              "    <tr>\n",
              "      <th>103096</th>\n",
              "      <td>103096</td>\n",
              "      <td>83367</td>\n",
              "      <td>20610</td>\n",
              "      <td>49308</td>\n",
              "      <td>DB00934</td>\n",
              "      <td>CNCCCC12CCC(C3=CC=CC=C13)C1=CC=CC=C21</td>\n",
              "      <td>DB00705</td>\n",
              "      <td>CC(C)NC1=C(N=CC=C1)N1CCN(CC1)C(=O)C1=CC2=C(N1)...</td>\n",
              "      <td>0</td>\n",
              "    </tr>\n",
              "    <tr>\n",
              "      <th>103097</th>\n",
              "      <td>103097</td>\n",
              "      <td>102301</td>\n",
              "      <td>39544</td>\n",
              "      <td>68242</td>\n",
              "      <td>DB00347</td>\n",
              "      <td>CN1C(=O)OC(C)(C)C1=O</td>\n",
              "      <td>DB00257</td>\n",
              "      <td>ClC1=CC=CC=C1C(N1C=CN=C1)(C1=CC=CC=C1)C1=CC=CC=C1</td>\n",
              "      <td>0</td>\n",
              "    </tr>\n",
              "    <tr>\n",
              "      <th>103098</th>\n",
              "      <td>103098</td>\n",
              "      <td>104594</td>\n",
              "      <td>41837</td>\n",
              "      <td>155931</td>\n",
              "      <td>DB04938</td>\n",
              "      <td>OCCOC1=CC=C(C=C1)C(=C(\\CCCl)C1=CC=CC=C1)\\C1=CC...</td>\n",
              "      <td>DB09048</td>\n",
              "      <td>CN(C(=O)C(C)(C)C1=CC(=CC(=C1)C(F)(F)F)C(F)(F)F...</td>\n",
              "      <td>0</td>\n",
              "    </tr>\n",
              "    <tr>\n",
              "      <th>103099</th>\n",
              "      <td>103099</td>\n",
              "      <td>99785</td>\n",
              "      <td>37028</td>\n",
              "      <td>65726</td>\n",
              "      <td>DB00836</td>\n",
              "      <td>CN(C)C(=O)C(CCN1CCC(O)(CC1)C1=CC=C(Cl)C=C1)(C1...</td>\n",
              "      <td>DB00502</td>\n",
              "      <td>OC1(CCN(CCCC(=O)C2=CC=C(F)C=C2)CC1)C1=CC=C(Cl)...</td>\n",
              "      <td>0</td>\n",
              "    </tr>\n",
              "    <tr>\n",
              "      <th>103100</th>\n",
              "      <td>103100</td>\n",
              "      <td>84296</td>\n",
              "      <td>21539</td>\n",
              "      <td>50237</td>\n",
              "      <td>DB12070</td>\n",
              "      <td>COC1=CC=CC(=C1)N1CCN(CC1)C1=NC2=C(C=CC=C2F)[C@...</td>\n",
              "      <td>DB01026</td>\n",
              "      <td>CC(=O)N1CCN(CC1)C1=CC=C(OCC2COC(CN3C=CN=C3)(O2...</td>\n",
              "      <td>0</td>\n",
              "    </tr>\n",
              "    <tr>\n",
              "      <th>103101</th>\n",
              "      <td>103101</td>\n",
              "      <td>116774</td>\n",
              "      <td>54017</td>\n",
              "      <td>168111</td>\n",
              "      <td>DB08873</td>\n",
              "      <td>[H][C@]12CN([C@H](C(=O)NC(CC3CCC3)C(=O)C(N)=O)...</td>\n",
              "      <td>DB01211</td>\n",
              "      <td>[H][C@@]1(C[C@@](C)(OC)[C@@H](O)[C@H](C)O1)O[C...</td>\n",
              "      <td>0</td>\n",
              "    </tr>\n",
              "    <tr>\n",
              "      <th>103102</th>\n",
              "      <td>103102</td>\n",
              "      <td>18787</td>\n",
              "      <td>18787</td>\n",
              "      <td>86592</td>\n",
              "      <td>DB00315</td>\n",
              "      <td>CN(C)CCC1=CNC2=CC=C(C[C@H]3COC(=O)N3)C=C12</td>\n",
              "      <td>DB00363</td>\n",
              "      <td>CN1CCN(CC1)C1=NC2=CC(Cl)=CC=C2NC2=CC=CC=C12</td>\n",
              "      <td>1</td>\n",
              "    </tr>\n",
              "    <tr>\n",
              "      <th>103103</th>\n",
              "      <td>103103</td>\n",
              "      <td>69232</td>\n",
              "      <td>6475</td>\n",
              "      <td>35173</td>\n",
              "      <td>DB06770</td>\n",
              "      <td>OCC1=CC=CC=C1</td>\n",
              "      <td>DB00932</td>\n",
              "      <td>[H][C@@](CC)(C1=CC(NS(=O)(=O)C2=NC=C(C=C2)C(F)...</td>\n",
              "      <td>0</td>\n",
              "    </tr>\n",
              "    <tr>\n",
              "      <th>103104</th>\n",
              "      <td>103104</td>\n",
              "      <td>113157</td>\n",
              "      <td>50400</td>\n",
              "      <td>164494</td>\n",
              "      <td>DB11730</td>\n",
              "      <td>CN(C)C(=O)C1=CC2=CN=C(NC3=CC=C(C=N3)N3CCNCC3)N...</td>\n",
              "      <td>DB01026</td>\n",
              "      <td>CC(=O)N1CCN(CC1)C1=CC=C(OCC2COC(CN3C=CN=C3)(O2...</td>\n",
              "      <td>0</td>\n",
              "    </tr>\n",
              "    <tr>\n",
              "      <th>103105</th>\n",
              "      <td>103105</td>\n",
              "      <td>98513</td>\n",
              "      <td>35756</td>\n",
              "      <td>64454</td>\n",
              "      <td>DB00277</td>\n",
              "      <td>CN1C2=C(NC=N2)C(=O)N(C)C1=O</td>\n",
              "      <td>DB00907</td>\n",
              "      <td>[H][C@]12CC[C@]([H])([C@H]([C@H](C1)OC(=O)C1=C...</td>\n",
              "      <td>0</td>\n",
              "    </tr>\n",
              "    <tr>\n",
              "      <th>103106</th>\n",
              "      <td>103106</td>\n",
              "      <td>128216</td>\n",
              "      <td>65459</td>\n",
              "      <td>179975</td>\n",
              "      <td>DB00252</td>\n",
              "      <td>O=C1NC(=O)C(N1)(C1=CC=CC=C1)C1=CC=CC=C1</td>\n",
              "      <td>DB09101</td>\n",
              "      <td>[H][C@@](CO)(C(C)C)N1C=C(C(O)=O)C(=O)C2=C1C=C(...</td>\n",
              "      <td>0</td>\n",
              "    </tr>\n",
              "    <tr>\n",
              "      <th>103107</th>\n",
              "      <td>103107</td>\n",
              "      <td>133435</td>\n",
              "      <td>70678</td>\n",
              "      <td>185194</td>\n",
              "      <td>DB01377</td>\n",
              "      <td>[O--].[Mg++]</td>\n",
              "      <td>DB00282</td>\n",
              "      <td>NCCC(O)(P(O)(O)=O)P(O)(O)=O</td>\n",
              "      <td>0</td>\n",
              "    </tr>\n",
              "    <tr>\n",
              "      <th>103108</th>\n",
              "      <td>103108</td>\n",
              "      <td>56806</td>\n",
              "      <td>56806</td>\n",
              "      <td>124611</td>\n",
              "      <td>DB01015</td>\n",
              "      <td>CC1=CC(NS(=O)(=O)C2=CC=C(N)C=C2)=NO1</td>\n",
              "      <td>DB01076</td>\n",
              "      <td>CC(C)C1=C(C(=O)NC2=CC=CC=C2)C(=C(N1CC[C@@H](O)...</td>\n",
              "      <td>1</td>\n",
              "    </tr>\n",
              "    <tr>\n",
              "      <th>103109</th>\n",
              "      <td>103109</td>\n",
              "      <td>108188</td>\n",
              "      <td>45431</td>\n",
              "      <td>159525</td>\n",
              "      <td>DB00619</td>\n",
              "      <td>CN1CCN(CC2=CC=C(C=C2)C(=O)NC2=CC(NC3=NC=CC(=N3...</td>\n",
              "      <td>DB00872</td>\n",
              "      <td>CC1=NC2=C(CCN(C(=O)C3=CC=C(NC(=O)C4=CC=CC=C4C4...</td>\n",
              "      <td>0</td>\n",
              "    </tr>\n",
              "  </tbody>\n",
              "</table>\n",
              "</div>\n",
              "      <button class=\"colab-df-convert\" onclick=\"convertToInteractive('df-06fe3302-9d0c-4eac-b217-bd94145c9555')\"\n",
              "              title=\"Convert this dataframe to an interactive table.\"\n",
              "              style=\"display:none;\">\n",
              "        \n",
              "  <svg xmlns=\"http://www.w3.org/2000/svg\" height=\"24px\"viewBox=\"0 0 24 24\"\n",
              "       width=\"24px\">\n",
              "    <path d=\"M0 0h24v24H0V0z\" fill=\"none\"/>\n",
              "    <path d=\"M18.56 5.44l.94 2.06.94-2.06 2.06-.94-2.06-.94-.94-2.06-.94 2.06-2.06.94zm-11 1L8.5 8.5l.94-2.06 2.06-.94-2.06-.94L8.5 2.5l-.94 2.06-2.06.94zm10 10l.94 2.06.94-2.06 2.06-.94-2.06-.94-.94-2.06-.94 2.06-2.06.94z\"/><path d=\"M17.41 7.96l-1.37-1.37c-.4-.4-.92-.59-1.43-.59-.52 0-1.04.2-1.43.59L10.3 9.45l-7.72 7.72c-.78.78-.78 2.05 0 2.83L4 21.41c.39.39.9.59 1.41.59.51 0 1.02-.2 1.41-.59l7.78-7.78 2.81-2.81c.8-.78.8-2.07 0-2.86zM5.41 20L4 18.59l7.72-7.72 1.47 1.35L5.41 20z\"/>\n",
              "  </svg>\n",
              "      </button>\n",
              "      \n",
              "  <style>\n",
              "    .colab-df-container {\n",
              "      display:flex;\n",
              "      flex-wrap:wrap;\n",
              "      gap: 12px;\n",
              "    }\n",
              "\n",
              "    .colab-df-convert {\n",
              "      background-color: #E8F0FE;\n",
              "      border: none;\n",
              "      border-radius: 50%;\n",
              "      cursor: pointer;\n",
              "      display: none;\n",
              "      fill: #1967D2;\n",
              "      height: 32px;\n",
              "      padding: 0 0 0 0;\n",
              "      width: 32px;\n",
              "    }\n",
              "\n",
              "    .colab-df-convert:hover {\n",
              "      background-color: #E2EBFA;\n",
              "      box-shadow: 0px 1px 2px rgba(60, 64, 67, 0.3), 0px 1px 3px 1px rgba(60, 64, 67, 0.15);\n",
              "      fill: #174EA6;\n",
              "    }\n",
              "\n",
              "    [theme=dark] .colab-df-convert {\n",
              "      background-color: #3B4455;\n",
              "      fill: #D2E3FC;\n",
              "    }\n",
              "\n",
              "    [theme=dark] .colab-df-convert:hover {\n",
              "      background-color: #434B5C;\n",
              "      box-shadow: 0px 1px 3px 1px rgba(0, 0, 0, 0.15);\n",
              "      filter: drop-shadow(0px 1px 2px rgba(0, 0, 0, 0.3));\n",
              "      fill: #FFFFFF;\n",
              "    }\n",
              "  </style>\n",
              "\n",
              "      <script>\n",
              "        const buttonEl =\n",
              "          document.querySelector('#df-06fe3302-9d0c-4eac-b217-bd94145c9555 button.colab-df-convert');\n",
              "        buttonEl.style.display =\n",
              "          google.colab.kernel.accessAllowed ? 'block' : 'none';\n",
              "\n",
              "        async function convertToInteractive(key) {\n",
              "          const element = document.querySelector('#df-06fe3302-9d0c-4eac-b217-bd94145c9555');\n",
              "          const dataTable =\n",
              "            await google.colab.kernel.invokeFunction('convertToInteractive',\n",
              "                                                     [key], {});\n",
              "          if (!dataTable) return;\n",
              "\n",
              "          const docLinkHtml = 'Like what you see? Visit the ' +\n",
              "            '<a target=\"_blank\" href=https://colab.research.google.com/notebooks/data_table.ipynb>data table notebook</a>'\n",
              "            + ' to learn more about interactive tables.';\n",
              "          element.innerHTML = '';\n",
              "          dataTable['output_type'] = 'display_data';\n",
              "          await google.colab.output.renderOutput(dataTable, element);\n",
              "          const docLink = document.createElement('div');\n",
              "          docLink.innerHTML = docLinkHtml;\n",
              "          element.appendChild(docLink);\n",
              "        }\n",
              "      </script>\n",
              "    </div>\n",
              "  </div>\n",
              "  "
            ]
          },
          "metadata": {},
          "execution_count": 26
        }
      ],
      "source": [
        "tempdf[103080:103110]"
      ]
    },
    {
      "cell_type": "code",
      "execution_count": null,
      "metadata": {
        "colab": {
          "base_uri": "https://localhost:8080/"
        },
        "id": "VKvrhUjeOhca",
        "outputId": "35d8d60c-9bc2-4eba-e5e0-b66e90dcdccb"
      },
      "outputs": [
        {
          "output_type": "execute_result",
          "data": {
            "text/plain": [
              "135637"
            ]
          },
          "metadata": {},
          "execution_count": 27
        }
      ],
      "source": [
        "class NumbersDataset(Dataset):\n",
        "    def __init__(self,filename):\n",
        "        datat = tempdf\n",
        "        # datat = datat.head(partition) \n",
        "        self.samples = list(range(2*len(datat)))\n",
        "        self.label = list(range(2*len(datat)))\n",
        "        self.sz = 0\n",
        "        idx = 0\n",
        "        for index in range(len(datat)) :\n",
        "          str1 = datat['Drug1_ID'][index]\n",
        "          str2 = datat['Drug2_ID'][index]\n",
        "\n",
        "          if (str1 in dictval) and (str2 in dictval) :\n",
        "            loop = 0\n",
        "            if datat['label'][index]==0 :\n",
        "              loop = 0\n",
        "            elif datat['label'][index]==1 :\n",
        "              loop = 0\n",
        "            else :\n",
        "              loop = 0\n",
        "\n",
        "            mat1 = dictval[str1][0]\n",
        "            mat2 = dictval[str2][0]\n",
        "            mean1 = torch.mean(mat1, axis = 0)\n",
        "            std1 = torch.std(mat1, axis = 0)\n",
        "            mean2 = torch.mean(mat2, axis = 0)\n",
        "            std2 = torch.std(mat2, axis = 0)\n",
        "            vect = torch.cat([mean1, mean2, std1, std2], dim=0)\n",
        "            self.samples[idx] = vect.detach().cpu()\n",
        "            self.label[idx] = datat['label'][index]\n",
        "            self.label[idx] = torch.tensor(self.label[idx], dtype=torch.int64)\n",
        "            idx+=1\n",
        "            for genvar in range(0,loop) : \n",
        "              eps = torch.randn_like(dictval[str1][1])\n",
        "              std = torch.exp(dictval[str1][1])\n",
        "              mat1 = eps.mul(std).add_(dictval[str1][0])\n",
        "              eps = torch.randn_like(dictval[str2][1])\n",
        "              std = torch.exp(dictval[str2][1])\n",
        "              mat2 = eps.mul(std).add_(dictval[str2][0])\n",
        "              mean1 = torch.mean(mat1, axis = 0)\n",
        "              std1 = torch.std(mat1, axis = 0)\n",
        "              mean2 = torch.mean(mat2, axis = 0)\n",
        "              std2 = torch.std(mat2, axis = 0)\n",
        "              vect = torch.cat([mean1, mean2, std1, std2], dim=0)\n",
        "              self.samples[idx] = vect.detach().cpu()\n",
        "              self.label[idx] = datat['label'][index]\n",
        "              self.label[idx] = torch.tensor(self.label[idx], dtype=torch.int64)\n",
        "              idx+=1\n",
        "        self.sz = idx\n",
        "\n",
        "\n",
        "    def __len__(self):\n",
        "        return self.sz\n",
        "\n",
        "    def __getitem__(self, idx):\n",
        "        return self.samples[idx],self.label[idx]\n",
        "\n",
        "dataset = NumbersDataset(\"drugbankbinary_train.csv\")\n",
        "len(dataset)"
      ]
    },
    {
      "cell_type": "code",
      "execution_count": null,
      "metadata": {
        "colab": {
          "base_uri": "https://localhost:8080/"
        },
        "id": "LHihSh2OBxVn",
        "outputId": "a8573b3b-4754-4f92-e44d-ea4a33e8ff1e"
      },
      "outputs": [
        {
          "output_type": "execute_result",
          "data": {
            "text/plain": [
              "32"
            ]
          },
          "metadata": {},
          "execution_count": 28
        }
      ],
      "source": [
        "data = dataset\n",
        "data[0][0].shape[0]"
      ]
    },
    {
      "cell_type": "code",
      "execution_count": null,
      "metadata": {
        "id": "qurUFaEnHjKb"
      },
      "outputs": [],
      "source": [
        "from deepchem.splits.splitters import IndexSplitter\n",
        "splitter = IndexSplitter()\n",
        "train_data, valid_data, test_data = splitter.split(data, frac_train=0.7, frac_valid=0.1, frac_test=0.2)"
      ]
    },
    {
      "cell_type": "code",
      "execution_count": null,
      "metadata": {
        "colab": {
          "base_uri": "https://localhost:8080/"
        },
        "id": "-BZOByS_IGU2",
        "outputId": "7c2e6056-0ad8-4e3a-e906-727d4e43c30d"
      },
      "outputs": [
        {
          "output_type": "stream",
          "name": "stdout",
          "text": [
            "Length of train data : 94945\n",
            "Length of valid data : 13564\n",
            "Length of test data : 27128\n"
          ]
        }
      ],
      "source": [
        "print(f'Length of train data : {len(train_data)}')\n",
        "print(f'Length of valid data : {len(valid_data)}')\n",
        "print(f'Length of test data : {len(test_data)}')"
      ]
    },
    {
      "cell_type": "code",
      "execution_count": null,
      "metadata": {
        "id": "YOeyNwT_Inid"
      },
      "outputs": [],
      "source": [
        "data_train_val = []\n",
        "for i in range(len(train_data)):\n",
        "  data_train_val.append(data[train_data[i]])"
      ]
    },
    {
      "cell_type": "code",
      "execution_count": null,
      "metadata": {
        "id": "VZNgN3R3I2cg"
      },
      "outputs": [],
      "source": [
        "for i in range(len(valid_data)):\n",
        "  data_train_val.append(data[valid_data[i]])"
      ]
    },
    {
      "cell_type": "code",
      "execution_count": null,
      "metadata": {
        "id": "NdENZuUnJMx2"
      },
      "outputs": [],
      "source": [
        "data_train_val = tuple(data_train_val)"
      ]
    },
    {
      "cell_type": "code",
      "execution_count": null,
      "metadata": {
        "colab": {
          "base_uri": "https://localhost:8080/"
        },
        "id": "CC4myXKbI-Wk",
        "outputId": "e6d30017-c02a-402b-f60e-442cce6046df"
      },
      "outputs": [
        {
          "output_type": "execute_result",
          "data": {
            "text/plain": [
              "108509"
            ]
          },
          "metadata": {},
          "execution_count": 34
        }
      ],
      "source": [
        "len(data_train_val)"
      ]
    },
    {
      "cell_type": "code",
      "execution_count": null,
      "metadata": {
        "id": "0KwD3Z-PUXFO"
      },
      "outputs": [],
      "source": [
        "from sklearn.model_selection import KFold\n",
        "K = 8\n",
        "kfold = KFold(n_splits=K, random_state=3, shuffle=True)"
      ]
    },
    {
      "cell_type": "code",
      "execution_count": null,
      "metadata": {
        "colab": {
          "base_uri": "https://localhost:8080/"
        },
        "id": "Iyq-J7tWJW-V",
        "outputId": "fd396f7d-6d7d-4c1c-b419-7fa8e108796c"
      },
      "outputs": [
        {
          "output_type": "execute_result",
          "data": {
            "text/plain": [
              "0.7000007372619566"
            ]
          },
          "metadata": {},
          "execution_count": 37
        }
      ],
      "source": [
        "94946/len(data)"
      ]
    },
    {
      "cell_type": "code",
      "execution_count": null,
      "metadata": {
        "colab": {
          "base_uri": "https://localhost:8080/"
        },
        "id": "YxIz90EzBD9a",
        "outputId": "0019e2b1-a6e9-4afb-c56c-2eafd179d93b"
      },
      "outputs": [
        {
          "output_type": "stream",
          "name": "stdout",
          "text": [
            "NeuralNet(\n",
            "  (fc1): Linear(in_features=32, out_features=150, bias=True)\n",
            "  (relu): ReLU()\n",
            "  (fc2): Linear(in_features=150, out_features=2, bias=True)\n",
            ")\n",
            "Number of parameters:  5252\n"
          ]
        }
      ],
      "source": [
        "import torch.nn.functional as F \n",
        "torch.manual_seed(42)\n",
        "\n",
        "class NeuralNet(torch.nn.Module):\n",
        "    def __init__(self, input_size, hidden_size):\n",
        "        super(NeuralNet, self).__init__()\n",
        "        self.input_size = input_size\n",
        "        self.hidden_size  = hidden_size\n",
        "        self.fc1 = torch.nn.Linear(self.input_size, self.hidden_size)\n",
        "        self.relu = torch.nn.ReLU()\n",
        "        self.fc2 = torch.nn.Linear(self.hidden_size, n_classes)\n",
        "        \n",
        "    def forward(self, x):\n",
        "        x = self.fc1(x)\n",
        "        x = self.relu(x)\n",
        "        x = self.fc2(x)\n",
        "        x = F.softmax(x, dim=1)\n",
        "        return x\n",
        "model_ff = NeuralNet(data[0][0].shape[0],150)\n",
        "print(model_ff)\n",
        "print(\"Number of parameters: \", sum(p.numel() for p in model_ff.parameters()))"
      ]
    },
    {
      "cell_type": "code",
      "execution_count": null,
      "metadata": {
        "id": "rGXeLi44ScFo"
      },
      "outputs": [],
      "source": [
        "filename = \"classification.pth\"\n",
        "torch.save(model_ff.state_dict(), filename)"
      ]
    },
    {
      "cell_type": "code",
      "execution_count": null,
      "metadata": {
        "colab": {
          "base_uri": "https://localhost:8080/"
        },
        "id": "Y6ssfTofP0Pi",
        "outputId": "c59242ff-24d0-48ce-f349-aef66e8e6739"
      },
      "outputs": [
        {
          "output_type": "stream",
          "name": "stdout",
          "text": [
            "Starting training...\n",
            "Fold 0\n",
            "train_ids : [     1      2      3 ... 108506 108507 108508]\n",
            "val_ids : [     0      5      9 ... 108485 108490 108492]\n",
            "Epoch 0 | Train Loss 0.6146441698074341\n",
            "Epoch 50 | Train Loss 0.42620208859443665\n",
            "Epoch 100 | Train Loss 0.38969776034355164\n",
            "Epoch 150 | Train Loss 0.36959224939346313\n",
            "Epoch 200 | Train Loss 0.3618987500667572\n",
            "Epoch 250 | Train Loss 0.3587968945503235\n",
            "For Fold 0 Val F1_score: 0.9320619819572284\n",
            "Fold 1\n",
            "train_ids : [     0      1      2 ... 108506 108507 108508]\n",
            "val_ids : [     3     23     33 ... 108465 108481 108494]\n",
            "Epoch 0 | Train Loss 0.3623116910457611\n",
            "Epoch 50 | Train Loss 0.37173575162887573\n",
            "Epoch 100 | Train Loss 0.3647363781929016\n",
            "Epoch 150 | Train Loss 0.35971391201019287\n",
            "Epoch 200 | Train Loss 0.35628801584243774\n",
            "Epoch 250 | Train Loss 0.3716113269329071\n",
            "For Fold 1 Val F1_score: 0.9452653697955716\n",
            "Fold 2\n",
            "train_ids : [     0      1      2 ... 108505 108506 108507]\n",
            "val_ids : [    11     15     17 ... 108488 108491 108508]\n",
            "Epoch 0 | Train Loss 0.34613779187202454\n",
            "Epoch 50 | Train Loss 0.36238113045692444\n",
            "Epoch 100 | Train Loss 0.35148143768310547\n",
            "Epoch 150 | Train Loss 0.3558739721775055\n",
            "Epoch 200 | Train Loss 0.35943812131881714\n",
            "Epoch 250 | Train Loss 0.35468724370002747\n",
            "For Fold 2 Val F1_score: 0.9362219856697247\n",
            "Fold 3\n",
            "train_ids : [     0      1      2 ... 108506 108507 108508]\n",
            "val_ids : [    13     29     38 ... 108463 108484 108496]\n",
            "Epoch 0 | Train Loss 0.370438814163208\n",
            "Epoch 50 | Train Loss 0.3623502552509308\n",
            "Epoch 100 | Train Loss 0.37185949087142944\n",
            "Epoch 150 | Train Loss 0.364482045173645\n",
            "Epoch 200 | Train Loss 0.36593109369277954\n",
            "Epoch 250 | Train Loss 0.36069807410240173\n",
            "For Fold 3 Val F1_score: 0.9497146600656483\n",
            "Fold 4\n",
            "train_ids : [     0      1      2 ... 108506 108507 108508]\n",
            "val_ids : [    14     18     55 ... 108497 108503 108505]\n",
            "Epoch 0 | Train Loss 0.3631162643432617\n",
            "Epoch 50 | Train Loss 0.3535138964653015\n",
            "Epoch 100 | Train Loss 0.349513977766037\n",
            "Epoch 150 | Train Loss 0.34685570001602173\n",
            "Epoch 200 | Train Loss 0.3475421369075775\n",
            "Epoch 250 | Train Loss 0.349379301071167\n",
            "For Fold 4 Val F1_score: 0.9541276888969832\n",
            "Fold 5\n",
            "train_ids : [     0      1      2 ... 108505 108507 108508]\n",
            "val_ids : [     4     25     27 ... 108500 108504 108506]\n",
            "Epoch 0 | Train Loss 0.3240218460559845\n",
            "Epoch 50 | Train Loss 0.32495659589767456\n",
            "Epoch 100 | Train Loss 0.32706862688064575\n",
            "Epoch 150 | Train Loss 0.3329488933086395\n",
            "Epoch 200 | Train Loss 0.33205994963645935\n",
            "Epoch 250 | Train Loss 0.3248046636581421\n",
            "For Fold 5 Val F1_score: 0.9523198240533888\n",
            "Fold 6\n",
            "train_ids : [     0      2      3 ... 108505 108506 108508]\n",
            "val_ids : [     1      7     19 ... 108489 108493 108507]\n",
            "Epoch 0 | Train Loss 0.36632055044174194\n",
            "Epoch 50 | Train Loss 0.3494924306869507\n",
            "Epoch 100 | Train Loss 0.34692996740341187\n",
            "Epoch 150 | Train Loss 0.34532785415649414\n",
            "Epoch 200 | Train Loss 0.3512513339519501\n",
            "Epoch 250 | Train Loss 0.3466567099094391\n",
            "For Fold 6 Val F1_score: 0.9574942588477389\n",
            "Fold 7\n",
            "train_ids : [     0      1      3 ... 108506 108507 108508]\n",
            "val_ids : [     2      6      8 ... 108480 108501 108502]\n",
            "Epoch 0 | Train Loss 0.3570675253868103\n",
            "Epoch 50 | Train Loss 0.34450262784957886\n",
            "Epoch 100 | Train Loss 0.3473208248615265\n",
            "Epoch 150 | Train Loss 0.3442137539386749\n",
            "Epoch 200 | Train Loss 0.3533055782318115\n",
            "Epoch 250 | Train Loss 0.3443280756473541\n",
            "For Fold 7 Val F1_score: 0.9558126664891075\n"
          ]
        }
      ],
      "source": [
        "loss_fn = nn.CrossEntropyLoss()\n",
        "optimizer = torch.optim.Adam(model_ff.parameters(), lr=0.001)  \n",
        "\n",
        "# Use GPU for training\n",
        "model_ff = model_ff.to(device)\n",
        "loss_fn = loss_fn.to(device)\n",
        "\n",
        "# Wrap data in a data loader\n",
        "# data_size = len(data)\n",
        "# NUM_GRAPHS_PER_BATCH = 128\n",
        "# loader = DataLoader(data,batch_size=NUM_GRAPHS_PER_BATCH, shuffle=True)\n",
        "\n",
        "\n",
        "\n",
        "def train(data):\n",
        "      # Enumerate over the data\n",
        "    for batch in train_loader:\n",
        "      # Use GPU\n",
        "      batch[0] = batch[0].to(device) \n",
        "      batch[1] = batch[1].to(device)  \n",
        "      # Reset gradients\n",
        "      optimizer.zero_grad() \n",
        "      # Passing the node features and the connection info\n",
        "      \n",
        "      pred = model_ff(batch[0]) \n",
        "      \n",
        "      # Calculating the loss and gradients\n",
        "      \n",
        "      \n",
        "      loss = (loss_fn(pred, batch[1]))      \n",
        "      loss.backward()  \n",
        "      # Update using the gradients\n",
        "      optimizer.step()   \n",
        "    return loss\n",
        "  \n",
        "def test(data):\n",
        "  model_ff.eval()\n",
        "  with torch.no_grad():\n",
        "    # Enumerate over the data\n",
        "      for test_batch in test_loader : \n",
        "        test_batch[0] = test_batch[0].to(device)\n",
        "        test_batch[1] = test_batch[1].to(device)\n",
        "        pred = model_ff(test_batch[0]) \n",
        "        pred_frac0 = pred[:,0]\n",
        "        pred_frac1 = pred[:,1]\n",
        "        pred = pred.argmax(dim=1)  \n",
        "        dftt = pd.DataFrame()\n",
        "        dftt[\"y_real\"] = test_batch[1].tolist()\n",
        "        dftt[\"y_pred\"] = pred.tolist()\n",
        "        score = f1_score(dftt['y_real'], dftt['y_pred'],average='macro')\n",
        "        # print(f1_score(dftt['y_real'], dftt['y_pred'],average='macro'))  \n",
        "      return score\n",
        "\n",
        "print(\"Starting training...\")\n",
        "losses = []\n",
        "for fold,(x,y) in enumerate(kfold.split(data_train_val)):\n",
        "  datax = []\n",
        "  datay = []\n",
        "  print(f'Fold {fold}')\n",
        "  print(f'train_ids : {x}')\n",
        "  print(f'val_ids : {y}')\n",
        "  for i in range(len(x)):\n",
        "    datax.append(data[x[i]])\n",
        "  for n in range(len(y)):\n",
        "    datay.append(data[y[n]])\n",
        "  datax = tuple(datax)\n",
        "  datay = tuple(datay)\n",
        "  train_loader = DataLoader(datax,batch_size=128)\n",
        "  test_loader = DataLoader(datay, batch_size=len(datay))\n",
        "  # filename = \"classification.pth\"\n",
        "  # model_ff.load_state_dict(torch.load(filename))\n",
        "  for epoch in range(251):\n",
        "      loss = train(data)\n",
        "      losses.append(loss)\n",
        "      if epoch % 50 == 0:\n",
        "        print(f\"Epoch {epoch} | Train Loss {loss}\")\n",
        "  filename = f'model{fold}.pth'\n",
        "  torch.save(model_ff.state_dict(),filename)\n",
        "  score = test(data)\n",
        "  print(f'For Fold {fold} Val F1_score: {score}')"
      ]
    },
    {
      "cell_type": "code",
      "execution_count": null,
      "metadata": {
        "colab": {
          "base_uri": "https://localhost:8080/",
          "height": 282
        },
        "id": "Ar5Y6d-aRufN",
        "outputId": "321d3a8b-3bf1-47d5-f3f6-c57eb1183c40"
      },
      "outputs": [
        {
          "output_type": "execute_result",
          "data": {
            "text/plain": [
              "<matplotlib.axes._subplots.AxesSubplot at 0x7f11cf693a90>"
            ]
          },
          "metadata": {},
          "execution_count": 41
        },
        {
          "output_type": "display_data",
          "data": {
            "text/plain": [
              "<Figure size 432x288 with 1 Axes>"
            ],
            "image/png": "[encoded data removed]"
          },
          "metadata": {
            "needs_background": "light"
          }
        }
      ],
      "source": [
        "losses_float = [float(loss.cpu().detach().numpy()) for loss in losses] \n",
        "loss_indices = [i for i,l in enumerate(losses_float)] \n",
        "plt = sns.lineplot(loss_indices, losses_float)\n",
        "plt"
      ]
    },
    {
      "cell_type": "code",
      "execution_count": null,
      "metadata": {
        "id": "WCHTpLaRQ7yP"
      },
      "outputs": [],
      "source": [
        "data_test = []\n",
        "for i in range(len(test_data)):\n",
        "  data_test.append(data[test_data[i]])"
      ]
    },
    {
      "cell_type": "code",
      "execution_count": null,
      "metadata": {
        "id": "nsHuTMgMRLUX"
      },
      "outputs": [],
      "source": [
        "data_test = tuple(data_test)"
      ]
    },
    {
      "cell_type": "code",
      "execution_count": null,
      "metadata": {
        "colab": {
          "base_uri": "https://localhost:8080/"
        },
        "id": "M5cTE5FXRHe1",
        "outputId": "adbba858-1d8e-4d96-d489-119672ed65ea"
      },
      "outputs": [
        {
          "output_type": "execute_result",
          "data": {
            "text/plain": [
              "27128"
            ]
          },
          "metadata": {},
          "execution_count": 45
        }
      ],
      "source": [
        "len(data_test)"
      ]
    },
    {
      "cell_type": "code",
      "execution_count": null,
      "metadata": {
        "colab": {
          "base_uri": "https://localhost:8080/"
        },
        "id": "B9XucMk-kfpH",
        "outputId": "b9b11695-7ff4-4e5b-b093-f6f230bf2538"
      },
      "outputs": [
        {
          "output_type": "execute_result",
          "data": {
            "text/plain": [
              "NeuralNet(\n",
              "  (fc1): Linear(in_features=32, out_features=150, bias=True)\n",
              "  (relu): ReLU()\n",
              "  (fc2): Linear(in_features=150, out_features=2, bias=True)\n",
              ")"
            ]
          },
          "metadata": {},
          "execution_count": 72
        }
      ],
      "source": [
        "filename = \"model6.pth\"\n",
        "classification_model = NeuralNet(data[0][0].shape[0],150)\n",
        "classification_model.load_state_dict(torch.load(filename))\n",
        "classification_model.eval()\n",
        "classification_model.to(device)"
      ]
    },
    {
      "cell_type": "code",
      "execution_count": null,
      "metadata": {
        "colab": {
          "base_uri": "https://localhost:8080/",
          "height": 223
        },
        "id": "ZHFqlCvORz_i",
        "outputId": "1e80d75f-3e55-455d-c88f-ee343ae5c088"
      },
      "outputs": [
        {
          "output_type": "stream",
          "name": "stdout",
          "text": [
            "0.9463870562370081\n"
          ]
        },
        {
          "output_type": "execute_result",
          "data": {
            "text/plain": [
              "      y_real y_pred  y_predfrac0   y_predfrac1\n",
              "27123      0      0     1.000000  3.126221e-13\n",
              "27124      0      0     0.998805  1.195262e-03\n",
              "27125      0      0     0.998922  1.078234e-03\n",
              "27126      0      0     1.000000  1.051343e-07\n",
              "27127      1      1     0.038121  9.618791e-01"
            ],
            "text/html": [
              "\n",
              "  <div id=\"df-72715125-f078-4f50-aff4-46d717489135\">\n",
              "    <div class=\"colab-df-container\">\n",
              "      <div>\n",
              "<style scoped>\n",
              "    .dataframe tbody tr th:only-of-type {\n",
              "        vertical-align: middle;\n",
              "    }\n",
              "\n",
              "    .dataframe tbody tr th {\n",
              "        vertical-align: top;\n",
              "    }\n",
              "\n",
              "    .dataframe thead th {\n",
              "        text-align: right;\n",
              "    }\n",
              "</style>\n",
              "<table border=\"1\" class=\"dataframe\">\n",
              "  <thead>\n",
              "    <tr style=\"text-align: right;\">\n",
              "      <th></th>\n",
              "      <th>y_real</th>\n",
              "      <th>y_pred</th>\n",
              "      <th>y_predfrac0</th>\n",
              "      <th>y_predfrac1</th>\n",
              "    </tr>\n",
              "  </thead>\n",
              "  <tbody>\n",
              "    <tr>\n",
              "      <th>27123</th>\n",
              "      <td>0</td>\n",
              "      <td>0</td>\n",
              "      <td>1.000000</td>\n",
              "      <td>3.126221e-13</td>\n",
              "    </tr>\n",
              "    <tr>\n",
              "      <th>27124</th>\n",
              "      <td>0</td>\n",
              "      <td>0</td>\n",
              "      <td>0.998805</td>\n",
              "      <td>1.195262e-03</td>\n",
              "    </tr>\n",
              "    <tr>\n",
              "      <th>27125</th>\n",
              "      <td>0</td>\n",
              "      <td>0</td>\n",
              "      <td>0.998922</td>\n",
              "      <td>1.078234e-03</td>\n",
              "    </tr>\n",
              "    <tr>\n",
              "      <th>27126</th>\n",
              "      <td>0</td>\n",
              "      <td>0</td>\n",
              "      <td>1.000000</td>\n",
              "      <td>1.051343e-07</td>\n",
              "    </tr>\n",
              "    <tr>\n",
              "      <th>27127</th>\n",
              "      <td>1</td>\n",
              "      <td>1</td>\n",
              "      <td>0.038121</td>\n",
              "      <td>9.618791e-01</td>\n",
              "    </tr>\n",
              "  </tbody>\n",
              "</table>\n",
              "</div>\n",
              "      <button class=\"colab-df-convert\" onclick=\"convertToInteractive('df-72715125-f078-4f50-aff4-46d717489135')\"\n",
              "              title=\"Convert this dataframe to an interactive table.\"\n",
              "              style=\"display:none;\">\n",
              "        \n",
              "  <svg xmlns=\"http://www.w3.org/2000/svg\" height=\"24px\"viewBox=\"0 0 24 24\"\n",
              "       width=\"24px\">\n",
              "    <path d=\"M0 0h24v24H0V0z\" fill=\"none\"/>\n",
              "    <path d=\"M18.56 5.44l.94 2.06.94-2.06 2.06-.94-2.06-.94-.94-2.06-.94 2.06-2.06.94zm-11 1L8.5 8.5l.94-2.06 2.06-.94-2.06-.94L8.5 2.5l-.94 2.06-2.06.94zm10 10l.94 2.06.94-2.06 2.06-.94-2.06-.94-.94-2.06-.94 2.06-2.06.94z\"/><path d=\"M17.41 7.96l-1.37-1.37c-.4-.4-.92-.59-1.43-.59-.52 0-1.04.2-1.43.59L10.3 9.45l-7.72 7.72c-.78.78-.78 2.05 0 2.83L4 21.41c.39.39.9.59 1.41.59.51 0 1.02-.2 1.41-.59l7.78-7.78 2.81-2.81c.8-.78.8-2.07 0-2.86zM5.41 20L4 18.59l7.72-7.72 1.47 1.35L5.41 20z\"/>\n",
              "  </svg>\n",
              "      </button>\n",
              "      \n",
              "  <style>\n",
              "    .colab-df-container {\n",
              "      display:flex;\n",
              "      flex-wrap:wrap;\n",
              "      gap: 12px;\n",
              "    }\n",
              "\n",
              "    .colab-df-convert {\n",
              "      background-color: #E8F0FE;\n",
              "      border: none;\n",
              "      border-radius: 50%;\n",
              "      cursor: pointer;\n",
              "      display: none;\n",
              "      fill: #1967D2;\n",
              "      height: 32px;\n",
              "      padding: 0 0 0 0;\n",
              "      width: 32px;\n",
              "    }\n",
              "\n",
              "    .colab-df-convert:hover {\n",
              "      background-color: #E2EBFA;\n",
              "      box-shadow: 0px 1px 2px rgba(60, 64, 67, 0.3), 0px 1px 3px 1px rgba(60, 64, 67, 0.15);\n",
              "      fill: #174EA6;\n",
              "    }\n",
              "\n",
              "    [theme=dark] .colab-df-convert {\n",
              "      background-color: #3B4455;\n",
              "      fill: #D2E3FC;\n",
              "    }\n",
              "\n",
              "    [theme=dark] .colab-df-convert:hover {\n",
              "      background-color: #434B5C;\n",
              "      box-shadow: 0px 1px 3px 1px rgba(0, 0, 0, 0.15);\n",
              "      filter: drop-shadow(0px 1px 2px rgba(0, 0, 0, 0.3));\n",
              "      fill: #FFFFFF;\n",
              "    }\n",
              "  </style>\n",
              "\n",
              "      <script>\n",
              "        const buttonEl =\n",
              "          document.querySelector('#df-72715125-f078-4f50-aff4-46d717489135 button.colab-df-convert');\n",
              "        buttonEl.style.display =\n",
              "          google.colab.kernel.accessAllowed ? 'block' : 'none';\n",
              "\n",
              "        async function convertToInteractive(key) {\n",
              "          const element = document.querySelector('#df-72715125-f078-4f50-aff4-46d717489135');\n",
              "          const dataTable =\n",
              "            await google.colab.kernel.invokeFunction('convertToInteractive',\n",
              "                                                     [key], {});\n",
              "          if (!dataTable) return;\n",
              "\n",
              "          const docLinkHtml = 'Like what you see? Visit the ' +\n",
              "            '<a target=\"_blank\" href=https://colab.research.google.com/notebooks/data_table.ipynb>data table notebook</a>'\n",
              "            + ' to learn more about interactive tables.';\n",
              "          element.innerHTML = '';\n",
              "          dataTable['output_type'] = 'display_data';\n",
              "          await google.colab.output.renderOutput(dataTable, element);\n",
              "          const docLink = document.createElement('div');\n",
              "          docLink.innerHTML = docLinkHtml;\n",
              "          element.appendChild(docLink);\n",
              "        }\n",
              "      </script>\n",
              "    </div>\n",
              "  </div>\n",
              "  "
            ]
          },
          "metadata": {},
          "execution_count": 73
        }
      ],
      "source": [
        "test_loader = DataLoader(data_test,batch_size=len(data_test), shuffle=True)\n",
        "dffull = pd.DataFrame(columns = ['y_real','y_pred'])\n",
        "with torch.no_grad():\n",
        "    for test_batch in test_loader : \n",
        "      test_batch[0] = test_batch[0].to(device)\n",
        "      test_batch[1] = test_batch[1].to(device)\n",
        "      pred = classification_model(test_batch[0]) \n",
        "      pred_frac0 = pred[:,0]\n",
        "      pred_frac1 = pred[:,1]\n",
        "      if n_classes == 3 : \n",
        "        pred_frac2 = pred[:,2]\n",
        "      pred = pred.argmax(dim=1)  \n",
        "      dftt = pd.DataFrame()\n",
        "      dftt[\"y_real\"] = test_batch[1].tolist()\n",
        "      dftt[\"y_pred\"] = pred.tolist()\n",
        "      dftt[\"y_predfrac0\"] = pred_frac0.tolist()\n",
        "      dftt[\"y_predfrac1\"] = pred_frac1.tolist()\n",
        "      if n_classes == 3 : \n",
        "        dftt[\"y_predfrac2\"] = pred_frac2.tolist()\n",
        "      dffull = dffull.append(dftt)\n",
        "      print(f1_score(dftt['y_real'], dftt['y_pred'],average='macro'))\n",
        "\n",
        "dffull.to_csv('tt.csv')\n",
        "dffull.tail()"
      ]
    },
    {
      "cell_type": "code",
      "execution_count": null,
      "metadata": {
        "colab": {
          "base_uri": "https://localhost:8080/"
        },
        "id": "-z3jBAnBthA6",
        "outputId": "57a4528b-6cb6-484d-e120-3735d94aeea4"
      },
      "outputs": [
        {
          "output_type": "execute_result",
          "data": {
            "text/plain": [
              "0    14723\n",
              "1    12405\n",
              "Name: y_real, dtype: int64"
            ]
          },
          "metadata": {},
          "execution_count": 74
        }
      ],
      "source": [
        "dffull['y_real'].value_counts()"
      ]
    },
    {
      "cell_type": "code",
      "execution_count": null,
      "metadata": {
        "colab": {
          "base_uri": "https://localhost:8080/"
        },
        "id": "mz0tFbzpt0ju",
        "outputId": "d9e3e774-d6ea-42cc-8e6c-d3771e5f9bbe"
      },
      "outputs": [
        {
          "output_type": "execute_result",
          "data": {
            "text/plain": [
              "0    14808\n",
              "1    12320\n",
              "Name: y_pred, dtype: int64"
            ]
          },
          "metadata": {},
          "execution_count": 75
        }
      ],
      "source": [
        "dffull['y_pred'].value_counts()"
      ]
    },
    {
      "cell_type": "code",
      "execution_count": null,
      "metadata": {
        "colab": {
          "base_uri": "https://localhost:8080/",
          "height": 370
        },
        "id": "m4HgEI5slM2A",
        "outputId": "879e9c73-907c-40a2-a1bc-a447fc764fba"
      },
      "outputs": [
        {
          "output_type": "stream",
          "name": "stdout",
          "text": [
            "F1_score(macro) :  0.9463870562370081\n",
            "F1_score(micro) :  0.9468077263344147\n",
            "Accuracy :  0.9468077263344147\n",
            "Confusion Matrix : \n"
          ]
        },
        {
          "output_type": "execute_result",
          "data": {
            "text/plain": [
              "<sklearn.metrics._plot.confusion_matrix.ConfusionMatrixDisplay at 0x7f11c8871a60>"
            ]
          },
          "metadata": {},
          "execution_count": 76
        },
        {
          "output_type": "display_data",
          "data": {
            "text/plain": [
              "<Figure size 432x288 with 2 Axes>"
            ],
            "image/png": "[encoded data removed]"
          },
          "metadata": {
            "needs_background": "light"
          }
        }
      ],
      "source": [
        "datahead = pd.read_csv('tt.csv')\n",
        "\n",
        "print(\"F1_score(macro) : \", f1_score(datahead['y_real'], datahead['y_pred'],average='macro'))\n",
        "print(\"F1_score(micro) : \", f1_score(datahead['y_real'], datahead['y_pred'],average='micro'))\n",
        "print(\"Accuracy : \", accuracy_score(datahead['y_real'], datahead['y_pred']))\n",
        "print(\"Confusion Matrix : \")\n",
        "confusion_mat = confusion_matrix(datahead['y_real'], datahead['y_pred'])\n",
        "cm_display = metrics.ConfusionMatrixDisplay(confusion_matrix = confusion_mat, display_labels = [False, True])\n",
        "cm_display.plot()"
      ]
    },
    {
      "cell_type": "code",
      "execution_count": null,
      "metadata": {
        "colab": {
          "base_uri": "https://localhost:8080/",
          "height": 206
        },
        "id": "PmeZKzhKSEKj",
        "outputId": "ff05a0a5-3f34-42c0-c101-bef32f25e16a"
      },
      "outputs": [
        {
          "output_type": "execute_result",
          "data": {
            "text/plain": [
              "    y_predfrac0  y_predfrac1\n",
              "0  9.996513e-01     0.000349\n",
              "1  9.999338e-01     0.000066\n",
              "2  9.999816e-01     0.000018\n",
              "3  3.397546e-14     1.000000\n",
              "4  9.999976e-01     0.000002"
            ],
            "text/html": [
              "\n",
              "  <div id=\"df-0ac1ac3a-b0ad-4b3e-8a16-6179d0b8f6a3\">\n",
              "    <div class=\"colab-df-container\">\n",
              "      <div>\n",
              "<style scoped>\n",
              "    .dataframe tbody tr th:only-of-type {\n",
              "        vertical-align: middle;\n",
              "    }\n",
              "\n",
              "    .dataframe tbody tr th {\n",
              "        vertical-align: top;\n",
              "    }\n",
              "\n",
              "    .dataframe thead th {\n",
              "        text-align: right;\n",
              "    }\n",
              "</style>\n",
              "<table border=\"1\" class=\"dataframe\">\n",
              "  <thead>\n",
              "    <tr style=\"text-align: right;\">\n",
              "      <th></th>\n",
              "      <th>y_predfrac0</th>\n",
              "      <th>y_predfrac1</th>\n",
              "    </tr>\n",
              "  </thead>\n",
              "  <tbody>\n",
              "    <tr>\n",
              "      <th>0</th>\n",
              "      <td>9.996513e-01</td>\n",
              "      <td>0.000349</td>\n",
              "    </tr>\n",
              "    <tr>\n",
              "      <th>1</th>\n",
              "      <td>9.999338e-01</td>\n",
              "      <td>0.000066</td>\n",
              "    </tr>\n",
              "    <tr>\n",
              "      <th>2</th>\n",
              "      <td>9.999816e-01</td>\n",
              "      <td>0.000018</td>\n",
              "    </tr>\n",
              "    <tr>\n",
              "      <th>3</th>\n",
              "      <td>3.397546e-14</td>\n",
              "      <td>1.000000</td>\n",
              "    </tr>\n",
              "    <tr>\n",
              "      <th>4</th>\n",
              "      <td>9.999976e-01</td>\n",
              "      <td>0.000002</td>\n",
              "    </tr>\n",
              "  </tbody>\n",
              "</table>\n",
              "</div>\n",
              "      <button class=\"colab-df-convert\" onclick=\"convertToInteractive('df-0ac1ac3a-b0ad-4b3e-8a16-6179d0b8f6a3')\"\n",
              "              title=\"Convert this dataframe to an interactive table.\"\n",
              "              style=\"display:none;\">\n",
              "        \n",
              "  <svg xmlns=\"http://www.w3.org/2000/svg\" height=\"24px\"viewBox=\"0 0 24 24\"\n",
              "       width=\"24px\">\n",
              "    <path d=\"M0 0h24v24H0V0z\" fill=\"none\"/>\n",
              "    <path d=\"M18.56 5.44l.94 2.06.94-2.06 2.06-.94-2.06-.94-.94-2.06-.94 2.06-2.06.94zm-11 1L8.5 8.5l.94-2.06 2.06-.94-2.06-.94L8.5 2.5l-.94 2.06-2.06.94zm10 10l.94 2.06.94-2.06 2.06-.94-2.06-.94-.94-2.06-.94 2.06-2.06.94z\"/><path d=\"M17.41 7.96l-1.37-1.37c-.4-.4-.92-.59-1.43-.59-.52 0-1.04.2-1.43.59L10.3 9.45l-7.72 7.72c-.78.78-.78 2.05 0 2.83L4 21.41c.39.39.9.59 1.41.59.51 0 1.02-.2 1.41-.59l7.78-7.78 2.81-2.81c.8-.78.8-2.07 0-2.86zM5.41 20L4 18.59l7.72-7.72 1.47 1.35L5.41 20z\"/>\n",
              "  </svg>\n",
              "      </button>\n",
              "      \n",
              "  <style>\n",
              "    .colab-df-container {\n",
              "      display:flex;\n",
              "      flex-wrap:wrap;\n",
              "      gap: 12px;\n",
              "    }\n",
              "\n",
              "    .colab-df-convert {\n",
              "      background-color: #E8F0FE;\n",
              "      border: none;\n",
              "      border-radius: 50%;\n",
              "      cursor: pointer;\n",
              "      display: none;\n",
              "      fill: #1967D2;\n",
              "      height: 32px;\n",
              "      padding: 0 0 0 0;\n",
              "      width: 32px;\n",
              "    }\n",
              "\n",
              "    .colab-df-convert:hover {\n",
              "      background-color: #E2EBFA;\n",
              "      box-shadow: 0px 1px 2px rgba(60, 64, 67, 0.3), 0px 1px 3px 1px rgba(60, 64, 67, 0.15);\n",
              "      fill: #174EA6;\n",
              "    }\n",
              "\n",
              "    [theme=dark] .colab-df-convert {\n",
              "      background-color: #3B4455;\n",
              "      fill: #D2E3FC;\n",
              "    }\n",
              "\n",
              "    [theme=dark] .colab-df-convert:hover {\n",
              "      background-color: #434B5C;\n",
              "      box-shadow: 0px 1px 3px 1px rgba(0, 0, 0, 0.15);\n",
              "      filter: drop-shadow(0px 1px 2px rgba(0, 0, 0, 0.3));\n",
              "      fill: #FFFFFF;\n",
              "    }\n",
              "  </style>\n",
              "\n",
              "      <script>\n",
              "        const buttonEl =\n",
              "          document.querySelector('#df-0ac1ac3a-b0ad-4b3e-8a16-6179d0b8f6a3 button.colab-df-convert');\n",
              "        buttonEl.style.display =\n",
              "          google.colab.kernel.accessAllowed ? 'block' : 'none';\n",
              "\n",
              "        async function convertToInteractive(key) {\n",
              "          const element = document.querySelector('#df-0ac1ac3a-b0ad-4b3e-8a16-6179d0b8f6a3');\n",
              "          const dataTable =\n",
              "            await google.colab.kernel.invokeFunction('convertToInteractive',\n",
              "                                                     [key], {});\n",
              "          if (!dataTable) return;\n",
              "\n",
              "          const docLinkHtml = 'Like what you see? Visit the ' +\n",
              "            '<a target=\"_blank\" href=https://colab.research.google.com/notebooks/data_table.ipynb>data table notebook</a>'\n",
              "            + ' to learn more about interactive tables.';\n",
              "          element.innerHTML = '';\n",
              "          dataTable['output_type'] = 'display_data';\n",
              "          await google.colab.output.renderOutput(dataTable, element);\n",
              "          const docLink = document.createElement('div');\n",
              "          docLink.innerHTML = docLinkHtml;\n",
              "          element.appendChild(docLink);\n",
              "        }\n",
              "      </script>\n",
              "    </div>\n",
              "  </div>\n",
              "  "
            ]
          },
          "metadata": {},
          "execution_count": 77
        }
      ],
      "source": [
        "dfttt = datahead.iloc[:,3:]\n",
        "dfttt.head()"
      ]
    },
    {
      "cell_type": "code",
      "execution_count": null,
      "metadata": {
        "id": "gYp5tREjSCVR"
      },
      "outputs": [],
      "source": [
        "probab = dfttt.to_numpy()"
      ]
    },
    {
      "cell_type": "code",
      "execution_count": null,
      "metadata": {
        "colab": {
          "base_uri": "https://localhost:8080/"
        },
        "id": "9pDb4BTTxG4I",
        "outputId": "9f65aad7-4e0f-4f6a-d508-4223462fb8e7"
      },
      "outputs": [
        {
          "output_type": "stream",
          "name": "stdout",
          "text": [
            "AUC: 0.979\n"
          ]
        }
      ],
      "source": [
        "if n_classes==3 : \n",
        "  macro_roc_auc_ovo = roc_auc_score(datahead['y_real'],probab, multi_class=\"ovo\", average=\"macro\")\n",
        "  print(macro_roc_auc_ovo)\n",
        "  macro_roc_auc_ovo = roc_auc_score(datahead['y_real'],probab, multi_class=\"ovr\", average=\"weighted\")\n",
        "  print(macro_roc_auc_ovo)\n",
        "else : \n",
        "  auc = roc_auc_score(datahead['y_real'],datahead['y_predfrac1'])\n",
        "  print('AUC: %.3f' % auc)"
      ]
    },
    {
      "cell_type": "code",
      "execution_count": null,
      "metadata": {
        "id": "q9TqMpmJsBcc"
      },
      "outputs": [],
      "source": [
        "if n_classes == 3 : \n",
        "  Y_test = datahead['y_real']\n",
        "  y_score = probab\n",
        "  # Use label_binarize to be multi-label like settings\n",
        "  Y = label_binarize(Y_test, classes=[0, 1, 2])\n",
        "  n_classes = Y.shape[1]\n",
        "\n",
        "  Y_test = Y\n",
        "\n",
        "\n",
        "  # For each class\n",
        "  precision = dict()\n",
        "  recall = dict()\n",
        "  average_precision = dict()\n",
        "  for i in range(n_classes):\n",
        "      precision[i], recall[i], _ = precision_recall_curve(Y_test[:, i], y_score[:, i])\n",
        "      average_precision[i] = average_precision_score(Y_test[:, i], y_score[:, i])\n",
        "\n",
        "  # A \"micro-average\": quantifying score on all classes jointly\n",
        "  precision[\"micro\"], recall[\"micro\"], _ = precision_recall_curve(\n",
        "      Y_test.ravel(), y_score.ravel()\n",
        "  )\n",
        "  average_precision[\"micro\"] = average_precision_score(Y_test, y_score, average=\"micro\")\n",
        "  average_precision[\"macro\"] = average_precision_score(Y_test, y_score, average=\"macro\")\n",
        "  print(average_precision[\"micro\"])\n",
        "  print(average_precision[\"macro\"])"
      ]
    },
    {
      "cell_type": "code",
      "execution_count": null,
      "metadata": {
        "id": "ajf5FRFzsCVH"
      },
      "outputs": [],
      "source": [
        "if n_classes == 3 :\n",
        "  display = PrecisionRecallDisplay(\n",
        "      recall=recall[\"micro\"],\n",
        "      precision=precision[\"micro\"],\n",
        "      average_precision=average_precision[\"micro\"],\n",
        "  )\n",
        "  display.plot()\n",
        "  _ = display.ax_.set_title(\"Micro-averaged over all classes\")"
      ]
    },
    {
      "cell_type": "code",
      "execution_count": null,
      "metadata": {
        "colab": {
          "base_uri": "https://localhost:8080/",
          "height": 296
        },
        "id": "u2fbVR43xIw_",
        "outputId": "8180979d-6a6c-42c6-b83a-c0521cffcd2f"
      },
      "outputs": [
        {
          "output_type": "stream",
          "name": "stdout",
          "text": [
            "Model: ROC AUC=0.979\n"
          ]
        },
        {
          "output_type": "display_data",
          "data": {
            "text/plain": [
              "<Figure size 432x288 with 1 Axes>"
            ],
            "image/png": "[encoded data removed]"
          },
          "metadata": {
            "needs_background": "light"
          }
        }
      ],
      "source": [
        "lr_auc = roc_auc_score(datahead['y_real'],datahead['y_predfrac1'])\n",
        "# summarize scores\n",
        "\n",
        "print('Model: ROC AUC=%.3f' % (lr_auc))\n",
        "# calculate roc curves\n",
        "\n",
        "lr_fpr, lr_tpr, _ = roc_curve(datahead['y_real'],datahead['y_predfrac1'])\n",
        "# plot the roc curve for the model\n",
        "pyplot.plot(lr_fpr, lr_tpr, marker='.', label='Model')\n",
        "# axis labels\n",
        "pyplot.xlabel('False Positive Rate')\n",
        "pyplot.ylabel('True Positive Rate')\n",
        "# show the legend\n",
        "pyplot.legend()\n",
        "# show the plot\n",
        "pyplot.show()"
      ]
    },
    {
      "cell_type": "code",
      "execution_count": null,
      "metadata": {
        "colab": {
          "base_uri": "https://localhost:8080/",
          "height": 296
        },
        "id": "XtF30uBnxM3O",
        "outputId": "63e897c4-fc83-474a-bee3-f54ba07af395"
      },
      "outputs": [
        {
          "output_type": "stream",
          "name": "stdout",
          "text": [
            "Logistic: f1=0.942 auc=0.978\n"
          ]
        },
        {
          "output_type": "display_data",
          "data": {
            "text/plain": [
              "<Figure size 432x288 with 1 Axes>"
            ],
            "image/png": "[encoded data removed]"
          },
          "metadata": {
            "needs_background": "light"
          }
        }
      ],
      "source": [
        "lr_precision, lr_recall, _ = precision_recall_curve(datahead['y_real'],datahead['y_predfrac1'])\n",
        "lr_f1, lr_auc = f1_score(datahead['y_real'], datahead['y_pred']), metrics.auc(lr_recall, lr_precision)\n",
        "# summarize scores\n",
        "print('Logistic: f1=%.3f auc=%.3f' % (lr_f1, lr_auc))\n",
        "# plot the precision-recall curves\n",
        "no_skill = len(datahead['y_real'][datahead['y_real']==1]) / len(datahead['y_real'])\n",
        "pyplot.plot([0, 1], [no_skill, no_skill], linestyle='--', label='No Skill')\n",
        "pyplot.plot(lr_recall, lr_precision, marker='.', label='Logistic')\n",
        "# axis labels\n",
        "pyplot.xlabel('Recall')\n",
        "pyplot.ylabel('Precision')\n",
        "# show the legend\n",
        "pyplot.legend()\n",
        "# show the plot\n",
        "pyplot.show()"
      ]
    },
    {
      "cell_type": "code",
      "execution_count": null,
      "metadata": {
        "colab": {
          "base_uri": "https://localhost:8080/"
        },
        "id": "eYrKc4JCxNZe",
        "outputId": "1d7cb3b9-9e68-4553-f9cc-e305327904fb"
      },
      "outputs": [
        {
          "output_type": "execute_result",
          "data": {
            "text/plain": [
              "0.9781162365908576"
            ]
          },
          "metadata": {},
          "execution_count": 84
        }
      ],
      "source": [
        "precision, recall, thresholds  = precision_recall_curve(datahead['y_real'], datahead['y_predfrac1'])\n",
        "auc_score = metrics.auc(recall, precision)\n",
        "auc_score"
      ]
    },
    {
      "cell_type": "code",
      "execution_count": null,
      "metadata": {
        "id": "MQzaQ6NGrrQt"
      },
      "outputs": [],
      "source": []
    }
  ],
  "metadata": {
    "colab": {
      "machine_shape": "hm",
      "provenance": []
    },
    "kernelspec": {
      "display_name": "Python 3",
      "name": "python3"
    },
    "language_info": {
      "name": "python"
    },
    "gpuClass": "standard"
  },
  "nbformat": 4,
  "nbformat_minor": 0
}