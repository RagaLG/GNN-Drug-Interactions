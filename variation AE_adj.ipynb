{
 "cells": [
  {
   "cell_type": "code",
   "execution_count": 1,
   "metadata": {
    "colab": {
     "base_uri": "https://localhost:8080/"
    },
    "id": "y4XuYUZ45w9_",
    "outputId": "7fdad360-f08f-4fe7-ac07-8c0a857088fc"
   },
   "outputs": [
    {
     "name": "stdout",
     "output_type": "stream",
     "text": [
      "1.12.1+cpu\n"
     ]
    }
   ],
   "source": [
    "# Install required packages.\n",
    "import os\n",
    "\n",
    "# !pip install torch==1.12.1+cu113 torchvision==0.13.1+cu113 torchaudio==0.12.1 --extra-index-url https://download.pytorch.org/whl/cu113\n",
    "import torch\n",
    "os.environ['TORCH'] = torch.__version__\n",
    "print(torch.__version__)\n",
    "\n",
    "# !pip install -q torch-scatter -f https://data.pyg.org/whl/torch-${TORCH}.html\n",
    "# !pip install -q torch-sparse -f https://data.pyg.org/whl/torch-${TORCH}.html\n",
    "# !pip install -q git+https://github.com/pyg-team/pytorch_geometric.git\n",
    "\n",
    "# Helper function for visualization.\n",
    "%matplotlib inline\n",
    "import networkx as nx\n",
    "import matplotlib.pyplot as plt\n"
   ]
  },
  {
   "cell_type": "code",
   "execution_count": 2,
   "metadata": {
    "colab": {
     "base_uri": "https://localhost:8080/"
    },
    "id": "reMyhxz40dp5",
    "outputId": "7de4e9b9-e876-4c83-f886-2c78bc53851b"
   },
   "outputs": [],
   "source": [
    "# pip install deepchem==2.6.1"
   ]
  },
  {
   "cell_type": "code",
   "execution_count": 3,
   "metadata": {
    "id": "IP0tLwINx9ot"
   },
   "outputs": [],
   "source": [
    "import torch\n",
    "import pandas as pd\n",
    "import numpy as np\n",
    "import torch_geometric.transforms as T\n",
    "import torch_geometric\n",
    "from torch_geometric.data import Dataset\n",
    "import numpy as np \n",
    "import os\n",
    "import deepchem as dc\n",
    "import torch.nn as nn\n",
    "from torch.nn import Linear,BatchNorm1d\n",
    "from torch_geometric.nn import GCNConv,GATv2Conv\n",
    "from torch_geometric.nn import BatchNorm\n",
    "from tqdm import tqdm\n",
    "from torch_geometric.data import DataLoader\n",
    "from sklearn.metrics import roc_curve\n",
    "from sklearn.metrics import roc_auc_score\n",
    "from sklearn.metrics import precision_recall_curve\n",
    "from matplotlib import pyplot\n",
    "from sklearn import metrics\n",
    "from sklearn.preprocessing import label_binarize\n",
    "from sklearn.metrics import average_precision_score\n",
    "import seaborn as sns\n",
    "import pandas as pd \n",
    "from sklearn.metrics import f1_score\n",
    "from sklearn.metrics import confusion_matrix\n",
    "import math\n",
    "from sklearn.metrics import accuracy_score\n",
    "import warnings\n",
    "warnings.filterwarnings(\"ignore\")"
   ]
  },
  {
   "cell_type": "code",
   "execution_count": 4,
   "metadata": {
    "colab": {
     "base_uri": "https://localhost:8080/",
     "height": 206
    },
    "id": "CKwOflB6YXiE",
    "outputId": "414205c5-6215-44e7-a1c6-bb0d64dcf1d6"
   },
   "outputs": [
    {
     "data": {
      "text/html": [
       "<div>\n",
       "<style scoped>\n",
       "    .dataframe tbody tr th:only-of-type {\n",
       "        vertical-align: middle;\n",
       "    }\n",
       "\n",
       "    .dataframe tbody tr th {\n",
       "        vertical-align: top;\n",
       "    }\n",
       "\n",
       "    .dataframe thead th {\n",
       "        text-align: right;\n",
       "    }\n",
       "</style>\n",
       "<table border=\"1\" class=\"dataframe\">\n",
       "  <thead>\n",
       "    <tr style=\"text-align: right;\">\n",
       "      <th></th>\n",
       "      <th>Unnamed: 0</th>\n",
       "      <th>Drug1_ID</th>\n",
       "      <th>Drug1_SMILES</th>\n",
       "    </tr>\n",
       "  </thead>\n",
       "  <tbody>\n",
       "    <tr>\n",
       "      <th>0</th>\n",
       "      <td>0</td>\n",
       "      <td>DB00706</td>\n",
       "      <td>CCOc1ccccc1OCCN[C@H](C)Cc1ccc(OC)c(S(N)(=O)=O)c1</td>\n",
       "    </tr>\n",
       "    <tr>\n",
       "      <th>1</th>\n",
       "      <td>1</td>\n",
       "      <td>DB01023</td>\n",
       "      <td>CCOC(=O)C1=C(C)NC(C)=C(C(=O)OC)C1c1cccc(Cl)c1Cl</td>\n",
       "    </tr>\n",
       "    <tr>\n",
       "      <th>2</th>\n",
       "      <td>2</td>\n",
       "      <td>3849.0</td>\n",
       "      <td>C[C@@H](Oc1ccc2[nH]nc(/C=C/c3cnn(CCO)c3)c2c1)c...</td>\n",
       "    </tr>\n",
       "    <tr>\n",
       "      <th>3</th>\n",
       "      <td>3</td>\n",
       "      <td>3515.0</td>\n",
       "      <td>COc1ccc2c(c1)c(CC(=O)O)c(C)n2C(=O)c1ccc(I)cc1</td>\n",
       "    </tr>\n",
       "    <tr>\n",
       "      <th>4</th>\n",
       "      <td>4</td>\n",
       "      <td>6380.0</td>\n",
       "      <td>O=P(O)(O)OCCCc1c[nH]c2ccccc12</td>\n",
       "    </tr>\n",
       "  </tbody>\n",
       "</table>\n",
       "</div>"
      ],
      "text/plain": [
       "   Unnamed: 0 Drug1_ID                                       Drug1_SMILES\n",
       "0           0  DB00706   CCOc1ccccc1OCCN[C@H](C)Cc1ccc(OC)c(S(N)(=O)=O)c1\n",
       "1           1  DB01023    CCOC(=O)C1=C(C)NC(C)=C(C(=O)OC)C1c1cccc(Cl)c1Cl\n",
       "2           2   3849.0  C[C@@H](Oc1ccc2[nH]nc(/C=C/c3cnn(CCO)c3)c2c1)c...\n",
       "3           3   3515.0      COc1ccc2c(c1)c(CC(=O)O)c(C)n2C(=O)c1ccc(I)cc1\n",
       "4           4   6380.0                      O=P(O)(O)OCCCc1c[nH]c2ccccc12"
      ]
     },
     "execution_count": 4,
     "metadata": {},
     "output_type": "execute_result"
    }
   ],
   "source": [
    "data = pd.read_csv('raw/totalData.csv')\n",
    "data.head()"
   ]
  },
  {
   "cell_type": "code",
   "execution_count": 5,
   "metadata": {},
   "outputs": [
    {
     "data": {
      "text/plain": [
       "10951"
      ]
     },
     "execution_count": 5,
     "metadata": {},
     "output_type": "execute_result"
    }
   ],
   "source": [
    "len(data)"
   ]
  },
  {
   "cell_type": "markdown",
   "metadata": {},
   "source": [
    "# Molecular Graph from SMILES"
   ]
  },
  {
   "cell_type": "code",
   "execution_count": 6,
   "metadata": {
    "colab": {
     "base_uri": "https://localhost:8080/"
    },
    "id": "bGfB5EZPG_Ui",
    "outputId": "c1b693d2-8cc4-487f-afca-d84dc069fdf7"
   },
   "outputs": [
    {
     "name": "stderr",
     "output_type": "stream",
     "text": [
      "Processing...\n",
      "  1%|▍                                                                              | 67/10951 [00:03<07:47, 23.30it/s]Failed to featurize datapoint 0, [Mg+2].[OH-].[OH-]. Appending empty array\n",
      "Exception message: zero-size array to reduction operation maximum which has no identity\n",
      "  1%|▌                                                                              | 73/10951 [00:03<07:35, 23.88it/s]"
     ]
    },
    {
     "name": "stdout",
     "output_type": "stream",
     "text": [
      "68\n"
     ]
    },
    {
     "name": "stderr",
     "output_type": "stream",
     "text": [
      "  1%|▌                                                                              | 76/10951 [00:03<07:39, 23.64it/s]Failed to featurize datapoint 0, [Gd+3]. Appending empty array\n",
      "Exception message: More than one atom should be present in the molecule for this featurizer to work.\n",
      "  1%|▌                                                                              | 82/10951 [00:03<07:46, 23.30it/s]"
     ]
    },
    {
     "name": "stdout",
     "output_type": "stream",
     "text": [
      "76\n"
     ]
    },
    {
     "name": "stderr",
     "output_type": "stream",
     "text": [
      "  1%|█                                                                             | 151/10951 [00:07<06:56, 25.92it/s]Failed to featurize datapoint 0, [81Kr]. Appending empty array\n",
      "Exception message: More than one atom should be present in the molecule for this featurizer to work.\n"
     ]
    },
    {
     "name": "stdout",
     "output_type": "stream",
     "text": [
      "149\n"
     ]
    },
    {
     "name": "stderr",
     "output_type": "stream",
     "text": [
      "  1%|█▏                                                                            | 164/10951 [00:07<07:34, 23.75it/s]Failed to featurize datapoint 0, [Li+]. Appending empty array\n",
      "Exception message: More than one atom should be present in the molecule for this featurizer to work.\n",
      "  2%|█▏                                                                            | 172/10951 [00:08<06:34, 27.32it/s]"
     ]
    },
    {
     "name": "stdout",
     "output_type": "stream",
     "text": [
      "163\n"
     ]
    },
    {
     "name": "stderr",
     "output_type": "stream",
     "text": [
      "  3%|██▌                                                                           | 353/10951 [00:17<07:07, 24.81it/s]Failed to featurize datapoint 0, [Al+3].[OH-].[OH-].[OH-]. Appending empty array\n",
      "Exception message: zero-size array to reduction operation maximum which has no identity\n",
      "  3%|██▌                                                                           | 357/10951 [00:17<06:10, 28.59it/s]"
     ]
    },
    {
     "name": "stdout",
     "output_type": "stream",
     "text": [
      "349\n"
     ]
    },
    {
     "name": "stderr",
     "output_type": "stream",
     "text": [
      "  4%|███                                                                           | 424/10951 [00:20<06:57, 25.20it/s]Failed to featurize datapoint 0, [I-].[K+]. Appending empty array\n",
      "Exception message: zero-size array to reduction operation maximum which has no identity\n",
      "  4%|███                                                                           | 430/10951 [00:20<07:29, 23.38it/s]"
     ]
    },
    {
     "name": "stdout",
     "output_type": "stream",
     "text": [
      "420\n"
     ]
    },
    {
     "name": "stderr",
     "output_type": "stream",
     "text": [
      "  4%|███                                                                           | 433/10951 [00:20<07:11, 24.37it/s]Failed to featurize datapoint 0, [Sb+5]. Appending empty array\n",
      "Exception message: More than one atom should be present in the molecule for this featurizer to work.\n",
      "  4%|███                                                                           | 436/10951 [00:21<07:24, 23.65it/s]"
     ]
    },
    {
     "name": "stdout",
     "output_type": "stream",
     "text": [
      "427\n"
     ]
    },
    {
     "name": "stderr",
     "output_type": "stream",
     "text": [
      "  5%|███▌                                                                          | 497/10951 [00:23<07:32, 23.11it/s]Failed to featurize datapoint 0, [Cr+3]. Appending empty array\n",
      "Exception message: More than one atom should be present in the molecule for this featurizer to work.\n",
      "  5%|███▌                                                                          | 504/10951 [00:23<06:42, 25.94it/s]"
     ]
    },
    {
     "name": "stdout",
     "output_type": "stream",
     "text": [
      "491\n"
     ]
    },
    {
     "name": "stderr",
     "output_type": "stream",
     "text": [
      "  5%|████▎                                                                         | 598/10951 [00:28<06:49, 25.27it/s]Failed to featurize datapoint 0, [Fe]. Appending empty array\n",
      "Exception message: More than one atom should be present in the molecule for this featurizer to work.\n",
      "  5%|████▎                                                                         | 602/10951 [00:28<06:16, 27.52it/s]"
     ]
    },
    {
     "name": "stdout",
     "output_type": "stream",
     "text": [
      "590\n"
     ]
    },
    {
     "name": "stderr",
     "output_type": "stream",
     "text": [
      "  6%|████▌                                                                         | 637/10951 [00:29<08:09, 21.07it/s]Failed to featurize datapoint 0, [Cl-].[Cl-].[Mg+2]. Appending empty array\n",
      "Exception message: zero-size array to reduction operation maximum which has no identity\n",
      "  6%|████▌                                                                         | 643/10951 [00:29<07:24, 23.19it/s]"
     ]
    },
    {
     "name": "stdout",
     "output_type": "stream",
     "text": [
      "629\n"
     ]
    },
    {
     "name": "stderr",
     "output_type": "stream",
     "text": [
      "  8%|██████▌                                                                       | 920/10951 [00:43<09:56, 16.82it/s]Failed to featurize datapoint 0, [Mg+2].[O-2]. Appending empty array\n",
      "Exception message: zero-size array to reduction operation maximum which has no identity\n",
      "  8%|██████▌                                                                       | 923/10951 [00:44<11:02, 15.14it/s]"
     ]
    },
    {
     "name": "stdout",
     "output_type": "stream",
     "text": [
      "911\n"
     ]
    },
    {
     "name": "stderr",
     "output_type": "stream",
     "text": [
      "  9%|██████▋                                                                       | 943/10951 [00:44<07:16, 22.90it/s]Failed to featurize datapoint 0, [13NH3]. Appending empty array\n",
      "Exception message: More than one atom should be present in the molecule for this featurizer to work.\n",
      "  9%|██████▊                                                                       | 950/10951 [00:45<06:46, 24.63it/s]"
     ]
    },
    {
     "name": "stdout",
     "output_type": "stream",
     "text": [
      "934\n"
     ]
    },
    {
     "name": "stderr",
     "output_type": "stream",
     "text": [
      "  9%|███████▏                                                                     | 1020/10951 [00:48<07:41, 21.51it/s]Failed to featurize datapoint 0, [Zn+2]. Appending empty array\n",
      "Exception message: More than one atom should be present in the molecule for this featurizer to work.\n",
      "  9%|███████▏                                                                     | 1024/10951 [00:48<06:50, 24.20it/s]"
     ]
    },
    {
     "name": "stdout",
     "output_type": "stream",
     "text": [
      "1008\n"
     ]
    },
    {
     "name": "stderr",
     "output_type": "stream",
     "text": [
      " 11%|████████▌                                                                    | 1217/10951 [00:57<07:12, 22.48it/s]Failed to featurize datapoint 0, [I-].[K+]. Appending empty array\n",
      "Exception message: zero-size array to reduction operation maximum which has no identity\n",
      " 11%|████████▌                                                                    | 1221/10951 [00:57<06:25, 25.27it/s]"
     ]
    },
    {
     "name": "stdout",
     "output_type": "stream",
     "text": [
      "1205\n"
     ]
    },
    {
     "name": "stderr",
     "output_type": "stream",
     "text": [
      " 11%|████████▋                                                                    | 1236/10951 [00:58<07:33, 21.44it/s]Failed to featurize datapoint 0, [131I-]. Appending empty array\n",
      "Exception message: More than one atom should be present in the molecule for this featurizer to work.\n",
      " 11%|████████▋                                                                    | 1243/10951 [00:58<07:10, 22.54it/s]"
     ]
    },
    {
     "name": "stdout",
     "output_type": "stream",
     "text": [
      "1224\n"
     ]
    },
    {
     "name": "stderr",
     "output_type": "stream",
     "text": [
      " 12%|█████████                                                                    | 1286/10951 [01:00<07:14, 22.23it/s]Failed to featurize datapoint 0, [Cl-].[NH4+]. Appending empty array\n",
      "Exception message: zero-size array to reduction operation maximum which has no identity\n",
      " 12%|█████████                                                                    | 1289/10951 [01:01<07:01, 22.92it/s]"
     ]
    },
    {
     "name": "stdout",
     "output_type": "stream",
     "text": [
      "1271\n"
     ]
    },
    {
     "name": "stderr",
     "output_type": "stream",
     "text": [
      " 12%|█████████▎                                                                   | 1320/10951 [01:02<07:04, 22.70it/s]Failed to featurize datapoint 0, [89Sr+2]. Appending empty array\n",
      "Exception message: More than one atom should be present in the molecule for this featurizer to work.\n",
      " 12%|█████████▎                                                                   | 1324/10951 [01:02<06:26, 24.88it/s]"
     ]
    },
    {
     "name": "stdout",
     "output_type": "stream",
     "text": [
      "1304\n"
     ]
    },
    {
     "name": "stderr",
     "output_type": "stream",
     "text": [
      " 14%|██████████▊                                                                  | 1535/10951 [01:12<06:32, 24.01it/s]Failed to featurize datapoint 0, [3He]. Appending empty array\n",
      "Exception message: More than one atom should be present in the molecule for this featurizer to work.\n",
      " 14%|██████████▊                                                                  | 1538/10951 [01:12<06:43, 23.34it/s]"
     ]
    },
    {
     "name": "stdout",
     "output_type": "stream",
     "text": [
      "1518\n"
     ]
    },
    {
     "name": "stderr",
     "output_type": "stream",
     "text": [
      " 14%|██████████▉                                                                  | 1562/10951 [01:13<06:19, 24.72it/s]Failed to featurize datapoint 0, [Cl-].[K+]. Appending empty array\n",
      "Exception message: zero-size array to reduction operation maximum which has no identity\n",
      " 14%|███████████                                                                  | 1566/10951 [01:14<05:42, 27.38it/s]"
     ]
    },
    {
     "name": "stdout",
     "output_type": "stream",
     "text": [
      "1545\n"
     ]
    },
    {
     "name": "stderr",
     "output_type": "stream",
     "text": [
      " 14%|███████████                                                                  | 1573/10951 [01:14<05:57, 26.20it/s]Failed to featurize datapoint 0, [La+3]. Appending empty array\n",
      "Exception message: More than one atom should be present in the molecule for this featurizer to work.\n",
      "Failed to featurize datapoint 0, [Zn]. Appending empty array\n",
      "Exception message: More than one atom should be present in the molecule for this featurizer to work.\n",
      " 14%|███████████                                                                  | 1578/10951 [01:14<05:14, 29.83it/s]"
     ]
    },
    {
     "name": "stdout",
     "output_type": "stream",
     "text": [
      "1554\n",
      "1554\n"
     ]
    },
    {
     "name": "stderr",
     "output_type": "stream",
     "text": [
      " 15%|███████████▊                                                                 | 1675/10951 [01:21<09:55, 15.58it/s]Failed to featurize datapoint 0, [Co]. Appending empty array\n",
      "Exception message: More than one atom should be present in the molecule for this featurizer to work.\n",
      " 15%|███████████▊                                                                 | 1681/10951 [01:21<08:06, 19.06it/s]"
     ]
    },
    {
     "name": "stdout",
     "output_type": "stream",
     "text": [
      "1656\n"
     ]
    },
    {
     "name": "stderr",
     "output_type": "stream",
     "text": [
      " 17%|████████████▊                                                                | 1831/10951 [01:28<06:34, 23.09it/s]Failed to featurize datapoint 0, O.O.O.O.[98Tc-]. Appending empty array\n",
      "Exception message: zero-size array to reduction operation maximum which has no identity\n",
      " 17%|████████████▉                                                                | 1837/10951 [01:28<07:38, 19.88it/s]"
     ]
    },
    {
     "name": "stdout",
     "output_type": "stream",
     "text": [
      "1811\n"
     ]
    },
    {
     "name": "stderr",
     "output_type": "stream",
     "text": [
      " 18%|█████████████▌                                                               | 1935/10951 [01:33<08:32, 17.59it/s]Failed to featurize datapoint 0, [Na+]. Appending empty array\n",
      "Exception message: More than one atom should be present in the molecule for this featurizer to work.\n",
      " 18%|█████████████▋                                                               | 1938/10951 [01:33<07:48, 19.25it/s]"
     ]
    },
    {
     "name": "stdout",
     "output_type": "stream",
     "text": [
      "1913\n"
     ]
    },
    {
     "name": "stderr",
     "output_type": "stream",
     "text": [
      " 18%|█████████████▊                                                               | 1965/10951 [01:34<06:12, 24.15it/s]Failed to featurize datapoint 0, [Cl-].[Cl-].[Sn+2]. Appending empty array\n",
      "Exception message: zero-size array to reduction operation maximum which has no identity\n",
      " 18%|█████████████▊                                                               | 1971/10951 [01:35<06:36, 22.67it/s]"
     ]
    },
    {
     "name": "stdout",
     "output_type": "stream",
     "text": [
      "1942\n"
     ]
    },
    {
     "name": "stderr",
     "output_type": "stream",
     "text": [
      " 18%|█████████████▉                                                               | 1986/10951 [01:35<06:43, 22.22it/s]Failed to featurize datapoint 0, [Mg+2].[OH-].[OH-]. Appending empty array\n",
      "Exception message: zero-size array to reduction operation maximum which has no identity\n",
      " 18%|█████████████▉                                                               | 1989/10951 [01:36<07:04, 21.13it/s]"
     ]
    },
    {
     "name": "stdout",
     "output_type": "stream",
     "text": [
      "1961\n"
     ]
    },
    {
     "name": "stderr",
     "output_type": "stream",
     "text": [
      " 20%|███████████████                                                              | 2140/10951 [01:42<06:57, 21.10it/s]Failed to featurize datapoint 0, O. Appending empty array\n",
      "Exception message: More than one atom should be present in the molecule for this featurizer to work.\n",
      " 20%|███████████████                                                              | 2147/10951 [01:43<05:42, 25.69it/s]"
     ]
    },
    {
     "name": "stdout",
     "output_type": "stream",
     "text": [
      "2116\n"
     ]
    },
    {
     "name": "stderr",
     "output_type": "stream",
     "text": [
      " 24%|██████████████████▊                                                          | 2670/10951 [02:06<05:58, 23.10it/s]Failed to featurize datapoint 0, [89Sr+2].[Cl-].[Cl-]. Appending empty array\n",
      "Exception message: zero-size array to reduction operation maximum which has no identity\n",
      " 24%|██████████████████▊                                                          | 2674/10951 [02:06<05:14, 26.35it/s]"
     ]
    },
    {
     "name": "stdout",
     "output_type": "stream",
     "text": [
      "2643\n"
     ]
    },
    {
     "name": "stderr",
     "output_type": "stream",
     "text": [
      " 26%|███████████████████▊                                                         | 2815/10951 [02:13<06:00, 22.59it/s]Failed to featurize datapoint 0, [Cl-].[Cl-].[Zn+2]. Appending empty array\n",
      "Exception message: zero-size array to reduction operation maximum which has no identity\n",
      " 26%|███████████████████▊                                                         | 2819/10951 [02:13<05:11, 26.11it/s]"
     ]
    },
    {
     "name": "stdout",
     "output_type": "stream",
     "text": [
      "2788\n"
     ]
    },
    {
     "name": "stderr",
     "output_type": "stream",
     "text": [
      " 26%|███████████████████▊                                                         | 2822/10951 [02:13<05:27, 24.85it/s]Failed to featurize datapoint 0, [Pt]. Appending empty array\n",
      "Exception message: More than one atom should be present in the molecule for this featurizer to work.\n",
      " 26%|███████████████████▉                                                         | 2829/10951 [02:13<05:25, 24.97it/s]"
     ]
    },
    {
     "name": "stdout",
     "output_type": "stream",
     "text": [
      "2795\n"
     ]
    },
    {
     "name": "stderr",
     "output_type": "stream",
     "text": [
      " 26%|███████████████████▉                                                         | 2841/10951 [02:14<05:32, 24.39it/s]Failed to featurize datapoint 0, [223Ra+2]. Appending empty array\n",
      "Exception message: More than one atom should be present in the molecule for this featurizer to work.\n",
      " 26%|████████████████████                                                         | 2845/10951 [02:14<05:10, 26.10it/s]Failed to featurize datapoint 0, [67Ga+3]. Appending empty array\n",
      "Exception message: More than one atom should be present in the molecule for this featurizer to work.\n"
     ]
    },
    {
     "name": "stdout",
     "output_type": "stream",
     "text": [
      "2811\n",
      "2815\n"
     ]
    },
    {
     "name": "stderr",
     "output_type": "stream",
     "text": [
      " 26%|████████████████████▏                                                        | 2879/10951 [02:15<06:13, 21.64it/s]Failed to featurize datapoint 0, [Ne]. Appending empty array\n",
      "Exception message: More than one atom should be present in the molecule for this featurizer to work.\n",
      " 26%|████████████████████▎                                                        | 2883/10951 [02:15<05:38, 23.84it/s]"
     ]
    },
    {
     "name": "stdout",
     "output_type": "stream",
     "text": [
      "2848\n"
     ]
    },
    {
     "name": "stderr",
     "output_type": "stream",
     "text": [
      " 29%|██████████████████████                                                       | 3144/10951 [02:27<05:16, 24.71it/s]Failed to featurize datapoint 0, [32PH3]. Appending empty array\n",
      "Exception message: More than one atom should be present in the molecule for this featurizer to work.\n",
      " 29%|██████████████████████▏                                                      | 3148/10951 [02:27<04:49, 26.97it/s]"
     ]
    },
    {
     "name": "stdout",
     "output_type": "stream",
     "text": [
      "3111\n"
     ]
    },
    {
     "name": "stderr",
     "output_type": "stream",
     "text": [
      " 29%|██████████████████████▏                                                      | 3161/10951 [02:28<04:39, 27.87it/s]Failed to featurize datapoint 0, [K+].[OH-]. Appending empty array\n",
      "Exception message: zero-size array to reduction operation maximum which has no identity\n",
      " 29%|██████████████████████▎                                                      | 3165/10951 [02:28<04:21, 29.78it/s]"
     ]
    },
    {
     "name": "stdout",
     "output_type": "stream",
     "text": [
      "3128\n"
     ]
    },
    {
     "name": "stderr",
     "output_type": "stream",
     "text": [
      " 30%|██████████████████████▊                                                      | 3246/10951 [02:31<04:51, 26.40it/s]Failed to featurize datapoint 0, [Ac]. Appending empty array\n",
      "Exception message: More than one atom should be present in the molecule for this featurizer to work.\n",
      " 30%|██████████████████████▊                                                      | 3250/10951 [02:31<04:27, 28.78it/s]"
     ]
    },
    {
     "name": "stdout",
     "output_type": "stream",
     "text": [
      "3212\n"
     ]
    },
    {
     "name": "stderr",
     "output_type": "stream",
     "text": [
      " 30%|██████████████████████▉                                                      | 3256/10951 [02:32<04:56, 25.98it/s]Failed to featurize datapoint 0, F. Appending empty array\n",
      "Exception message: More than one atom should be present in the molecule for this featurizer to work.\n",
      " 30%|██████████████████████▉                                                      | 3262/10951 [02:32<04:54, 26.07it/s]"
     ]
    },
    {
     "name": "stdout",
     "output_type": "stream",
     "text": [
      "3222\n"
     ]
    },
    {
     "name": "stderr",
     "output_type": "stream",
     "text": [
      " 30%|███████████████████████▏                                                     | 3292/10951 [02:33<06:06, 20.90it/s]Failed to featurize datapoint 0, [Al+3].[Al+3].[O-2].[O-2].[O-2]. Appending empty array\n",
      "Exception message: zero-size array to reduction operation maximum which has no identity\n",
      " 30%|███████████████████████▏                                                     | 3297/10951 [02:34<06:33, 19.46it/s]"
     ]
    },
    {
     "name": "stdout",
     "output_type": "stream",
     "text": [
      "3258\n"
     ]
    },
    {
     "name": "stderr",
     "output_type": "stream",
     "text": [
      " 30%|███████████████████████▎                                                     | 3319/10951 [02:35<05:15, 24.18it/s]Failed to featurize datapoint 0, [Cl-]. Appending empty array\n",
      "Exception message: More than one atom should be present in the molecule for this featurizer to work.\n",
      " 30%|███████████████████████▍                                                     | 3327/10951 [02:35<04:37, 27.47it/s]"
     ]
    },
    {
     "name": "stdout",
     "output_type": "stream",
     "text": [
      "3283\n"
     ]
    },
    {
     "name": "stderr",
     "output_type": "stream",
     "text": [
      " 32%|████████████████████████▍                                                    | 3482/10951 [02:42<05:18, 23.46it/s]Failed to featurize datapoint 0, [Ag+]. Appending empty array\n",
      "Exception message: More than one atom should be present in the molecule for this featurizer to work.\n",
      " 32%|████████████████████████▌                                                    | 3488/10951 [02:42<05:18, 23.44it/s]"
     ]
    },
    {
     "name": "stdout",
     "output_type": "stream",
     "text": [
      "3444\n"
     ]
    },
    {
     "name": "stderr",
     "output_type": "stream",
     "text": [
      " 33%|█████████████████████████▏                                                   | 3585/10951 [02:47<05:13, 23.51it/s]Failed to featurize datapoint 0, [Ca+2]. Appending empty array\n",
      "Exception message: More than one atom should be present in the molecule for this featurizer to work.\n",
      " 33%|█████████████████████████▎                                                   | 3592/10951 [02:47<04:47, 25.62it/s]"
     ]
    },
    {
     "name": "stdout",
     "output_type": "stream",
     "text": [
      "3546\n"
     ]
    },
    {
     "name": "stderr",
     "output_type": "stream",
     "text": [
      " 33%|█████████████████████████▎                                                   | 3604/10951 [02:48<05:33, 22.00it/s]Failed to featurize datapoint 0, [Cl-].[NH4+]. Appending empty array\n",
      "Exception message: zero-size array to reduction operation maximum which has no identity\n",
      " 33%|█████████████████████████▍                                                   | 3609/10951 [02:48<04:35, 26.69it/s]"
     ]
    },
    {
     "name": "stdout",
     "output_type": "stream",
     "text": [
      "3563\n"
     ]
    },
    {
     "name": "stderr",
     "output_type": "stream",
     "text": [
      " 34%|██████████████████████████▌                                                  | 3773/10951 [02:56<05:17, 22.59it/s]Failed to featurize datapoint 0, [Al+3].[OH-].[OH-].[OH-]. Appending empty array\n",
      "Exception message: zero-size array to reduction operation maximum which has no identity\n",
      " 35%|██████████████████████████▌                                                  | 3781/10951 [02:56<04:37, 25.84it/s]"
     ]
    },
    {
     "name": "stdout",
     "output_type": "stream",
     "text": [
      "3733\n"
     ]
    },
    {
     "name": "stderr",
     "output_type": "stream",
     "text": [
      " 35%|██████████████████████████▌                                                  | 3784/10951 [02:57<04:46, 25.01it/s]Failed to featurize datapoint 0, [Ca+2].[Cl-].[Cl-]. Appending empty array\n",
      "Exception message: zero-size array to reduction operation maximum which has no identity\n",
      " 35%|██████████████████████████▋                                                  | 3788/10951 [02:57<04:15, 28.06it/s]"
     ]
    },
    {
     "name": "stdout",
     "output_type": "stream",
     "text": [
      "3741\n"
     ]
    },
    {
     "name": "stderr",
     "output_type": "stream",
     "text": [
      " 35%|██████████████████████████▉                                                  | 3831/10951 [02:59<04:52, 24.32it/s]Failed to featurize datapoint 0, [Ta]. Appending empty array\n",
      "Exception message: More than one atom should be present in the molecule for this featurizer to work.\n",
      " 35%|██████████████████████████▉                                                  | 3835/10951 [02:59<04:31, 26.24it/s]"
     ]
    },
    {
     "name": "stdout",
     "output_type": "stream",
     "text": [
      "3787\n"
     ]
    },
    {
     "name": "stderr",
     "output_type": "stream",
     "text": [
      " 35%|███████████████████████████                                                  | 3847/10951 [02:59<04:33, 25.97it/s]Failed to featurize datapoint 0, [Bk]. Appending empty array\n",
      "Exception message: More than one atom should be present in the molecule for this featurizer to work.\n",
      " 35%|███████████████████████████                                                  | 3850/10951 [02:59<04:23, 26.92it/s]"
     ]
    },
    {
     "name": "stdout",
     "output_type": "stream",
     "text": [
      "3802\n"
     ]
    },
    {
     "name": "stderr",
     "output_type": "stream",
     "text": [
      " 36%|████████████████████████████                                                 | 3983/10951 [03:05<05:47, 20.08it/s]Failed to featurize datapoint 0, [Li+].[OH-]. Appending empty array\n",
      "Exception message: zero-size array to reduction operation maximum which has no identity\n",
      " 36%|████████████████████████████                                                 | 3991/10951 [03:06<04:33, 25.47it/s]"
     ]
    },
    {
     "name": "stdout",
     "output_type": "stream",
     "text": [
      "3940\n"
     ]
    },
    {
     "name": "stderr",
     "output_type": "stream",
     "text": [
      " 37%|████████████████████████████▍                                                | 4045/10951 [03:09<14:15,  8.07it/s]Failed to featurize datapoint 0, [Ti]. Appending empty array\n",
      "Exception message: More than one atom should be present in the molecule for this featurizer to work.\n",
      " 37%|████████████████████████████▍                                                | 4052/10951 [03:09<08:25, 13.65it/s]"
     ]
    },
    {
     "name": "stdout",
     "output_type": "stream",
     "text": [
      "4000\n"
     ]
    },
    {
     "name": "stderr",
     "output_type": "stream",
     "text": [
      " 37%|████████████████████████████▌                                                | 4061/10951 [03:10<06:44, 17.03it/s]Failed to featurize datapoint 0, [Co+2]. Appending empty array\n",
      "Exception message: More than one atom should be present in the molecule for this featurizer to work.\n",
      " 37%|████████████████████████████▌                                                | 4069/10951 [03:10<05:35, 20.53it/s]"
     ]
    },
    {
     "name": "stdout",
     "output_type": "stream",
     "text": [
      "4015\n"
     ]
    },
    {
     "name": "stderr",
     "output_type": "stream",
     "text": [
      " 38%|█████████████████████████████▏                                               | 4156/10951 [03:14<04:54, 23.06it/s]Failed to featurize datapoint 0, [Fe]. Appending empty array\n",
      "Exception message: More than one atom should be present in the molecule for this featurizer to work.\n",
      " 38%|█████████████████████████████▎                                               | 4162/10951 [03:14<04:56, 22.91it/s]"
     ]
    },
    {
     "name": "stdout",
     "output_type": "stream",
     "text": [
      "4108\n"
     ]
    },
    {
     "name": "stderr",
     "output_type": "stream",
     "text": [
      " 38%|█████████████████████████████▍                                               | 4188/10951 [03:16<05:19, 21.15it/s]Failed to featurize datapoint 0, [Cl-].[Cl-].[Cl-].[Cr+3]. Appending empty array\n",
      "Exception message: zero-size array to reduction operation maximum which has no identity\n",
      " 38%|█████████████████████████████▍                                               | 4195/10951 [03:16<04:31, 24.86it/s]"
     ]
    },
    {
     "name": "stdout",
     "output_type": "stream",
     "text": [
      "4138\n"
     ]
    },
    {
     "name": "stderr",
     "output_type": "stream",
     "text": [
      " 39%|█████████████████████████████▋                                               | 4226/10951 [03:17<05:24, 20.74it/s][16:51:05] Conflicting single bond directions around double bond at index 1.\n",
      "[16:51:05]   BondStereo set to STEREONONE and single bond directions set to NONE.\n",
      " 39%|█████████████████████████████▉                                               | 4257/10951 [03:19<04:23, 25.39it/s]Failed to featurize datapoint 0, [99Tc]. Appending empty array\n",
      "Exception message: More than one atom should be present in the molecule for this featurizer to work.\n",
      " 39%|█████████████████████████████▉                                               | 4261/10951 [03:19<04:07, 27.01it/s]"
     ]
    },
    {
     "name": "stdout",
     "output_type": "stream",
     "text": [
      "4206\n"
     ]
    },
    {
     "name": "stderr",
     "output_type": "stream",
     "text": [
      " 41%|███████████████████████████████▎                                             | 4447/10951 [03:28<05:29, 19.75it/s]Failed to featurize datapoint 0, [131I-]. Appending empty array\n",
      "Exception message: More than one atom should be present in the molecule for this featurizer to work.\n",
      " 41%|███████████████████████████████▎                                             | 4451/10951 [03:28<04:55, 21.96it/s]"
     ]
    },
    {
     "name": "stdout",
     "output_type": "stream",
     "text": [
      "4395\n"
     ]
    },
    {
     "name": "stderr",
     "output_type": "stream",
     "text": [
      " 41%|███████████████████████████████▋                                             | 4505/10951 [03:31<04:46, 22.48it/s]Failed to featurize datapoint 0, [Ba]. Appending empty array\n",
      "Exception message: More than one atom should be present in the molecule for this featurizer to work.\n",
      "Failed to featurize datapoint 0, [Mo]. Appending empty array\n",
      "Exception message: More than one atom should be present in the molecule for this featurizer to work.\n",
      " 41%|███████████████████████████████▋                                             | 4509/10951 [03:31<04:06, 26.17it/s]"
     ]
    },
    {
     "name": "stdout",
     "output_type": "stream",
     "text": [
      "4452\n",
      "4453\n"
     ]
    },
    {
     "name": "stderr",
     "output_type": "stream",
     "text": [
      " 43%|█████████████████████████████████▎                                           | 4730/10951 [03:41<04:25, 23.43it/s]Failed to featurize datapoint 0, [Cd]. Appending empty array\n",
      "Exception message: More than one atom should be present in the molecule for this featurizer to work.\n",
      " 43%|█████████████████████████████████▎                                           | 4734/10951 [03:41<03:56, 26.28it/s]"
     ]
    },
    {
     "name": "stdout",
     "output_type": "stream",
     "text": [
      "4676\n"
     ]
    },
    {
     "name": "stderr",
     "output_type": "stream",
     "text": [
      " 43%|█████████████████████████████████▍                                           | 4759/10951 [03:43<04:39, 22.12it/s]Failed to featurize datapoint 0, [123I-]. Appending empty array\n",
      "Exception message: More than one atom should be present in the molecule for this featurizer to work.\n",
      " 43%|█████████████████████████████████▍                                           | 4762/10951 [03:43<04:52, 21.15it/s]"
     ]
    },
    {
     "name": "stdout",
     "output_type": "stream",
     "text": [
      "4703\n"
     ]
    },
    {
     "name": "stderr",
     "output_type": "stream",
     "text": [
      " 45%|██████████████████████████████████▊                                          | 4956/10951 [03:52<04:46, 20.94it/s]Failed to featurize datapoint 0, [P]. Appending empty array\n",
      "Exception message: More than one atom should be present in the molecule for this featurizer to work.\n",
      " 45%|██████████████████████████████████▉                                          | 4961/10951 [03:52<04:07, 24.24it/s]"
     ]
    },
    {
     "name": "stdout",
     "output_type": "stream",
     "text": [
      "4899\n"
     ]
    },
    {
     "name": "stderr",
     "output_type": "stream",
     "text": [
      " 46%|███████████████████████████████████▎                                         | 5020/10951 [03:55<04:42, 21.02it/s]Failed to featurize datapoint 0, [Li+]. Appending empty array\n",
      "Exception message: More than one atom should be present in the molecule for this featurizer to work.\n",
      " 46%|███████████████████████████████████▎                                         | 5023/10951 [03:55<04:30, 21.92it/s]"
     ]
    },
    {
     "name": "stdout",
     "output_type": "stream",
     "text": [
      "4962\n"
     ]
    },
    {
     "name": "stderr",
     "output_type": "stream",
     "text": [
      " 46%|███████████████████████████████████▌                                         | 5052/10951 [03:56<05:18, 18.52it/s]Failed to featurize datapoint 0, [OH-]. Appending empty array\n",
      "Exception message: More than one atom should be present in the molecule for this featurizer to work.\n",
      " 46%|███████████████████████████████████▌                                         | 5056/10951 [03:57<04:33, 21.58it/s]"
     ]
    },
    {
     "name": "stdout",
     "output_type": "stream",
     "text": [
      "4994\n"
     ]
    },
    {
     "name": "stderr",
     "output_type": "stream",
     "text": [
      " 47%|████████████████████████████████████▎                                        | 5159/10951 [04:01<03:42, 25.98it/s][16:51:49] Unusual charge on atom 42 number of radical electrons set to zero\n",
      " 47%|████████████████████████████████████▌                                        | 5201/10951 [04:03<04:09, 23.09it/s]Failed to featurize datapoint 0, [Se]. Appending empty array\n",
      "Exception message: More than one atom should be present in the molecule for this featurizer to work.\n",
      " 48%|████████████████████████████████████▌                                        | 5208/10951 [04:03<04:04, 23.52it/s]"
     ]
    },
    {
     "name": "stdout",
     "output_type": "stream",
     "text": [
      "5143\n"
     ]
    },
    {
     "name": "stderr",
     "output_type": "stream",
     "text": [
      " 48%|████████████████████████████████████▉                                        | 5261/10951 [04:06<04:08, 22.90it/s]Failed to featurize datapoint 0, [I-]. Appending empty array\n",
      "Exception message: More than one atom should be present in the molecule for this featurizer to work.\n",
      " 48%|█████████████████████████████████████                                        | 5265/10951 [04:06<03:49, 24.73it/s]"
     ]
    },
    {
     "name": "stdout",
     "output_type": "stream",
     "text": [
      "5201\n"
     ]
    },
    {
     "name": "stderr",
     "output_type": "stream",
     "text": [
      " 49%|█████████████████████████████████████▋                                       | 5356/10951 [04:10<04:23, 21.21it/s]Failed to featurize datapoint 0, [Cl-].[Tl+]. Appending empty array\n",
      "Exception message: zero-size array to reduction operation maximum which has no identity\n",
      " 49%|█████████████████████████████████████▋                                       | 5362/10951 [04:10<04:30, 20.68it/s]"
     ]
    },
    {
     "name": "stdout",
     "output_type": "stream",
     "text": [
      "5296\n"
     ]
    },
    {
     "name": "stderr",
     "output_type": "stream",
     "text": [
      " 49%|█████████████████████████████████████▊                                       | 5373/10951 [04:11<03:39, 25.44it/s]Failed to featurize datapoint 0, [18F]. Appending empty array\n",
      "Exception message: More than one atom should be present in the molecule for this featurizer to work.\n",
      " 49%|█████████████████████████████████████▊                                       | 5380/10951 [04:11<03:17, 28.21it/s]"
     ]
    },
    {
     "name": "stdout",
     "output_type": "stream",
     "text": [
      "5312\n"
     ]
    },
    {
     "name": "stderr",
     "output_type": "stream",
     "text": [
      " 50%|██████████████████████████████████████▎                                      | 5447/10951 [04:14<03:53, 23.56it/s]Failed to featurize datapoint 0, [V]. Appending empty array\n",
      "Exception message: More than one atom should be present in the molecule for this featurizer to work.\n",
      " 50%|██████████████████████████████████████▎                                      | 5454/10951 [04:14<03:38, 25.14it/s]"
     ]
    },
    {
     "name": "stdout",
     "output_type": "stream",
     "text": [
      "5385\n"
     ]
    },
    {
     "name": "stderr",
     "output_type": "stream",
     "text": [
      " 50%|██████████████████████████████████████▍                                      | 5470/10951 [04:15<04:19, 21.10it/s]Failed to featurize datapoint 0, [82Rb+]. Appending empty array\n",
      "Exception message: More than one atom should be present in the molecule for this featurizer to work.\n",
      " 50%|██████████████████████████████████████▍                                      | 5473/10951 [04:15<04:13, 21.62it/s]"
     ]
    },
    {
     "name": "stdout",
     "output_type": "stream",
     "text": [
      "5406\n"
     ]
    },
    {
     "name": "stderr",
     "output_type": "stream",
     "text": [
      " 51%|███████████████████████████████████████                                      | 5553/10951 [04:19<03:43, 24.19it/s]Failed to featurize datapoint 0, [Cl-].[K+]. Appending empty array\n",
      "Exception message: zero-size array to reduction operation maximum which has no identity\n",
      " 51%|███████████████████████████████████████                                      | 5557/10951 [04:19<03:17, 27.35it/s]Failed to featurize datapoint 0, [51Cr]. Appending empty array\n",
      "Exception message: More than one atom should be present in the molecule for this featurizer to work.\n"
     ]
    },
    {
     "name": "stdout",
     "output_type": "stream",
     "text": [
      "5487\n",
      "5491\n"
     ]
    },
    {
     "name": "stderr",
     "output_type": "stream",
     "text": [
      " 51%|███████████████████████████████████████▎                                     | 5592/10951 [04:20<04:01, 22.21it/s]Failed to featurize datapoint 0, [Sb]. Appending empty array\n",
      "Exception message: More than one atom should be present in the molecule for this featurizer to work.\n",
      " 51%|███████████████████████████████████████▍                                     | 5600/10951 [04:21<03:17, 27.09it/s]"
     ]
    },
    {
     "name": "stdout",
     "output_type": "stream",
     "text": [
      "5526\n"
     ]
    },
    {
     "name": "stderr",
     "output_type": "stream",
     "text": [
      "Failed to featurize datapoint 0, [177Lu]. Appending empty array\n",
      "Exception message: More than one atom should be present in the molecule for this featurizer to work.\n",
      " 51%|███████████████████████████████████████▍                                     | 5607/10951 [04:21<03:03, 29.06it/s]"
     ]
    },
    {
     "name": "stdout",
     "output_type": "stream",
     "text": [
      "5533\n"
     ]
    },
    {
     "name": "stderr",
     "output_type": "stream",
     "text": [
      " 52%|███████████████████████████████████████▉                                     | 5674/10951 [04:24<04:27, 19.72it/s]Failed to featurize datapoint 0, [C]. Appending empty array\n",
      "Exception message: More than one atom should be present in the molecule for this featurizer to work.\n",
      " 52%|███████████████████████████████████████▉                                     | 5678/10951 [04:24<04:10, 21.02it/s]"
     ]
    },
    {
     "name": "stdout",
     "output_type": "stream",
     "text": [
      "5604\n"
     ]
    },
    {
     "name": "stderr",
     "output_type": "stream",
     "text": [
      " 52%|████████████████████████████████████████▏                                    | 5709/10951 [04:25<03:25, 25.48it/s]Failed to featurize datapoint 0, [Rb]. Appending empty array\n",
      "Exception message: More than one atom should be present in the molecule for this featurizer to work.\n",
      " 52%|████████████████████████████████████████▏                                    | 5716/10951 [04:25<03:06, 28.14it/s]"
     ]
    },
    {
     "name": "stdout",
     "output_type": "stream",
     "text": [
      "5640\n"
     ]
    },
    {
     "name": "stderr",
     "output_type": "stream",
     "text": [
      " 53%|████████████████████████████████████████▊                                    | 5800/10951 [04:29<03:14, 26.46it/s]Failed to featurize datapoint 0, [Zn]. Appending empty array\n",
      "Exception message: More than one atom should be present in the molecule for this featurizer to work.\n",
      " 53%|████████████████████████████████████████▊                                    | 5807/10951 [04:29<03:07, 27.51it/s]"
     ]
    },
    {
     "name": "stdout",
     "output_type": "stream",
     "text": [
      "5729\n"
     ]
    },
    {
     "name": "stderr",
     "output_type": "stream",
     "text": [
      " 56%|███████████████████████████████████████████▍                                 | 6183/10951 [04:52<03:20, 23.77it/s]Failed to featurize datapoint 0, [Fe+3].[O-2].[OH-]. Appending empty array\n",
      "Exception message: zero-size array to reduction operation maximum which has no identity\n",
      " 57%|███████████████████████████████████████████▌                                 | 6190/10951 [04:52<02:59, 26.49it/s]"
     ]
    },
    {
     "name": "stdout",
     "output_type": "stream",
     "text": [
      "6112\n"
     ]
    },
    {
     "name": "stderr",
     "output_type": "stream",
     "text": [
      " 59%|█████████████████████████████████████████████▋                               | 6494/10951 [05:11<03:10, 23.36it/s]Failed to featurize datapoint 0, [90Y]. Appending empty array\n",
      "Exception message: More than one atom should be present in the molecule for this featurizer to work.\n",
      " 59%|█████████████████████████████████████████████▋                               | 6500/10951 [05:11<03:04, 24.10it/s]"
     ]
    },
    {
     "name": "stdout",
     "output_type": "stream",
     "text": [
      "6422\n"
     ]
    },
    {
     "name": "stderr",
     "output_type": "stream",
     "text": [
      " 60%|██████████████████████████████████████████████                               | 6553/10951 [05:14<03:41, 19.82it/s]Failed to featurize datapoint 0, O.O.O.O.O.O.O.O.O.O.O.O.O.O.O.O.O.O.[Mo].[Mo].[Mo].[Mo].[Mo].[Mo].[Mo].[OH-].[OH-].[OH-].[OH-].[OH-].[OH-]. Appending empty array\n",
      "Exception message: zero-size array to reduction operation maximum which has no identity\n",
      " 60%|██████████████████████████████████████████████                               | 6557/10951 [05:14<03:18, 22.11it/s]"
     ]
    },
    {
     "name": "stdout",
     "output_type": "stream",
     "text": [
      "6479\n"
     ]
    },
    {
     "name": "stderr",
     "output_type": "stream",
     "text": [
      " 60%|██████████████████████████████████████████████▎                              | 6578/10951 [05:15<03:47, 19.22it/s]Failed to featurize datapoint 0, [153Sm]. Appending empty array\n",
      "Exception message: More than one atom should be present in the molecule for this featurizer to work.\n",
      " 60%|██████████████████████████████████████████████▎                              | 6582/10951 [05:15<03:16, 22.25it/s]"
     ]
    },
    {
     "name": "stdout",
     "output_type": "stream",
     "text": [
      "6502\n"
     ]
    },
    {
     "name": "stderr",
     "output_type": "stream",
     "text": [
      " 62%|███████████████████████████████████████████████▋                             | 6784/10951 [05:26<02:47, 24.94it/s]Failed to featurize datapoint 0, [Cr]. Appending empty array\n",
      "Exception message: More than one atom should be present in the molecule for this featurizer to work.\n",
      " 62%|███████████████████████████████████████████████▋                             | 6787/10951 [05:26<02:47, 24.81it/s]"
     ]
    },
    {
     "name": "stdout",
     "output_type": "stream",
     "text": [
      "6707\n"
     ]
    },
    {
     "name": "stderr",
     "output_type": "stream",
     "text": [
      " 62%|███████████████████████████████████████████████▊                             | 6793/10951 [05:27<03:09, 21.88it/s]Failed to featurize datapoint 0, [Na+].[Na+].[S-2]. Appending empty array\n",
      "Exception message: zero-size array to reduction operation maximum which has no identity\n",
      " 62%|███████████████████████████████████████████████▊                             | 6800/10951 [05:27<02:38, 26.15it/s]"
     ]
    },
    {
     "name": "stdout",
     "output_type": "stream",
     "text": [
      "6717\n"
     ]
    },
    {
     "name": "stderr",
     "output_type": "stream",
     "text": [
      " 63%|████████████████████████████████████████████████▏                            | 6855/10951 [05:29<03:03, 22.34it/s]Failed to featurize datapoint 0, [201Tl+]. Appending empty array\n",
      "Exception message: More than one atom should be present in the molecule for this featurizer to work.\n",
      " 63%|████████████████████████████████████████████████▏                            | 6858/10951 [05:29<02:58, 22.98it/s]"
     ]
    },
    {
     "name": "stdout",
     "output_type": "stream",
     "text": [
      "6776\n"
     ]
    },
    {
     "name": "stderr",
     "output_type": "stream",
     "text": [
      " 65%|██████████████████████████████████████████████████▏                          | 7129/10951 [05:42<03:41, 17.22it/s]Failed to featurize datapoint 0, [B]. Appending empty array\n",
      "Exception message: More than one atom should be present in the molecule for this featurizer to work.\n",
      " 65%|██████████████████████████████████████████████████▏                          | 7134/10951 [05:42<02:49, 22.50it/s]"
     ]
    },
    {
     "name": "stdout",
     "output_type": "stream",
     "text": [
      "7050\n"
     ]
    },
    {
     "name": "stderr",
     "output_type": "stream",
     "text": [
      " 65%|██████████████████████████████████████████████████▎                          | 7160/10951 [05:43<03:03, 20.68it/s]Failed to featurize datapoint 0, O.[Al+3].[Al+3].[Cl-].[OH-].[OH-].[OH-].[OH-].[OH-]. Appending empty array\n",
      "Exception message: zero-size array to reduction operation maximum which has no identity\n",
      " 65%|██████████████████████████████████████████████████▍                          | 7166/10951 [05:43<02:41, 23.46it/s]"
     ]
    },
    {
     "name": "stdout",
     "output_type": "stream",
     "text": [
      "7079\n"
     ]
    },
    {
     "name": "stderr",
     "output_type": "stream",
     "text": [
      " 67%|███████████████████████████████████████████████████▍                         | 7311/10951 [05:50<02:18, 26.20it/s]Failed to featurize datapoint 0, [Mg+2]. Appending empty array\n",
      "Exception message: More than one atom should be present in the molecule for this featurizer to work.\n",
      " 67%|███████████████████████████████████████████████████▍                         | 7315/10951 [05:50<02:10, 27.86it/s]"
     ]
    },
    {
     "name": "stdout",
     "output_type": "stream",
     "text": [
      "7229\n"
     ]
    },
    {
     "name": "stderr",
     "output_type": "stream",
     "text": [
      " 67%|███████████████████████████████████████████████████▋                         | 7343/10951 [05:51<02:30, 23.97it/s]Failed to featurize datapoint 0, Br.Br.Br.Br.Br.Br.Br.Br.Br.Br.Br.[Br-].[Ta+].[Ta].[Ta].[Ta].[Ta].[Ta]. Appending empty array\n",
      "Exception message: zero-size array to reduction operation maximum which has no identity\n",
      " 67%|███████████████████████████████████████████████████▋                         | 7347/10951 [05:51<02:19, 25.83it/s]"
     ]
    },
    {
     "name": "stdout",
     "output_type": "stream",
     "text": [
      "7261\n"
     ]
    },
    {
     "name": "stderr",
     "output_type": "stream",
     "text": [
      " 68%|████████████████████████████████████████████████████                         | 7411/10951 [05:54<02:38, 22.32it/s]Failed to featurize datapoint 0, [Fe+2].[Fe+3].[Fe+3].[O-2].[O-2].[O-2].[O-2]. Appending empty array\n",
      "Exception message: zero-size array to reduction operation maximum which has no identity\n",
      " 68%|████████████████████████████████████████████████████▏                        | 7415/10951 [05:54<02:20, 25.17it/s]"
     ]
    },
    {
     "name": "stdout",
     "output_type": "stream",
     "text": [
      "7329\n"
     ]
    },
    {
     "name": "stderr",
     "output_type": "stream",
     "text": [
      " 68%|████████████████████████████████████████████████████▍                        | 7455/10951 [05:56<02:38, 22.05it/s]Failed to featurize datapoint 0, [Ca+2].[Cl-].[Cl-]. Appending empty array\n",
      "Exception message: zero-size array to reduction operation maximum which has no identity\n",
      " 68%|████████████████████████████████████████████████████▍                        | 7458/10951 [05:56<02:28, 23.48it/s]"
     ]
    },
    {
     "name": "stdout",
     "output_type": "stream",
     "text": [
      "7370\n"
     ]
    },
    {
     "name": "stderr",
     "output_type": "stream",
     "text": [
      " 69%|████████████████████████████████████████████████████▊                        | 7517/10951 [06:05<11:08,  5.14it/s]Failed to featurize datapoint 0, [Al]. Appending empty array\n",
      "Exception message: More than one atom should be present in the molecule for this featurizer to work.\n",
      " 69%|████████████████████████████████████████████████████▉                        | 7520/10951 [06:05<08:21,  6.84it/s]"
     ]
    },
    {
     "name": "stdout",
     "output_type": "stream",
     "text": [
      "7432\n"
     ]
    },
    {
     "name": "stderr",
     "output_type": "stream",
     "text": [
      " 69%|█████████████████████████████████████████████████████                        | 7551/10951 [06:07<02:48, 20.12it/s]Failed to featurize datapoint 0, [Mn+2]. Appending empty array\n",
      "Exception message: More than one atom should be present in the molecule for this featurizer to work.\n",
      " 69%|█████████████████████████████████████████████████████▏                       | 7559/10951 [06:07<02:15, 25.12it/s]"
     ]
    },
    {
     "name": "stdout",
     "output_type": "stream",
     "text": [
      "7466\n"
     ]
    },
    {
     "name": "stderr",
     "output_type": "stream",
     "text": [
      " 69%|█████████████████████████████████████████████████████▍                       | 7595/10951 [06:09<02:32, 21.95it/s]Failed to featurize datapoint 0, [223Ra]. Appending empty array\n",
      "Exception message: More than one atom should be present in the molecule for this featurizer to work.\n",
      " 69%|█████████████████████████████████████████████████████▍                       | 7598/10951 [06:09<02:24, 23.20it/s]"
     ]
    },
    {
     "name": "stdout",
     "output_type": "stream",
     "text": [
      "7507\n"
     ]
    },
    {
     "name": "stderr",
     "output_type": "stream",
     "text": [
      " 71%|██████████████████████████████████████████████████████▍                      | 7735/10951 [06:15<02:20, 22.81it/s]Failed to featurize datapoint 0, [I-].[Na+]. Appending empty array\n",
      "Exception message: zero-size array to reduction operation maximum which has no identity\n",
      " 71%|██████████████████████████████████████████████████████▍                      | 7738/10951 [06:15<02:16, 23.55it/s]"
     ]
    },
    {
     "name": "stdout",
     "output_type": "stream",
     "text": [
      "7646\n"
     ]
    },
    {
     "name": "stderr",
     "output_type": "stream",
     "text": [
      " 72%|███████████████████████████████████████████████████████▏                     | 7846/10951 [06:21<02:16, 22.83it/s]Failed to featurize datapoint 0, [Ag]. Appending empty array\n",
      "Exception message: More than one atom should be present in the molecule for this featurizer to work.\n",
      " 72%|███████████████████████████████████████████████████████▏                     | 7852/10951 [06:21<02:21, 21.89it/s]"
     ]
    },
    {
     "name": "stdout",
     "output_type": "stream",
     "text": [
      "7758\n"
     ]
    },
    {
     "name": "stderr",
     "output_type": "stream",
     "text": [
      " 76%|██████████████████████████████████████████████████████████▏                  | 8273/10951 [06:42<02:28, 17.99it/s]Failed to featurize datapoint 0, [C]. Appending empty array\n",
      "Exception message: More than one atom should be present in the molecule for this featurizer to work.\n",
      " 76%|██████████████████████████████████████████████████████████▏                  | 8279/10951 [06:42<02:18, 19.36it/s]"
     ]
    },
    {
     "name": "stdout",
     "output_type": "stream",
     "text": [
      "8184\n"
     ]
    },
    {
     "name": "stderr",
     "output_type": "stream",
     "text": [
      " 76%|██████████████████████████████████████████████████████████▋                  | 8341/10951 [06:45<01:56, 22.48it/s]Failed to featurize datapoint 0, [Si]. Appending empty array\n",
      "Exception message: More than one atom should be present in the molecule for this featurizer to work.\n",
      " 76%|██████████████████████████████████████████████████████████▋                  | 8345/10951 [06:45<01:47, 24.16it/s]"
     ]
    },
    {
     "name": "stdout",
     "output_type": "stream",
     "text": [
      "8251\n"
     ]
    },
    {
     "name": "stderr",
     "output_type": "stream",
     "text": [
      " 77%|██████████████████████████████████████████████████████████▉                  | 8381/10951 [06:47<01:43, 24.82it/s]Failed to featurize datapoint 0, O.O.O.O.[Al+3].[Mg+2].[O-2].[O-2].[O-2].[O-2].[O-2].[O-2].[O-2].[O-2].[O-2].[O-2].[OH-].[Si+4].[Si+4].[Si+4].[Si+4]. Appending empty array\n",
      "Exception message: zero-size array to reduction operation maximum which has no identity\n",
      " 77%|██████████████████████████████████████████████████████████▉                  | 8385/10951 [06:47<01:37, 26.42it/s]"
     ]
    },
    {
     "name": "stdout",
     "output_type": "stream",
     "text": [
      "8289\n"
     ]
    },
    {
     "name": "stderr",
     "output_type": "stream",
     "text": [
      " 77%|███████████████████████████████████████████████████████████▍                 | 8450/10951 [06:50<01:47, 23.31it/s]Failed to featurize datapoint 0, [Bi+3]. Appending empty array\n",
      "Exception message: More than one atom should be present in the molecule for this featurizer to work.\n",
      " 77%|███████████████████████████████████████████████████████████▍                 | 8457/10951 [06:50<01:33, 26.70it/s]"
     ]
    },
    {
     "name": "stdout",
     "output_type": "stream",
     "text": [
      "8357\n"
     ]
    },
    {
     "name": "stderr",
     "output_type": "stream",
     "text": [
      " 77%|███████████████████████████████████████████████████████████▌                 | 8478/10951 [06:51<01:37, 25.28it/s]Failed to featurize datapoint 0, [Cl-].[Na+]. Appending empty array\n",
      "Exception message: zero-size array to reduction operation maximum which has no identity\n",
      " 77%|███████████████████████████████████████████████████████████▋                 | 8482/10951 [06:51<01:27, 28.09it/s]"
     ]
    },
    {
     "name": "stdout",
     "output_type": "stream",
     "text": [
      "8383\n"
     ]
    },
    {
     "name": "stderr",
     "output_type": "stream",
     "text": [
      " 78%|████████████████████████████████████████████████████████████                 | 8550/10951 [06:54<01:55, 20.82it/s]Failed to featurize datapoint 0, [F-].[Na+]. Appending empty array\n",
      "Exception message: zero-size array to reduction operation maximum which has no identity\n",
      " 78%|████████████████████████████████████████████████████████████▏                | 8557/10951 [06:55<01:38, 24.36it/s]"
     ]
    },
    {
     "name": "stdout",
     "output_type": "stream",
     "text": [
      "8456\n"
     ]
    },
    {
     "name": "stderr",
     "output_type": "stream",
     "text": [
      " 79%|████████████████████████████████████████████████████████████▌                | 8617/10951 [06:57<01:40, 23.25it/s]Failed to featurize datapoint 0, [F-]. Appending empty array\n",
      "Exception message: More than one atom should be present in the molecule for this featurizer to work.\n",
      " 79%|████████████████████████████████████████████████████████████▌                | 8621/10951 [06:58<01:27, 26.67it/s]"
     ]
    },
    {
     "name": "stdout",
     "output_type": "stream",
     "text": [
      "8520\n"
     ]
    },
    {
     "name": "stderr",
     "output_type": "stream",
     "text": [
      " 80%|█████████████████████████████████████████████████████████████▊               | 8783/10951 [07:05<01:48, 20.03it/s]Failed to featurize datapoint 0, [KH]. Appending empty array\n",
      "Exception message: More than one atom should be present in the molecule for this featurizer to work.\n",
      " 80%|█████████████████████████████████████████████████████████████▊               | 8790/10951 [07:05<01:34, 22.93it/s]"
     ]
    },
    {
     "name": "stdout",
     "output_type": "stream",
     "text": [
      "8687\n"
     ]
    },
    {
     "name": "stderr",
     "output_type": "stream",
     "text": [
      " 83%|███████████████████████████████████████████████████████████████▋             | 9052/10951 [07:17<01:21, 23.20it/s]Failed to featurize datapoint 0, [Cu+2].[O-2]. Appending empty array\n",
      "Exception message: zero-size array to reduction operation maximum which has no identity\n",
      " 83%|███████████████████████████████████████████████████████████████▋             | 9056/10951 [07:17<01:10, 26.89it/s]"
     ]
    },
    {
     "name": "stdout",
     "output_type": "stream",
     "text": [
      "8954\n"
     ]
    },
    {
     "name": "stderr",
     "output_type": "stream",
     "text": [
      " 83%|███████████████████████████████████████████████████████████████▉             | 9099/10951 [07:19<01:14, 24.72it/s]Failed to featurize datapoint 0, [Al+3]. Appending empty array\n",
      "Exception message: More than one atom should be present in the molecule for this featurizer to work.\n",
      " 83%|████████████████████████████████████████████████████████████████             | 9106/10951 [07:19<01:11, 25.90it/s]"
     ]
    },
    {
     "name": "stdout",
     "output_type": "stream",
     "text": [
      "9001\n"
     ]
    },
    {
     "name": "stderr",
     "output_type": "stream",
     "text": [
      " 84%|████████████████████████████████████████████████████████████████▍            | 9172/10951 [07:22<01:26, 20.62it/s]Failed to featurize datapoint 0, [Cu]. Appending empty array\n",
      "Exception message: More than one atom should be present in the molecule for this featurizer to work.\n",
      " 84%|████████████████████████████████████████████████████████████████▌            | 9179/10951 [07:23<01:15, 23.53it/s]"
     ]
    },
    {
     "name": "stdout",
     "output_type": "stream",
     "text": [
      "9073\n"
     ]
    },
    {
     "name": "stderr",
     "output_type": "stream",
     "text": [
      " 84%|████████████████████████████████████████████████████████████████▌            | 9189/10951 [07:23<01:13, 23.91it/s]Failed to featurize datapoint 0, [MgH2]. Appending empty array\n",
      "Exception message: More than one atom should be present in the molecule for this featurizer to work.\n",
      " 84%|████████████████████████████████████████████████████████████████▋            | 9192/10951 [07:23<01:19, 22.03it/s]"
     ]
    },
    {
     "name": "stdout",
     "output_type": "stream",
     "text": [
      "9087\n"
     ]
    },
    {
     "name": "stderr",
     "output_type": "stream",
     "text": [
      " 86%|██████████████████████████████████████████████████████████████████           | 9395/10951 [07:32<01:20, 19.44it/s]Failed to featurize datapoint 0, [Fe+2]. Appending empty array\n",
      "Exception message: More than one atom should be present in the molecule for this featurizer to work.\n",
      " 86%|██████████████████████████████████████████████████████████████████           | 9402/10951 [07:32<01:06, 23.13it/s]"
     ]
    },
    {
     "name": "stdout",
     "output_type": "stream",
     "text": [
      "9293\n"
     ]
    },
    {
     "name": "stderr",
     "output_type": "stream",
     "text": [
      " 87%|██████████████████████████████████████████████████████████████████▊          | 9502/10951 [07:37<00:52, 27.73it/s]Failed to featurize datapoint 0, [Cu+2]. Appending empty array\n",
      "Exception message: More than one atom should be present in the molecule for this featurizer to work.\n",
      " 87%|██████████████████████████████████████████████████████████████████▊          | 9509/10951 [07:37<00:50, 28.66it/s]"
     ]
    },
    {
     "name": "stdout",
     "output_type": "stream",
     "text": [
      "9399\n"
     ]
    },
    {
     "name": "stderr",
     "output_type": "stream",
     "text": [
      " 87%|███████████████████████████████████████████████████████████████████          | 9540/10951 [07:39<01:02, 22.47it/s]Failed to featurize datapoint 0, [Cl-].[Cl-].[Co+2]. Appending empty array\n",
      "Exception message: zero-size array to reduction operation maximum which has no identity\n",
      " 87%|███████████████████████████████████████████████████████████████████          | 9543/10951 [07:39<01:03, 22.07it/s]"
     ]
    },
    {
     "name": "stdout",
     "output_type": "stream",
     "text": [
      "9436\n"
     ]
    },
    {
     "name": "stderr",
     "output_type": "stream",
     "text": [
      " 87%|███████████████████████████████████████████████████████████████████▏         | 9558/10951 [07:40<01:02, 22.13it/s]Failed to featurize datapoint 0, [Nb]. Appending empty array\n",
      "Exception message: More than one atom should be present in the molecule for this featurizer to work.\n",
      " 87%|███████████████████████████████████████████████████████████████████▎         | 9565/10951 [07:40<01:00, 22.97it/s]"
     ]
    },
    {
     "name": "stdout",
     "output_type": "stream",
     "text": [
      "9454\n"
     ]
    },
    {
     "name": "stderr",
     "output_type": "stream",
     "text": [
      " 88%|███████████████████████████████████████████████████████████████████▍         | 9592/10951 [07:41<00:53, 25.50it/s]Failed to featurize datapoint 0, [Au]. Appending empty array\n",
      "Exception message: More than one atom should be present in the molecule for this featurizer to work.\n",
      " 88%|███████████████████████████████████████████████████████████████████▍         | 9599/10951 [07:41<00:46, 28.79it/s]"
     ]
    },
    {
     "name": "stdout",
     "output_type": "stream",
     "text": [
      "9485\n"
     ]
    },
    {
     "name": "stderr",
     "output_type": "stream",
     "text": [
      " 88%|███████████████████████████████████████████████████████████████████▊         | 9648/10951 [07:44<01:03, 20.57it/s]Failed to featurize datapoint 0, [133Xe]. Appending empty array\n",
      "Exception message: More than one atom should be present in the molecule for this featurizer to work.\n",
      " 88%|███████████████████████████████████████████████████████████████████▉         | 9654/10951 [07:44<00:56, 23.09it/s]"
     ]
    },
    {
     "name": "stdout",
     "output_type": "stream",
     "text": [
      "9541\n"
     ]
    },
    {
     "name": "stderr",
     "output_type": "stream",
     "text": [
      " 89%|████████████████████████████████████████████████████████████████████▊        | 9778/10951 [07:50<01:34, 12.37it/s]Failed to featurize datapoint 0, [Sm]. Appending empty array\n",
      "Exception message: More than one atom should be present in the molecule for this featurizer to work.\n",
      " 89%|████████████████████████████████████████████████████████████████████▊        | 9781/10951 [07:50<01:19, 14.78it/s]"
     ]
    },
    {
     "name": "stdout",
     "output_type": "stream",
     "text": [
      "9669\n"
     ]
    },
    {
     "name": "stderr",
     "output_type": "stream",
     "text": [
      " 90%|█████████████████████████████████████████████████████████████████████        | 9818/10951 [07:52<00:48, 23.16it/s]Failed to featurize datapoint 0, [Na+].[OH-]. Appending empty array\n",
      "Exception message: zero-size array to reduction operation maximum which has no identity\n",
      " 90%|█████████████████████████████████████████████████████████████████████        | 9825/10951 [07:52<00:44, 25.57it/s]"
     ]
    },
    {
     "name": "stdout",
     "output_type": "stream",
     "text": [
      "9709\n"
     ]
    },
    {
     "name": "stderr",
     "output_type": "stream",
     "text": [
      " 91%|██████████████████████████████████████████████████████████████████████       | 9968/10951 [07:59<00:54, 18.20it/s]Failed to featurize datapoint 0, [He]. Appending empty array\n",
      "Exception message: More than one atom should be present in the molecule for this featurizer to work.\n",
      " 91%|██████████████████████████████████████████████████████████████████████       | 9972/10951 [07:59<00:43, 22.36it/s]"
     ]
    },
    {
     "name": "stdout",
     "output_type": "stream",
     "text": [
      "9857\n"
     ]
    },
    {
     "name": "stderr",
     "output_type": "stream",
     "text": [
      " 91%|██████████████████████████████████████████████████████████████████████▏      | 9975/10951 [08:00<00:42, 22.83it/s]Failed to featurize datapoint 0, [Cl-].[Cl-].[Mg+2]. Appending empty array\n",
      "Exception message: zero-size array to reduction operation maximum which has no identity\n",
      " 91%|██████████████████████████████████████████████████████████████████████▏      | 9979/10951 [08:00<00:38, 25.04it/s]Failed to featurize datapoint 0, [Mg+2].[O-2]. Appending empty array\n",
      "Exception message: zero-size array to reduction operation maximum which has no identity\n"
     ]
    },
    {
     "name": "stdout",
     "output_type": "stream",
     "text": [
      "9864\n",
      "9866\n"
     ]
    },
    {
     "name": "stderr",
     "output_type": "stream",
     "text": [
      " 93%|██████████████████████████████████████████████████████████████████████▍     | 10150/10951 [08:08<00:36, 21.99it/s]Failed to featurize datapoint 0, [Fe+3]. Appending empty array\n",
      "Exception message: More than one atom should be present in the molecule for this featurizer to work.\n",
      " 93%|██████████████████████████████████████████████████████████████████████▍     | 10156/10951 [08:08<00:34, 23.32it/s]"
     ]
    },
    {
     "name": "stdout",
     "output_type": "stream",
     "text": [
      "10038\n"
     ]
    },
    {
     "name": "stderr",
     "output_type": "stream",
     "text": [
      " 93%|██████████████████████████████████████████████████████████████████████▋     | 10192/10951 [08:10<00:29, 25.90it/s]Failed to featurize datapoint 0, [111In+3]. Appending empty array\n",
      "Exception message: More than one atom should be present in the molecule for this featurizer to work.\n",
      " 93%|██████████████████████████████████████████████████████████████████████▊     | 10197/10951 [08:10<00:25, 29.84it/s]Failed to featurize datapoint 0, [67Ga+3].[Cl-].[Cl-].[Cl-]. Appending empty array\n",
      "Exception message: zero-size array to reduction operation maximum which has no identity\n"
     ]
    },
    {
     "name": "stdout",
     "output_type": "stream",
     "text": [
      "10077\n",
      "10082\n"
     ]
    },
    {
     "name": "stderr",
     "output_type": "stream",
     "text": [
      " 93%|██████████████████████████████████████████████████████████████████████▉     | 10217/10951 [08:11<00:37, 19.65it/s]Failed to featurize datapoint 0, [Ni+2]. Appending empty array\n",
      "Exception message: More than one atom should be present in the molecule for this featurizer to work.\n",
      " 93%|██████████████████████████████████████████████████████████████████████▉     | 10220/10951 [08:11<00:33, 21.50it/s]Failed to featurize datapoint 0, [Se]. Appending empty array\n",
      "Exception message: More than one atom should be present in the molecule for this featurizer to work.\n"
     ]
    },
    {
     "name": "stdout",
     "output_type": "stream",
     "text": [
      "10101\n",
      "10103\n"
     ]
    },
    {
     "name": "stderr",
     "output_type": "stream",
     "text": [
      " 94%|███████████████████████████████████████████████████████████████████████▏    | 10256/10951 [08:13<00:29, 23.30it/s]Failed to featurize datapoint 0, [Ca]. Appending empty array\n",
      "Exception message: More than one atom should be present in the molecule for this featurizer to work.\n",
      " 94%|███████████████████████████████████████████████████████████████████████▏    | 10260/10951 [08:13<00:27, 25.45it/s]"
     ]
    },
    {
     "name": "stdout",
     "output_type": "stream",
     "text": [
      "10138\n"
     ]
    },
    {
     "name": "stderr",
     "output_type": "stream",
     "text": [
      " 94%|███████████████████████████████████████████████████████████████████████▎    | 10272/10951 [08:13<00:28, 23.87it/s]Failed to featurize datapoint 0, [K+]. Appending empty array\n",
      "Exception message: More than one atom should be present in the molecule for this featurizer to work.\n",
      " 94%|███████████████████████████████████████████████████████████████████████▎    | 10279/10951 [08:14<00:27, 24.33it/s]"
     ]
    },
    {
     "name": "stdout",
     "output_type": "stream",
     "text": [
      "10154\n"
     ]
    },
    {
     "name": "stderr",
     "output_type": "stream",
     "text": [
      " 95%|████████████████████████████████████████████████████████████████████████▎   | 10414/10951 [08:20<00:30, 17.39it/s]Failed to featurize datapoint 0, [Ga+3]. Appending empty array\n",
      "Exception message: More than one atom should be present in the molecule for this featurizer to work.\n",
      " 95%|████████████████████████████████████████████████████████████████████████▎   | 10421/10951 [08:21<00:25, 21.03it/s]"
     ]
    },
    {
     "name": "stdout",
     "output_type": "stream",
     "text": [
      "10295\n"
     ]
    },
    {
     "name": "stderr",
     "output_type": "stream",
     "text": [
      " 95%|████████████████████████████████████████████████████████████████████████▌   | 10448/10951 [08:22<00:40, 12.56it/s]Failed to featurize datapoint 0, [Gd]. Appending empty array\n",
      "Exception message: More than one atom should be present in the molecule for this featurizer to work.\n",
      " 95%|████████████████████████████████████████████████████████████████████████▌   | 10455/10951 [08:23<00:30, 16.40it/s]"
     ]
    },
    {
     "name": "stdout",
     "output_type": "stream",
     "text": [
      "10328\n"
     ]
    },
    {
     "name": "stderr",
     "output_type": "stream",
     "text": [
      " 96%|████████████████████████████████████████████████████████████████████████▊   | 10491/10951 [08:24<00:18, 25.10it/s]Failed to featurize datapoint 0, O.O.O.O.[Mo+6].[Mo+6].[Mo+6].[Mo+6].[Mo+6].[Mo+6].[Mo+6].[NH4+].[NH4+].[NH4+].[NH4+].[NH4+].[NH4+].[O-2].[O-2].[O-2].[O-2].[O-2].[O-2].[O-2].[O-2].[O-2].[O-2].[O-2].[O-2].[O-2].[O-2].[O-2].[O-2].[O-2].[O-2].[O-2].[O-2].[O-2].[O-2].[O-2].[O-2]. Appending empty array\n",
      "Exception message: zero-size array to reduction operation maximum which has no identity\n",
      " 96%|████████████████████████████████████████████████████████████████████████▊   | 10498/10951 [08:24<00:18, 25.15it/s]"
     ]
    },
    {
     "name": "stdout",
     "output_type": "stream",
     "text": [
      "10370\n"
     ]
    },
    {
     "name": "stderr",
     "output_type": "stream",
     "text": [
      " 96%|████████████████████████████████████████████████████████████████████████▉   | 10507/10951 [08:25<00:19, 22.98it/s]Failed to featurize datapoint 0, [Mg+2].[O-2].[O-2].[O-2].[Si+4]. Appending empty array\n",
      "Exception message: zero-size array to reduction operation maximum which has no identity\n",
      " 96%|████████████████████████████████████████████████████████████████████████▉   | 10510/10951 [08:25<00:18, 24.50it/s]"
     ]
    },
    {
     "name": "stdout",
     "output_type": "stream",
     "text": [
      "10383\n"
     ]
    },
    {
     "name": "stderr",
     "output_type": "stream",
     "text": [
      " 97%|█████████████████████████████████████████████████████████████████████████▉  | 10652/10951 [08:32<00:14, 20.60it/s]Failed to featurize datapoint 0, [18F-]. Appending empty array\n",
      "Exception message: More than one atom should be present in the molecule for this featurizer to work.\n",
      " 97%|█████████████████████████████████████████████████████████████████████████▉  | 10658/10951 [08:32<00:13, 22.06it/s]"
     ]
    },
    {
     "name": "stdout",
     "output_type": "stream",
     "text": [
      "10529\n"
     ]
    },
    {
     "name": "stderr",
     "output_type": "stream",
     "text": [
      " 98%|██████████████████████████████████████████████████████████████████████████▌ | 10752/10951 [08:37<00:12, 15.92it/s]Failed to featurize datapoint 0, [Au+]. Appending empty array\n",
      "Exception message: More than one atom should be present in the molecule for this featurizer to work.\n",
      " 98%|██████████████████████████████████████████████████████████████████████████▋ | 10759/10951 [08:37<00:09, 21.24it/s]"
     ]
    },
    {
     "name": "stdout",
     "output_type": "stream",
     "text": [
      "10627\n"
     ]
    },
    {
     "name": "stderr",
     "output_type": "stream",
     "text": [
      " 99%|███████████████████████████████████████████████████████████████████████████▎| 10845/10951 [08:41<00:04, 25.89it/s]Failed to featurize datapoint 0, [In]. Appending empty array\n",
      "Exception message: More than one atom should be present in the molecule for this featurizer to work.\n",
      " 99%|███████████████████████████████████████████████████████████████████████████▎| 10848/10951 [08:41<00:03, 26.25it/s]"
     ]
    },
    {
     "name": "stdout",
     "output_type": "stream",
     "text": [
      "10718\n"
     ]
    },
    {
     "name": "stderr",
     "output_type": "stream",
     "text": [
      "100%|███████████████████████████████████████████████████████████████████████████▋| 10905/10951 [08:44<00:02, 20.92it/s]Failed to featurize datapoint 0, [Cl-].[Cl-].[Sr+2]. Appending empty array\n",
      "Exception message: zero-size array to reduction operation maximum which has no identity\n",
      "100%|███████████████████████████████████████████████████████████████████████████▋| 10909/10951 [08:44<00:01, 23.19it/s]Failed to featurize datapoint 0, [111In]. Appending empty array\n",
      "Exception message: More than one atom should be present in the molecule for this featurizer to work.\n"
     ]
    },
    {
     "name": "stdout",
     "output_type": "stream",
     "text": [
      "10778\n",
      "10782\n"
     ]
    },
    {
     "name": "stderr",
     "output_type": "stream",
     "text": [
      "100%|███████████████████████████████████████████████████████████████████████████▊| 10919/10951 [08:45<00:01, 18.71it/s]Failed to featurize datapoint 0, [Cl-].[Na+]. Appending empty array\n",
      "Exception message: zero-size array to reduction operation maximum which has no identity\n",
      "100%|███████████████████████████████████████████████████████████████████████████▊| 10923/10951 [08:45<00:01, 22.40it/s]"
     ]
    },
    {
     "name": "stdout",
     "output_type": "stream",
     "text": [
      "10789\n"
     ]
    },
    {
     "name": "stderr",
     "output_type": "stream",
     "text": [
      "100%|████████████████████████████████████████████████████████████████████████████| 10951/10951 [08:47<00:00, 20.75it/s]\n",
      "Done!\n"
     ]
    }
   ],
   "source": [
    "remove = []\n",
    "\n",
    "class MoleculeDataset(Dataset):\n",
    "    def __init__(self, root, filename, test=False, transform=None, pre_transform=None):\n",
    "        \"\"\"\n",
    "        root = Where the dataset should be stored. This folder is split\n",
    "        into raw_dir (downloaded dataset) and processed_dir (processed data). \n",
    "        \"\"\"\n",
    "        self.test = test\n",
    "        self.filename = filename\n",
    "        self.sz = 0\n",
    "        super(MoleculeDataset, self).__init__(root, transform, pre_transform)\n",
    "        \n",
    "    @property\n",
    "    def raw_file_names(self):\n",
    "        \"\"\" If this file exists in raw_dir, the download is not triggered.\n",
    "            (The download func. is not implemented here)  \n",
    "        \"\"\"\n",
    "        return self.filename\n",
    "\n",
    "    @property\n",
    "    def processed_file_names(self):\n",
    "        \"\"\" If these files are found in raw_dir, processing is skipped\"\"\"\n",
    "        self.data = pd.read_csv(self.raw_paths[0]).reset_index()\n",
    "\n",
    "        if self.test:\n",
    "            return [f'data_test_{i}.pt' for i in list(self.data.index)]\n",
    "        else:\n",
    "            return [f'data_{i}.pt' for i in list(self.data.index)]\n",
    "        \n",
    "\n",
    "    def download(self):\n",
    "        pass\n",
    "\n",
    "    def process(self):\n",
    "        self.data = pd.read_csv(self.raw_paths[0]).reset_index()\n",
    "        featurizer = dc.feat.MolGraphConvFeaturizer(use_edges=True)\n",
    "        count = 0\n",
    "        for index, mol in tqdm(self.data.iterrows(), total=self.data.shape[0]):\n",
    "            # Featurize molecule\n",
    "            if type(mol[\"Drug1_SMILES\"])==float:\n",
    "              remove.append(mol[\"Drug1_ID\"])\n",
    "              continue\n",
    "            f = featurizer.featurize(mol[\"Drug1_SMILES\"])\n",
    "            if not f : \n",
    "              remove.append(mol[\"Drug1_ID\"])\n",
    "              print(count)\n",
    "              continue\n",
    "            data = f[0].to_pyg_graph()\n",
    "            data.y = 1\n",
    "            data.smiles = mol[\"Drug1_SMILES\"]\n",
    "            data.id = mol[\"Drug1_ID\"]\n",
    "            if self.test:\n",
    "                torch.save(data, \n",
    "                    os.path.join(self.processed_dir, \n",
    "                                f'data_test_{count}.pt'))\n",
    "            else:\n",
    "                torch.save(data, \n",
    "                    os.path.join(self.processed_dir, \n",
    "                                f'data_{count}.pt'))\n",
    "            count+=1\n",
    "        self.sz = count\n",
    "\n",
    "    def _get_label(self, label):\n",
    "        label = np.asarray([label])\n",
    "        return torch.tensor(label, dtype=torch.int64)\n",
    "\n",
    "    def len(self):\n",
    "        return self.sz\n",
    "        #return self.data.shape[0]\n",
    "\n",
    "    def get(self, idx):\n",
    "        \"\"\" - Equivalent to __getitem__ in pytorch\n",
    "            - Is not needed for PyG's InMemoryDataset\n",
    "        \"\"\"\n",
    "        if self.test:\n",
    "            data = torch.load(os.path.join(self.processed_dir, \n",
    "                                 f'data_test_{idx}.pt'))\n",
    "        else:\n",
    "            data = torch.load(os.path.join(self.processed_dir, \n",
    "                                 f'data_{idx}.pt'))        \n",
    "        return data\n",
    "\n",
    "encoder_set = MoleculeDataset(\"\",\"totalData.csv\")"
   ]
  },
  {
   "cell_type": "code",
   "execution_count": 7,
   "metadata": {
    "colab": {
     "base_uri": "https://localhost:8080/"
    },
    "id": "4z9BanO9FdDi",
    "outputId": "222fa1b4-4ef7-4b28-edcb-df3b49d85fd2"
   },
   "outputs": [
    {
     "data": {
      "text/plain": [
       "device(type='cpu')"
      ]
     },
     "execution_count": 7,
     "metadata": {},
     "output_type": "execute_result"
    }
   ],
   "source": [
    "# device = torch.device(\"cuda:0\" if torch.cuda.is_available() else \"cpu\")\n",
    "device = torch.device(\"cpu\")\n",
    "device"
   ]
  },
  {
   "cell_type": "code",
   "execution_count": 8,
   "metadata": {
    "colab": {
     "base_uri": "https://localhost:8080/"
    },
    "id": "nj6jef-iMtxG",
    "outputId": "8e1ba71e-cc1f-43e9-e55c-145c59856fd0"
   },
   "outputs": [
    {
     "data": {
      "text/plain": [
       "10820"
      ]
     },
     "execution_count": 8,
     "metadata": {},
     "output_type": "execute_result"
    }
   ],
   "source": [
    "len(encoder_set)"
   ]
  },
  {
   "cell_type": "markdown",
   "metadata": {},
   "source": [
    "# Encoder - Decoder"
   ]
  },
  {
   "cell_type": "code",
   "execution_count": 27,
   "metadata": {
    "id": "vRR5eksOs07x"
   },
   "outputs": [],
   "source": [
    "class GVAE(nn.Module):\n",
    "    def __init__(self, encoder_neurons, latent_size, decoder_neurons, decoder_size):\n",
    "        super(GVAE, self).__init__()\n",
    "        feature_size=encoder_set[0].x.shape[1]\n",
    "        self.encoder_embedding_size = encoder_neurons\n",
    "        edge_dim = 11\n",
    "        self.latent_embedding_size = latent_size\n",
    "        self.decoder_hidden_neurons = decoder_neurons\n",
    "        decoder_size = decoder_size\n",
    "\n",
    "        # Encoder layers\n",
    "        # self.conv1 = GCNConv(feature_size, self.encoder_embedding_size)\n",
    "        self.conv1 = GATv2Conv(feature_size, self.encoder_embedding_size,\n",
    "                             edge_dim=edge_dim, heads=3, concat=False, beta=True)\n",
    "        self.bn1 = BatchNorm(self.encoder_embedding_size)\n",
    "        self.conv2 = GATv2Conv(self.encoder_embedding_size, self.encoder_embedding_size,\n",
    "                             edge_dim=edge_dim, heads=3, concat=False, beta=True)\n",
    "        self.bn2 = BatchNorm(self.encoder_embedding_size)\n",
    "        self.conv3 = GATv2Conv(self.encoder_embedding_size, self.encoder_embedding_size,\n",
    "                             edge_dim=edge_dim, heads=3, concat=False, beta=True)\n",
    "        self.bn3 = BatchNorm(self.encoder_embedding_size)\n",
    "        \n",
    "\n",
    "        # Latent transform layers\n",
    "        self.mu_transform = GATv2Conv(self.encoder_embedding_size, self.latent_embedding_size, \n",
    "                                   heads=3, concat=False, beta=True, edge_dim=edge_dim)\n",
    "        self.logvar_transform = GATv2Conv(self.encoder_embedding_size, self.latent_embedding_size, \n",
    "                                       heads=3, concat=False, beta=True, edge_dim=edge_dim)\n",
    "        \n",
    "\n",
    "        \n",
    "        self.decoder_dense_2 = Linear(self.latent_embedding_size*2, decoder_size)\n",
    "        self.decoder_bn_2 = BatchNorm1d(decoder_size)\n",
    "        self.decoder_dense_3 = Linear(self.latent_embedding_size*2, decoder_size)\n",
    "        self.decoder_bn_3 = BatchNorm1d(decoder_size)\n",
    "        self.decoder_dense_4 = Linear(decoder_size, 1)\n",
    "        \n",
    "\n",
    "    def encode(self, x, edge_attr, edge_index, batch_index):\n",
    "        # GNN layers\n",
    "        x = self.conv1(x, edge_index, edge_attr).relu()\n",
    "        x = self.bn1(x)\n",
    "        x = self.conv2(x, edge_index, edge_attr).relu()\n",
    "        x = self.bn2(x)\n",
    "        x = self.conv3(x, edge_index, edge_attr).relu()\n",
    "        x = self.bn3(x)\n",
    "        \n",
    "        # Latent transform layers\n",
    "        mu = self.mu_transform(x, edge_index, edge_attr)\n",
    "        logvar = self.logvar_transform(x, edge_index, edge_attr)\n",
    "        return mu, logvar\n",
    "\n",
    "\n",
    "    def decode(self, z, batch_index):\n",
    "        \"\"\"\n",
    "        Takes n latent vectors (one per node) and decodes them\n",
    "        into the upper triangular part of their adjacency matrix.\n",
    "        \"\"\"\n",
    "        inputs = []\n",
    "\n",
    "        # Iterate over molecules in batch\n",
    "        for graph_id in torch.unique(batch_index):\n",
    "            graph_mask = torch.eq(batch_index, graph_id)\n",
    "            graph_z = z[graph_mask]\n",
    "\n",
    "            # Get indices for triangular upper part of adjacency matrix\n",
    "            # graph_z.shape[0] = number of nodes | triu_indices()=gives edge_indices for the graph\n",
    "            edge_indices = torch.triu_indices(graph_z.shape[0], graph_z.shape[0], offset=1)\n",
    "\n",
    "            # Repeat indices to match dim of latent codes\n",
    "            dim = self.latent_embedding_size\n",
    "            source_indices = torch.reshape(edge_indices[0].repeat_interleave(dim), (edge_indices.shape[1], dim))\n",
    "            target_indices = torch.reshape(edge_indices[1].repeat_interleave(dim), (edge_indices.shape[1], dim))\n",
    "\n",
    "            # Gather features=sampled latent vectors\n",
    "            sources_feats = torch.gather(graph_z, 0, source_indices.to(device))\n",
    "            target_feats = torch.gather(graph_z, 0, target_indices.to(device))\n",
    "\n",
    "            # Concatenate inputs of all source and target nodes\n",
    "            # graph_input shape = [no of pairs of nodes, dimension of each pair]\n",
    "            graph_inputs = torch.cat([sources_feats, target_feats], axis=1)\n",
    "            inputs.append(graph_inputs)\n",
    "\n",
    "        # Concatenate all inputs of all graphs in the batch\n",
    "        inputs = torch.cat(inputs)\n",
    "\n",
    "        x = self.decoder_dense_2(inputs).relu()\n",
    "        x = self.decoder_bn_2(x)\n",
    "        x = self.decoder_dense_3(inputs).relu()\n",
    "        x = self.decoder_bn_3(x)\n",
    "        edge_logits = self.decoder_dense_4(x)\n",
    "   \n",
    "\n",
    "        return edge_logits\n",
    "\n",
    "\n",
    "    def reparameterize(self, mu, logvar):\n",
    "        \"\"\"\n",
    "        The reparametrization trick is required to \n",
    "        backpropagate through the network.\n",
    "        We cannot backpropagate through a \"sampled\"\n",
    "        node as it is not deterministic.\n",
    "        The trick is to separate the randomness\n",
    "        from the network.\n",
    "        \"\"\"\n",
    "        if self.training:\n",
    "            # Get standard deviation\n",
    "            std = torch.exp(logvar)\n",
    "            # Returns random numbers from a normal distribution\n",
    "            eps = torch.randn_like(std)\n",
    "            # Return sampled values\n",
    "            return eps.mul(std).add_(mu)\n",
    "        else:\n",
    "            return mu\n",
    "\n",
    "    def forward(self, x, edge_attr, edge_index, batch_index):\n",
    "        # Encode the molecule\n",
    "        mu, logvar = self.encode(x, edge_attr, edge_index, batch_index)\n",
    "        # Sample latent vector (per atom)\n",
    "        z = self.reparameterize(mu, logvar)\n",
    "        # Decode latent vector into original molecule\n",
    "        triu_logits = self.decode(z, batch_index) #output=triangular upper part of the matrix\n",
    "\n",
    "        return triu_logits,mu,logvar\n",
    "\n"
   ]
  },
  {
   "cell_type": "code",
   "execution_count": 18,
   "metadata": {
    "colab": {
     "base_uri": "https://localhost:8080/"
    },
    "id": "1pvqb7ZZw-7m",
    "outputId": "b7804fad-a18f-460b-91e5-d635d809feca"
   },
   "outputs": [
    {
     "name": "stdout",
     "output_type": "stream",
     "text": [
      "GVAE(\n",
      "  (conv1): GATv2Conv(30, 119, heads=3)\n",
      "  (bn1): BatchNorm(119)\n",
      "  (conv2): GATv2Conv(119, 119, heads=3)\n",
      "  (bn2): BatchNorm(119)\n",
      "  (conv3): GATv2Conv(119, 119, heads=3)\n",
      "  (bn3): BatchNorm(119)\n",
      "  (mu_transform): GATv2Conv(119, 9, heads=3)\n",
      "  (logvar_transform): GATv2Conv(119, 9, heads=3)\n",
      "  (decoder_dense_2): Linear(in_features=18, out_features=113, bias=True)\n",
      "  (decoder_bn_2): BatchNorm1d(113, eps=1e-05, momentum=0.1, affine=True, track_running_stats=True)\n",
      "  (decoder_dense_3): Linear(in_features=18, out_features=113, bias=True)\n",
      "  (decoder_bn_3): BatchNorm1d(113, eps=1e-05, momentum=0.1, affine=True, track_running_stats=True)\n",
      "  (decoder_dense_4): Linear(in_features=113, out_features=1, bias=True)\n",
      ")\n",
      "Number of parameters:  225903\n"
     ]
    }
   ],
   "source": [
    "model = GVAE(encoder_neurons=119, latent_size=9, decoder_neurons=137, decoder_size=113)\n",
    "print(model)\n",
    "print(\"Number of parameters: \", sum(p.numel() for p in model.parameters()))"
   ]
  },
  {
   "cell_type": "code",
   "execution_count": 19,
   "metadata": {
    "id": "AA-p2HHsLPBG"
   },
   "outputs": [],
   "source": [
    "from torch_geometric.data import DataLoader\n",
    "\n",
    "data_size = len(encoder_set)\n",
    "NUM_GRAPHS_PER_BATCH = 64\n",
    "frac = 0.8\n",
    "train_loader = DataLoader(encoder_set[:int(data_size * frac)], \n",
    "                    batch_size=NUM_GRAPHS_PER_BATCH, shuffle=True)\n",
    "test_loader = DataLoader(encoder_set[int(data_size * frac):], \n",
    "                         batch_size=NUM_GRAPHS_PER_BATCH, shuffle=True)\n",
    "\n",
    "\n",
    "model = model.to(device)\n"
   ]
  },
  {
   "cell_type": "markdown",
   "metadata": {},
   "source": [
    "#### Loss Function"
   ]
  },
  {
   "cell_type": "code",
   "execution_count": 20,
   "metadata": {
    "id": "Bs7VvcwZgI11"
   },
   "outputs": [],
   "source": [
    "from torch_geometric.utils import to_dense_adj\n",
    "\n",
    "def kl_loss(mu=None, logstd=None):\n",
    "    \"\"\"\n",
    "    Closed formula of the KL divergence for normal distributions\n",
    "    \"\"\"\n",
    "    MAX_LOGSTD = 10\n",
    "    logstd =  logstd.clamp(max=MAX_LOGSTD)\n",
    "    kl_div = -0.5 * torch.mean(torch.sum(1 + 2 * logstd - mu**2 - logstd.exp()**2, dim=1))\n",
    "\n",
    "    # Limit numeric errors\n",
    "    kl_div = kl_div.clamp(max=1000)\n",
    "    return kl_div\n",
    "\n",
    "def slice_graph_targets(graph_id, batch_targets, batch_index):\n",
    "    # Create mask for nodes of this graph id\n",
    "    graph_mask = torch.eq(batch_index, graph_id)\n",
    "    # Row slice and column slice batch targets to get graph targets\n",
    "    graph_targets = batch_targets[graph_mask][:, graph_mask]\n",
    "    # Get triangular upper part of adjacency matrix for targets\n",
    "    triu_indices = torch.triu_indices(graph_targets.shape[0], graph_targets.shape[0], offset=1)\n",
    "    triu_mask = torch.squeeze(to_dense_adj(triu_indices)).bool()\n",
    "    return graph_targets[triu_mask]\n",
    "\n",
    "def slice_graph_predictions(triu_logits, graph_triu_size, start_point):\n",
    "\n",
    "    graph_logits_triu = torch.squeeze(triu_logits[start_point:start_point + graph_triu_size])  \n",
    "    return graph_logits_triu\n",
    "\n",
    "def slice_node_features(graph_id, node_features, batch_index):\n",
    "    # Create mask for nodes of this graph id\n",
    "    graph_mask = torch.eq(batch_index, graph_id)\n",
    "    graph_node_features = node_features[graph_mask]\n",
    "    return graph_node_features\n",
    "\n",
    "  \n",
    "\n",
    "def gvae_loss(triu_logits, edge_index, mu, logvar, batch_index, kl_beta):\n",
    "    \"\"\"\n",
    "    Calculates a weighted ELBO loss for a batch of graphs for the graph\n",
    "    variational autoencoder model.\n",
    "    \"\"\"\n",
    "    # Convert target edge index to dense adjacency matrix\n",
    "    batch_targets = torch.squeeze(to_dense_adj(edge_index))\n",
    "\n",
    "    # Reconstruction loss per graph\n",
    "    batch_recon_loss = []\n",
    "    batch_node_counter = 0\n",
    "\n",
    "    # Loop over graphs in this batch\n",
    "    for graph_id in torch.unique(batch_index):\n",
    "        # Get upper triangular targets for this graph from the whole batch\n",
    "        graph_targets_triu = slice_graph_targets(graph_id, \n",
    "                                                batch_targets, \n",
    "                                                batch_index)\n",
    "\n",
    "        # Get upper triangular predictions for this graph from the whole batch\n",
    "        graph_predictions_triu = slice_graph_predictions(triu_logits, \n",
    "                                                        graph_targets_triu.shape[0], \n",
    "                                                        batch_node_counter)\n",
    "        \n",
    "        # Update counter to the index of the next graph\n",
    "        batch_node_counter = batch_node_counter + graph_targets_triu.shape[0]\n",
    "\n",
    "        # Calculate edge-weighted binary cross entropy\n",
    "        weight = graph_targets_triu.shape[0]/sum(graph_targets_triu)\n",
    "        bce = torch.nn.BCEWithLogitsLoss(pos_weight=weight).to(device)\n",
    "        graph_recon_loss = bce(graph_predictions_triu.view(-1), graph_targets_triu.view(-1))\n",
    "        batch_recon_loss.append(graph_recon_loss)   \n",
    "\n",
    "    # Take average of all losses\n",
    "    num_graphs = torch.unique(batch_index).shape[0]\n",
    "    batch_recon_loss = sum(batch_recon_loss) / num_graphs\n",
    "    \n",
    "    # KL Divergence\n",
    "    kl_divergence = kl_loss(mu, logvar)\n",
    "\n",
    "    return batch_recon_loss + kl_beta * kl_divergence, kl_divergence\n",
    "\n",
    "\n",
    "def reconstruction_accuracy(triu_logits, edge_index, batch_index, node_features):\n",
    "    # Convert edge index to adjacency matrix\n",
    "    batch_targets = torch.squeeze(to_dense_adj(edge_index))\n",
    "    # Store target trius\n",
    "    batch_targets_triu = []\n",
    "    # Iterate over batch and collect each of the trius\n",
    "    batch_node_counter = 0\n",
    "    num_recon = 0\n",
    "    for graph_id in torch.unique(batch_index):\n",
    "        # Get triu parts for this graph\n",
    "        graph_targets_triu = slice_graph_targets(graph_id, \n",
    "                                                batch_targets, \n",
    "                                                batch_index)\n",
    "        graph_predictions_triu = slice_graph_predictions(triu_logits, \n",
    "                                                        graph_targets_triu.shape[0], \n",
    "                                                        batch_node_counter)\n",
    "\n",
    "        # Update counter to the index of the next graph\n",
    "        batch_node_counter = batch_node_counter + graph_targets_triu.shape[0]\n",
    "\n",
    "        # Slice node features of this batch\n",
    "        graph_node_features = slice_node_features(graph_id, node_features, batch_index)\n",
    "\n",
    "        # Check if graph is successfully reconstructed\n",
    "        num_nodes = sum(torch.eq(batch_index, graph_id))\n",
    "      \n",
    "        batch_targets_triu.append(graph_targets_triu)\n",
    "        \n",
    "    batch_targets_triu = torch.cat(batch_targets_triu).detach()\n",
    "    triu_discrete = torch.squeeze(torch.tensor(torch.sigmoid(triu_logits) > 0.5, dtype=torch.int32))\n",
    "    acc = torch.true_divide(torch.sum(batch_targets_triu==triu_discrete), batch_targets_triu.shape[0]) \n",
    "    return acc.detach().cpu().numpy(), num_recon\n",
    "    \n",
    "\n",
    "\n"
   ]
  },
  {
   "cell_type": "code",
   "execution_count": 21,
   "metadata": {
    "id": "HPQGg31JLT0f"
   },
   "outputs": [],
   "source": [
    "loss_fn = gvae_loss\n",
    "kl_beta = 0.005"
   ]
  },
  {
   "cell_type": "code",
   "execution_count": 22,
   "metadata": {
    "id": "NlrCct9vLkA4"
   },
   "outputs": [],
   "source": [
    "def run_one_epoch(data_loader, type, epoch, kl_beta):\n",
    "    # Store per batch loss and accuracy \n",
    "    all_losses = []\n",
    "    all_accs = []\n",
    "    optimizer = torch.optim.Adam(model.parameters(), lr=0.002)\n",
    "\n",
    "    # Iterate over data loader\n",
    "    for i, batch in enumerate(tqdm(data_loader)):\n",
    "        # Some of the data points have invalid adjacency matrices \n",
    "        try:\n",
    "            # Use GPU\n",
    "            batch.to(device)  \n",
    "            # Reset gradients\n",
    "            optimizer.zero_grad() \n",
    "            # Call model\n",
    "            triu_logits, mu, logvar = model(batch.x.float(), \n",
    "                                            batch.edge_attr.float(),\n",
    "                                            batch.edge_index, \n",
    "                                            batch.batch) \n",
    "            # Calculate loss and backpropagate\n",
    "            loss, kl_div = loss_fn(triu_logits, batch.edge_index, mu, logvar, batch.batch, kl_beta)\n",
    "            if type == \"Train\":\n",
    "                loss.backward()  \n",
    "                optimizer.step()  \n",
    "            # Calculate metrics\n",
    "            acc = reconstruction_accuracy(triu_logits, batch.edge_index, batch.batch, batch.x.float())\n",
    "            \n",
    "\n",
    "            # Store loss and metrics\n",
    "            all_losses.append(loss.detach().cpu().numpy())\n",
    "            all_accs.append(acc)\n",
    "            \n",
    "            \n",
    "\n",
    "        except IndexError as error:\n",
    "            # For a few graphs the edge information is not correct\n",
    "            # Simply skip the batch containing those\n",
    "            print(\"Error: \", error)\n",
    "    \n",
    "    print(f\"{type} epoch {epoch} loss: \", np.array(all_losses).mean())\n",
    "    print(f\"{type} epoch {epoch} accuracy: \", np.array(all_accs).mean())\n",
    "   "
   ]
  },
  {
   "cell_type": "code",
   "execution_count": 23,
   "metadata": {
    "colab": {
     "base_uri": "https://localhost:8080/"
    },
    "id": "2vXLu09qLsXb",
    "outputId": "dbb10db7-d587-4bc6-8c51-fa98fc7f61bb"
   },
   "outputs": [
    {
     "name": "stderr",
     "output_type": "stream",
     "text": [
      "100%|████████████████████████████████████████████████████████████████████████████████| 136/136 [06:02<00:00,  2.66s/it]\n",
      "  0%|                                                                                           | 0/34 [00:00<?, ?it/s]"
     ]
    },
    {
     "name": "stdout",
     "output_type": "stream",
     "text": [
      "Train epoch 0 loss:  0.96639836\n",
      "Train epoch 0 accuracy:  0.3099409954293686\n",
      "test epoch...\n"
     ]
    },
    {
     "name": "stderr",
     "output_type": "stream",
     "text": [
      "100%|██████████████████████████████████████████████████████████████████████████████████| 34/34 [01:14<00:00,  2.20s/it]\n",
      "  0%|                                                                                          | 0/136 [00:00<?, ?it/s]"
     ]
    },
    {
     "name": "stdout",
     "output_type": "stream",
     "text": [
      "Test epoch 0 loss:  0.7102569\n",
      "Test epoch 0 accuracy:  0.38850770014173847\n"
     ]
    },
    {
     "name": "stderr",
     "output_type": "stream",
     "text": [
      "100%|████████████████████████████████████████████████████████████████████████████████| 136/136 [06:03<00:00,  2.67s/it]\n",
      "  0%|                                                                                          | 0/136 [00:00<?, ?it/s]"
     ]
    },
    {
     "name": "stdout",
     "output_type": "stream",
     "text": [
      "Train epoch 1 loss:  0.5901941\n",
      "Train epoch 1 accuracy:  0.4159241171882433\n"
     ]
    },
    {
     "name": "stderr",
     "output_type": "stream",
     "text": [
      "100%|████████████████████████████████████████████████████████████████████████████████| 136/136 [05:36<00:00,  2.48s/it]\n",
      "  0%|                                                                                          | 0/136 [00:00<?, ?it/s]"
     ]
    },
    {
     "name": "stdout",
     "output_type": "stream",
     "text": [
      "Train epoch 2 loss:  0.48046467\n",
      "Train epoch 2 accuracy:  0.43866222943453226\n"
     ]
    },
    {
     "name": "stderr",
     "output_type": "stream",
     "text": [
      "100%|████████████████████████████████████████████████████████████████████████████████| 136/136 [05:29<00:00,  2.42s/it]\n",
      "  0%|                                                                                          | 0/136 [00:00<?, ?it/s]"
     ]
    },
    {
     "name": "stdout",
     "output_type": "stream",
     "text": [
      "Train epoch 3 loss:  0.43348518\n",
      "Train epoch 3 accuracy:  0.44912288776215387\n"
     ]
    },
    {
     "name": "stderr",
     "output_type": "stream",
     "text": [
      " 91%|████████████████████████████████████████████████████████████████████████▉       | 124/136 [05:13<00:27,  2.27s/it]"
     ]
    },
    {
     "name": "stdout",
     "output_type": "stream",
     "text": [
      "Error:  The shape of the mask [1710] at index 0 does not match the shape of the indexed tensor [1707, 1707] at index 0\n"
     ]
    },
    {
     "name": "stderr",
     "output_type": "stream",
     "text": [
      "100%|████████████████████████████████████████████████████████████████████████████████| 136/136 [05:42<00:00,  2.52s/it]\n",
      "  0%|                                                                                          | 0/136 [00:00<?, ?it/s]"
     ]
    },
    {
     "name": "stdout",
     "output_type": "stream",
     "text": [
      "Train epoch 4 loss:  0.4007789\n",
      "Train epoch 4 accuracy:  0.4532673403068825\n"
     ]
    },
    {
     "name": "stderr",
     "output_type": "stream",
     "text": [
      "100%|████████████████████████████████████████████████████████████████████████████████| 136/136 [05:32<00:00,  2.45s/it]\n",
      "  0%|                                                                                           | 0/34 [00:00<?, ?it/s]"
     ]
    },
    {
     "name": "stdout",
     "output_type": "stream",
     "text": [
      "Train epoch 5 loss:  0.3795479\n",
      "Train epoch 5 accuracy:  0.45758598911411624\n",
      "test epoch...\n"
     ]
    },
    {
     "name": "stderr",
     "output_type": "stream",
     "text": [
      "100%|██████████████████████████████████████████████████████████████████████████████████| 34/34 [01:16<00:00,  2.26s/it]\n",
      "  0%|                                                                                          | 0/136 [00:00<?, ?it/s]"
     ]
    },
    {
     "name": "stdout",
     "output_type": "stream",
     "text": [
      "Test epoch 5 loss:  0.3700758\n",
      "Test epoch 5 accuracy:  0.45526853729696837\n"
     ]
    },
    {
     "name": "stderr",
     "output_type": "stream",
     "text": [
      " 95%|███████████████████████████████████████████████████████████████████████████▉    | 129/136 [05:28<00:14,  2.12s/it]"
     ]
    },
    {
     "name": "stdout",
     "output_type": "stream",
     "text": [
      "Error:  The shape of the mask [1761] at index 0 does not match the shape of the indexed tensor [1735, 1735] at index 0\n"
     ]
    },
    {
     "name": "stderr",
     "output_type": "stream",
     "text": [
      "100%|████████████████████████████████████████████████████████████████████████████████| 136/136 [05:43<00:00,  2.52s/it]\n",
      "  0%|                                                                                          | 0/136 [00:00<?, ?it/s]"
     ]
    },
    {
     "name": "stdout",
     "output_type": "stream",
     "text": [
      "Train epoch 6 loss:  0.36032957\n",
      "Train epoch 6 accuracy:  0.4598825454711914\n"
     ]
    },
    {
     "name": "stderr",
     "output_type": "stream",
     "text": [
      " 29%|███████████████████████▊                                                         | 40/136 [01:26<02:47,  1.75s/it]"
     ]
    },
    {
     "name": "stdout",
     "output_type": "stream",
     "text": [
      "Error:  The shape of the mask [1604] at index 0 does not match the shape of the indexed tensor [1601, 1601] at index 0\n"
     ]
    },
    {
     "name": "stderr",
     "output_type": "stream",
     "text": [
      "100%|████████████████████████████████████████████████████████████████████████████████| 136/136 [05:25<00:00,  2.40s/it]\n",
      "  0%|                                                                                          | 0/136 [00:00<?, ?it/s]"
     ]
    },
    {
     "name": "stdout",
     "output_type": "stream",
     "text": [
      "Train epoch 7 loss:  0.39829898\n",
      "Train epoch 7 accuracy:  0.4592210864579236\n"
     ]
    },
    {
     "name": "stderr",
     "output_type": "stream",
     "text": [
      "100%|████████████████████████████████████████████████████████████████████████████████| 136/136 [05:27<00:00,  2.41s/it]\n",
      "  0%|                                                                                          | 0/136 [00:00<?, ?it/s]"
     ]
    },
    {
     "name": "stdout",
     "output_type": "stream",
     "text": [
      "Train epoch 8 loss:  0.34610894\n",
      "Train epoch 8 accuracy:  0.4618816005394739\n"
     ]
    },
    {
     "name": "stderr",
     "output_type": "stream",
     "text": [
      "100%|████████████████████████████████████████████████████████████████████████████████| 136/136 [05:27<00:00,  2.41s/it]"
     ]
    },
    {
     "name": "stdout",
     "output_type": "stream",
     "text": [
      "Train epoch 9 loss:  0.32426453\n",
      "Train epoch 9 accuracy:  0.46434083800105486\n"
     ]
    },
    {
     "name": "stderr",
     "output_type": "stream",
     "text": [
      "\n"
     ]
    }
   ],
   "source": [
    "for epoch in range(10): \n",
    "  model.train()\n",
    "  run_one_epoch(train_loader, type=\"Train\", epoch=epoch, kl_beta=kl_beta)\n",
    "  if epoch % 5 == 0:\n",
    "      print(\"test epoch...\")\n",
    "      model.eval()\n",
    "      run_one_epoch(test_loader, type=\"Test\", epoch=epoch, kl_beta=kl_beta)"
   ]
  },
  {
   "cell_type": "code",
   "execution_count": 24,
   "metadata": {},
   "outputs": [],
   "source": [
    "# torch.save(model.state_dict(),\"model_GAT.pth\")"
   ]
  },
  {
   "cell_type": "code",
   "execution_count": 25,
   "metadata": {
    "colab": {
     "base_uri": "https://localhost:8080/",
     "height": 1000
    },
    "id": "C2Vu40geQ4Qz",
    "outputId": "c6f3f037-7a1c-43e6-97a7-de9bd66eed65"
   },
   "outputs": [
    {
     "data": {
      "text/plain": [
       "GVAE(\n",
       "  (conv1): GATv2Conv(30, 119, heads=3)\n",
       "  (bn1): BatchNorm(119)\n",
       "  (conv2): GATv2Conv(119, 119, heads=3)\n",
       "  (bn2): BatchNorm(119)\n",
       "  (conv3): GATv2Conv(119, 119, heads=3)\n",
       "  (bn3): BatchNorm(119)\n",
       "  (mu_transform): GATv2Conv(119, 9, heads=3)\n",
       "  (logvar_transform): GATv2Conv(119, 9, heads=3)\n",
       "  (decoder_dense_2): Linear(in_features=18, out_features=113, bias=True)\n",
       "  (decoder_bn_2): BatchNorm1d(113, eps=1e-05, momentum=0.1, affine=True, track_running_stats=True)\n",
       "  (decoder_dense_3): Linear(in_features=18, out_features=113, bias=True)\n",
       "  (decoder_bn_3): BatchNorm1d(113, eps=1e-05, momentum=0.1, affine=True, track_running_stats=True)\n",
       "  (decoder_dense_4): Linear(in_features=113, out_features=1, bias=True)\n",
       ")"
      ]
     },
     "execution_count": 25,
     "metadata": {},
     "output_type": "execute_result"
    }
   ],
   "source": [
    "filename = \"model_GAT.pth\"\n",
    "model = GVAE(encoder_neurons=119, latent_size=9, decoder_neurons=137, decoder_size=113)\n",
    "model.load_state_dict(torch.load(filename))\n",
    "model.eval()\n",
    "model.to(device)"
   ]
  },
  {
   "cell_type": "code",
   "execution_count": 29,
   "metadata": {
    "id": "c0ztMzzL_rle"
   },
   "outputs": [
    {
     "name": "stdout",
     "output_type": "stream",
     "text": [
      "done!!!\n"
     ]
    }
   ],
   "source": [
    "NUM_GRAPHS_PER_BATCH = 1\n",
    "loader = DataLoader(encoder_set, \n",
    "                    batch_size=NUM_GRAPHS_PER_BATCH, shuffle=False)\n",
    "\n",
    "dictval = {}\n",
    "for batch in loader : \n",
    "  batch.to(device)\n",
    "  decode_pred,mu,logvar = model(batch.x.float(), \n",
    "                            batch.edge_attr.float(),\n",
    "                            batch.edge_index, \n",
    "                            batch.batch) \n",
    "  \n",
    "  \n",
    "  dictval[batch.id[0]] = [mu]\n",
    "  \n",
    "print(\"done!!!\")      "
   ]
  },
  {
   "cell_type": "markdown",
   "metadata": {},
   "source": [
    "### Extracting the latent representation for each drug pair"
   ]
  },
  {
   "cell_type": "code",
   "execution_count": 31,
   "metadata": {
    "colab": {
     "base_uri": "https://localhost:8080/",
     "height": 287
    },
    "id": "zpC4B4TsfPeL",
    "outputId": "51136a94-8dff-43b5-837e-41ed99f4def2"
   },
   "outputs": [
    {
     "data": {
      "text/html": [
       "<div>\n",
       "<style scoped>\n",
       "    .dataframe tbody tr th:only-of-type {\n",
       "        vertical-align: middle;\n",
       "    }\n",
       "\n",
       "    .dataframe tbody tr th {\n",
       "        vertical-align: top;\n",
       "    }\n",
       "\n",
       "    .dataframe thead th {\n",
       "        text-align: right;\n",
       "    }\n",
       "</style>\n",
       "<table border=\"1\" class=\"dataframe\">\n",
       "  <thead>\n",
       "    <tr style=\"text-align: right;\">\n",
       "      <th></th>\n",
       "      <th>Unnamed: 0</th>\n",
       "      <th>Drug1_ID</th>\n",
       "      <th>Drug1_SMILES</th>\n",
       "      <th>Drug2_ID</th>\n",
       "      <th>Drug2_SMILES</th>\n",
       "      <th>label</th>\n",
       "    </tr>\n",
       "  </thead>\n",
       "  <tbody>\n",
       "    <tr>\n",
       "      <th>0</th>\n",
       "      <td>0</td>\n",
       "      <td>DB00706</td>\n",
       "      <td>CCOc1ccccc1OCCN[C@H](C)Cc1ccc(OC)c(S(N)(=O)=O)c1</td>\n",
       "      <td>DB01023</td>\n",
       "      <td>CCOC(=O)C1=C(C)NC(C)=C(C(=O)OC)C1c1cccc(Cl)c1Cl</td>\n",
       "      <td>1.0</td>\n",
       "    </tr>\n",
       "    <tr>\n",
       "      <th>1</th>\n",
       "      <td>1</td>\n",
       "      <td>3849.0</td>\n",
       "      <td>C[C@@H](Oc1ccc2[nH]nc(/C=C/c3cnn(CCO)c3)c2c1)c...</td>\n",
       "      <td>3515.0</td>\n",
       "      <td>COc1ccc2c(c1)c(CC(=O)O)c(C)n2C(=O)c1ccc(I)cc1</td>\n",
       "      <td>0.0</td>\n",
       "    </tr>\n",
       "    <tr>\n",
       "      <th>2</th>\n",
       "      <td>2</td>\n",
       "      <td>6380.0</td>\n",
       "      <td>O=P(O)(O)OCCCc1c[nH]c2ccccc12</td>\n",
       "      <td>8290.0</td>\n",
       "      <td>N[C@@H](c1ccccc1)c1ccc(-c2ncnc3[nH]cnc23)cc1</td>\n",
       "      <td>0.0</td>\n",
       "    </tr>\n",
       "    <tr>\n",
       "      <th>3</th>\n",
       "      <td>3</td>\n",
       "      <td>7947.0</td>\n",
       "      <td>CCCC(=O)O[C@]1(C(=O)COC(C)=O)CC[C@H]2[C@@H]3C[...</td>\n",
       "      <td>3010.0</td>\n",
       "      <td>CNCCc1ccccn1</td>\n",
       "      <td>0.0</td>\n",
       "    </tr>\n",
       "    <tr>\n",
       "      <th>4</th>\n",
       "      <td>4</td>\n",
       "      <td>DB00802</td>\n",
       "      <td>CCC(=O)N(c1ccccc1)C1(COC)CCN(CCn2nnn(CC)c2=O)CC1</td>\n",
       "      <td>DB00872</td>\n",
       "      <td>Cc1nc2c([nH]1)CCN(C(=O)c1ccc(NC(=O)c3ccccc3-c3...</td>\n",
       "      <td>1.0</td>\n",
       "    </tr>\n",
       "  </tbody>\n",
       "</table>\n",
       "</div>"
      ],
      "text/plain": [
       "   Unnamed: 0 Drug1_ID                                       Drug1_SMILES  \\\n",
       "0           0  DB00706   CCOc1ccccc1OCCN[C@H](C)Cc1ccc(OC)c(S(N)(=O)=O)c1   \n",
       "1           1   3849.0  C[C@@H](Oc1ccc2[nH]nc(/C=C/c3cnn(CCO)c3)c2c1)c...   \n",
       "2           2   6380.0                      O=P(O)(O)OCCCc1c[nH]c2ccccc12   \n",
       "3           3   7947.0  CCCC(=O)O[C@]1(C(=O)COC(C)=O)CC[C@H]2[C@@H]3C[...   \n",
       "4           4  DB00802   CCC(=O)N(c1ccccc1)C1(COC)CCN(CCn2nnn(CC)c2=O)CC1   \n",
       "\n",
       "  Drug2_ID                                       Drug2_SMILES  label  \n",
       "0  DB01023    CCOC(=O)C1=C(C)NC(C)=C(C(=O)OC)C1c1cccc(Cl)c1Cl    1.0  \n",
       "1   3515.0      COc1ccc2c(c1)c(CC(=O)O)c(C)n2C(=O)c1ccc(I)cc1    0.0  \n",
       "2   8290.0       N[C@@H](c1ccccc1)c1ccc(-c2ncnc3[nH]cnc23)cc1    0.0  \n",
       "3   3010.0                                       CNCCc1ccccn1    0.0  \n",
       "4  DB00872  Cc1nc2c([nH]1)CCN(C(=O)c1ccc(NC(=O)c3ccccc3-c3...    1.0  "
      ]
     },
     "execution_count": 31,
     "metadata": {},
     "output_type": "execute_result"
    }
   ],
   "source": [
    "temp = pd.read_csv(\"biosnap_train.csv\")\n",
    "temp.head()"
   ]
  },
  {
   "cell_type": "code",
   "execution_count": 32,
   "metadata": {
    "id": "brgpfFtjwoge"
   },
   "outputs": [],
   "source": [
    "df = temp"
   ]
  },
  {
   "cell_type": "code",
   "execution_count": 33,
   "metadata": {
    "colab": {
     "base_uri": "https://localhost:8080/"
    },
    "id": "ZJd9aFSUJueh",
    "outputId": "f8fb2edb-393c-4efb-cbbc-6e1ddeb23725"
   },
   "outputs": [
    {
     "data": {
      "text/plain": [
       "2"
      ]
     },
     "execution_count": 33,
     "metadata": {},
     "output_type": "execute_result"
    }
   ],
   "source": [
    "n_classes = len(df['label'].unique())\n",
    "n_classes"
   ]
  },
  {
   "cell_type": "code",
   "execution_count": 34,
   "metadata": {
    "colab": {
     "base_uri": "https://localhost:8080/"
    },
    "id": "sdkRTFlGRZ2D",
    "outputId": "ff7acc6b-abc1-4cfe-b909-f0cd3540d97f"
   },
   "outputs": [
    {
     "data": {
      "text/plain": [
       "1.0    33243\n",
       "0.0    33189\n",
       "Name: label, dtype: int64"
      ]
     },
     "execution_count": 34,
     "metadata": {},
     "output_type": "execute_result"
    }
   ],
   "source": [
    "df['label'].value_counts()"
   ]
  },
  {
   "cell_type": "code",
   "execution_count": 35,
   "metadata": {
    "id": "M6W3a-xHKkuf"
   },
   "outputs": [],
   "source": [
    "dftrain = df\n",
    "dftest = pd.read_csv(\"biosnap_test.csv\")"
   ]
  },
  {
   "cell_type": "code",
   "execution_count": 36,
   "metadata": {
    "id": "kO1HZhy2DcDZ"
   },
   "outputs": [],
   "source": [
    "tempdf = temp.append(dftest)"
   ]
  },
  {
   "cell_type": "code",
   "execution_count": 37,
   "metadata": {
    "id": "556KMzM3DxLP"
   },
   "outputs": [],
   "source": [
    "tempdf.reset_index(inplace=True)"
   ]
  },
  {
   "cell_type": "code",
   "execution_count": 38,
   "metadata": {
    "id": "XOgGTt_sD877"
   },
   "outputs": [],
   "source": [
    "tempdf['Unnamed: 0'] = range(len(tempdf))\n",
    "tempdf.drop(columns='index', inplace=True)"
   ]
  },
  {
   "cell_type": "code",
   "execution_count": 39,
   "metadata": {
    "colab": {
     "base_uri": "https://localhost:8080/",
     "height": 340
    },
    "id": "vgoOE2xDD3lK",
    "outputId": "a078508f-e53a-4324-eb9e-9f9cab996a6c"
   },
   "outputs": [
    {
     "data": {
      "text/html": [
       "<div>\n",
       "<style scoped>\n",
       "    .dataframe tbody tr th:only-of-type {\n",
       "        vertical-align: middle;\n",
       "    }\n",
       "\n",
       "    .dataframe tbody tr th {\n",
       "        vertical-align: top;\n",
       "    }\n",
       "\n",
       "    .dataframe thead th {\n",
       "        text-align: right;\n",
       "    }\n",
       "</style>\n",
       "<table border=\"1\" class=\"dataframe\">\n",
       "  <thead>\n",
       "    <tr style=\"text-align: right;\">\n",
       "      <th></th>\n",
       "      <th>Unnamed: 0</th>\n",
       "      <th>Drug1_ID</th>\n",
       "      <th>Drug1_SMILES</th>\n",
       "      <th>Drug2_ID</th>\n",
       "      <th>Drug2_SMILES</th>\n",
       "      <th>label</th>\n",
       "    </tr>\n",
       "  </thead>\n",
       "  <tbody>\n",
       "    <tr>\n",
       "      <th>83035</th>\n",
       "      <td>83035</td>\n",
       "      <td>DB00564</td>\n",
       "      <td>NC(=O)N1c2ccccc2C=Cc2ccccc21</td>\n",
       "      <td>DB04951</td>\n",
       "      <td>Cc1ccc(=O)n(-c2ccccc2)c1</td>\n",
       "      <td>1.0</td>\n",
       "    </tr>\n",
       "    <tr>\n",
       "      <th>83036</th>\n",
       "      <td>83036</td>\n",
       "      <td>3339.0</td>\n",
       "      <td>COc1cc(Nc2nccc(N(C)c3ccc4c(C)n[nH]c4c3)n2)cc(O...</td>\n",
       "      <td>3603.0</td>\n",
       "      <td>COCCOC</td>\n",
       "      <td>0.0</td>\n",
       "    </tr>\n",
       "    <tr>\n",
       "      <th>83037</th>\n",
       "      <td>83037</td>\n",
       "      <td>8526.0</td>\n",
       "      <td>C[C@](O)(COc1ccc([N+](=O)[O-])cc1)[C@@H](O)Nc1...</td>\n",
       "      <td>1193.0</td>\n",
       "      <td>Cc1ccccc1-c1n[nH]c(=S)n1N</td>\n",
       "      <td>0.0</td>\n",
       "    </tr>\n",
       "    <tr>\n",
       "      <th>83038</th>\n",
       "      <td>83038</td>\n",
       "      <td>1254.0</td>\n",
       "      <td>Cc1nc(N)nc2c1CSCC2</td>\n",
       "      <td>7224.0</td>\n",
       "      <td>N=C(N)Nc1cccc([C@H](C[P@@](=O)(O)CCCc2ccccc2)C...</td>\n",
       "      <td>0.0</td>\n",
       "    </tr>\n",
       "    <tr>\n",
       "      <th>83039</th>\n",
       "      <td>83039</td>\n",
       "      <td>6347.0</td>\n",
       "      <td>O=C(/C=C/c1ccc(Cl)cc1Cl)NO</td>\n",
       "      <td>5213.0</td>\n",
       "      <td>N=C(N)NCCC[C@H](N)C(=O)N1CCC[C@H]1C(=O)N1CCC[C...</td>\n",
       "      <td>0.0</td>\n",
       "    </tr>\n",
       "  </tbody>\n",
       "</table>\n",
       "</div>"
      ],
      "text/plain": [
       "       Unnamed: 0 Drug1_ID                                       Drug1_SMILES  \\\n",
       "83035       83035  DB00564                       NC(=O)N1c2ccccc2C=Cc2ccccc21   \n",
       "83036       83036   3339.0  COc1cc(Nc2nccc(N(C)c3ccc4c(C)n[nH]c4c3)n2)cc(O...   \n",
       "83037       83037   8526.0  C[C@](O)(COc1ccc([N+](=O)[O-])cc1)[C@@H](O)Nc1...   \n",
       "83038       83038   1254.0                                 Cc1nc(N)nc2c1CSCC2   \n",
       "83039       83039   6347.0                         O=C(/C=C/c1ccc(Cl)cc1Cl)NO   \n",
       "\n",
       "      Drug2_ID                                       Drug2_SMILES  label  \n",
       "83035  DB04951                           Cc1ccc(=O)n(-c2ccccc2)c1    1.0  \n",
       "83036   3603.0                                             COCCOC    0.0  \n",
       "83037   1193.0                          Cc1ccccc1-c1n[nH]c(=S)n1N    0.0  \n",
       "83038   7224.0  N=C(N)Nc1cccc([C@H](C[P@@](=O)(O)CCCc2ccccc2)C...    0.0  \n",
       "83039   5213.0  N=C(N)NCCC[C@H](N)C(=O)N1CCC[C@H]1C(=O)N1CCC[C...    0.0  "
      ]
     },
     "execution_count": 39,
     "metadata": {},
     "output_type": "execute_result"
    }
   ],
   "source": [
    "tempdf.tail()"
   ]
  },
  {
   "cell_type": "code",
   "execution_count": 40,
   "metadata": {
    "colab": {
     "base_uri": "https://localhost:8080/",
     "height": 592
    },
    "id": "kmwYSgvNDb2U",
    "outputId": "df7a7f7e-bcb7-42cd-ae63-ca46a9d44fdb"
   },
   "outputs": [
    {
     "data": {
      "text/html": [
       "<div>\n",
       "<style scoped>\n",
       "    .dataframe tbody tr th:only-of-type {\n",
       "        vertical-align: middle;\n",
       "    }\n",
       "\n",
       "    .dataframe tbody tr th {\n",
       "        vertical-align: top;\n",
       "    }\n",
       "\n",
       "    .dataframe thead th {\n",
       "        text-align: right;\n",
       "    }\n",
       "</style>\n",
       "<table border=\"1\" class=\"dataframe\">\n",
       "  <thead>\n",
       "    <tr style=\"text-align: right;\">\n",
       "      <th></th>\n",
       "      <th>Unnamed: 0</th>\n",
       "      <th>Drug1_ID</th>\n",
       "      <th>Drug1_SMILES</th>\n",
       "      <th>Drug2_ID</th>\n",
       "      <th>Drug2_SMILES</th>\n",
       "      <th>label</th>\n",
       "    </tr>\n",
       "  </thead>\n",
       "  <tbody>\n",
       "    <tr>\n",
       "      <th>66430</th>\n",
       "      <td>66430</td>\n",
       "      <td>DB00956</td>\n",
       "      <td>COc1ccc2c3c1O[C@H]1C(=O)CC[C@H]4[C@@H](C2)N(C)...</td>\n",
       "      <td>DB01202</td>\n",
       "      <td>CC[C@@H](C(N)=O)N1CCCC1=O</td>\n",
       "      <td>1.0</td>\n",
       "    </tr>\n",
       "    <tr>\n",
       "      <th>66431</th>\n",
       "      <td>66431</td>\n",
       "      <td>3795.0</td>\n",
       "      <td>C[C@@H](c1nc(-c2ccc(C#N)cc2)cs1)[C@](O)(Cn1cnc...</td>\n",
       "      <td>125.0</td>\n",
       "      <td>CC(=N)N1CCC(Oc2ccc3c4ccccc4n(Cc4ccc5ccc(C(=N)N...</td>\n",
       "      <td>0.0</td>\n",
       "    </tr>\n",
       "    <tr>\n",
       "      <th>66432</th>\n",
       "      <td>66432</td>\n",
       "      <td>8404.0</td>\n",
       "      <td>CC(O)=N[C@@H](Cc1cccc2ccccc12)[B-](O)(O)OC[C@H...</td>\n",
       "      <td>1503.0</td>\n",
       "      <td>CCc1ccc(NS(=O)(=O)O)cc1</td>\n",
       "      <td>0.0</td>\n",
       "    </tr>\n",
       "    <tr>\n",
       "      <th>66433</th>\n",
       "      <td>66433</td>\n",
       "      <td>DB00657</td>\n",
       "      <td>CNC1(C)C2CCC(C2)C1(C)C</td>\n",
       "      <td>DB05245</td>\n",
       "      <td>Nc1ccc(S(=O)(=O)[N-]c2ncccn2)cc1.[Ag+]</td>\n",
       "      <td>1.0</td>\n",
       "    </tr>\n",
       "    <tr>\n",
       "      <th>66434</th>\n",
       "      <td>66434</td>\n",
       "      <td>8555.0</td>\n",
       "      <td>C[C@H]1C[C@@H](C)CN(C(=O)c2cc(Br)ccc2N)C1</td>\n",
       "      <td>2262.0</td>\n",
       "      <td>CCOc1cc(O[C@@H]2CCOC2)c(F)c([C@@H](Nc2ccc(C(=N...</td>\n",
       "      <td>0.0</td>\n",
       "    </tr>\n",
       "    <tr>\n",
       "      <th>...</th>\n",
       "      <td>...</td>\n",
       "      <td>...</td>\n",
       "      <td>...</td>\n",
       "      <td>...</td>\n",
       "      <td>...</td>\n",
       "      <td>...</td>\n",
       "    </tr>\n",
       "    <tr>\n",
       "      <th>66495</th>\n",
       "      <td>66495</td>\n",
       "      <td>DB01050</td>\n",
       "      <td>CC(C)Cc1ccc(C(C)C(=O)O)cc1</td>\n",
       "      <td>DB08976</td>\n",
       "      <td>O=C(OC[C@H](O)CO)c1ccccc1Nc1ccnc2c(C(F)(F)F)cc...</td>\n",
       "      <td>1.0</td>\n",
       "    </tr>\n",
       "    <tr>\n",
       "      <th>66496</th>\n",
       "      <td>66496</td>\n",
       "      <td>DB00503</td>\n",
       "      <td>CC(C)c1nc(CN(C)C(=O)N[C@H](C(=O)N[C@@H](Cc2ccc...</td>\n",
       "      <td>DB01087</td>\n",
       "      <td>COc1cc(NC(C)CCCN)c2ncccc2c1</td>\n",
       "      <td>1.0</td>\n",
       "    </tr>\n",
       "    <tr>\n",
       "      <th>66497</th>\n",
       "      <td>66497</td>\n",
       "      <td>DB00489</td>\n",
       "      <td>CC(C)NCC(O)c1ccc(NS(C)(=O)=O)cc1</td>\n",
       "      <td>DB00708</td>\n",
       "      <td>CCC(=O)N(c1ccccc1)C1(COC)CCN(CCc2cccs2)CC1</td>\n",
       "      <td>1.0</td>\n",
       "    </tr>\n",
       "    <tr>\n",
       "      <th>66498</th>\n",
       "      <td>66498</td>\n",
       "      <td>DB00321</td>\n",
       "      <td>CN(C)CCC=C1c2ccccc2CCc2ccccc21</td>\n",
       "      <td>DB00363</td>\n",
       "      <td>CN1CCN(C2=Nc3cc(Cl)ccc3Nc3ccccc32)CC1</td>\n",
       "      <td>1.0</td>\n",
       "    </tr>\n",
       "    <tr>\n",
       "      <th>66499</th>\n",
       "      <td>66499</td>\n",
       "      <td>3223.0</td>\n",
       "      <td>COc1cc2nc(N3CCN(C(=O)c4ccco4)CC3)nc(N)c2cc1OC</td>\n",
       "      <td>6703.0</td>\n",
       "      <td>N#C[Fe-4](C#N)(C#N)(C#N)(C#N)C#N.N#C[Fe-4](C#N...</td>\n",
       "      <td>0.0</td>\n",
       "    </tr>\n",
       "  </tbody>\n",
       "</table>\n",
       "<p>70 rows × 6 columns</p>\n",
       "</div>"
      ],
      "text/plain": [
       "       Unnamed: 0 Drug1_ID                                       Drug1_SMILES  \\\n",
       "66430       66430  DB00956  COc1ccc2c3c1O[C@H]1C(=O)CC[C@H]4[C@@H](C2)N(C)...   \n",
       "66431       66431   3795.0  C[C@@H](c1nc(-c2ccc(C#N)cc2)cs1)[C@](O)(Cn1cnc...   \n",
       "66432       66432   8404.0  CC(O)=N[C@@H](Cc1cccc2ccccc12)[B-](O)(O)OC[C@H...   \n",
       "66433       66433  DB00657                             CNC1(C)C2CCC(C2)C1(C)C   \n",
       "66434       66434   8555.0          C[C@H]1C[C@@H](C)CN(C(=O)c2cc(Br)ccc2N)C1   \n",
       "...           ...      ...                                                ...   \n",
       "66495       66495  DB01050                         CC(C)Cc1ccc(C(C)C(=O)O)cc1   \n",
       "66496       66496  DB00503  CC(C)c1nc(CN(C)C(=O)N[C@H](C(=O)N[C@@H](Cc2ccc...   \n",
       "66497       66497  DB00489                   CC(C)NCC(O)c1ccc(NS(C)(=O)=O)cc1   \n",
       "66498       66498  DB00321                     CN(C)CCC=C1c2ccccc2CCc2ccccc21   \n",
       "66499       66499   3223.0      COc1cc2nc(N3CCN(C(=O)c4ccco4)CC3)nc(N)c2cc1OC   \n",
       "\n",
       "      Drug2_ID                                       Drug2_SMILES  label  \n",
       "66430  DB01202                          CC[C@@H](C(N)=O)N1CCCC1=O    1.0  \n",
       "66431    125.0  CC(=N)N1CCC(Oc2ccc3c4ccccc4n(Cc4ccc5ccc(C(=N)N...    0.0  \n",
       "66432   1503.0                            CCc1ccc(NS(=O)(=O)O)cc1    0.0  \n",
       "66433  DB05245             Nc1ccc(S(=O)(=O)[N-]c2ncccn2)cc1.[Ag+]    1.0  \n",
       "66434   2262.0  CCOc1cc(O[C@@H]2CCOC2)c(F)c([C@@H](Nc2ccc(C(=N...    0.0  \n",
       "...        ...                                                ...    ...  \n",
       "66495  DB08976  O=C(OC[C@H](O)CO)c1ccccc1Nc1ccnc2c(C(F)(F)F)cc...    1.0  \n",
       "66496  DB01087                        COc1cc(NC(C)CCCN)c2ncccc2c1    1.0  \n",
       "66497  DB00708         CCC(=O)N(c1ccccc1)C1(COC)CCN(CCc2cccs2)CC1    1.0  \n",
       "66498  DB00363              CN1CCN(C2=Nc3cc(Cl)ccc3Nc3ccccc32)CC1    1.0  \n",
       "66499   6703.0  N#C[Fe-4](C#N)(C#N)(C#N)(C#N)C#N.N#C[Fe-4](C#N...    0.0  \n",
       "\n",
       "[70 rows x 6 columns]"
      ]
     },
     "execution_count": 40,
     "metadata": {},
     "output_type": "execute_result"
    }
   ],
   "source": [
    "tempdf[66430:66500]"
   ]
  },
  {
   "cell_type": "code",
   "execution_count": 41,
   "metadata": {
    "colab": {
     "base_uri": "https://localhost:8080/"
    },
    "id": "VKvrhUjeOhca",
    "outputId": "5dfbc6c9-a728-43d7-c6ff-9183bba6b08f"
   },
   "outputs": [
    {
     "data": {
      "text/plain": [
       "81309"
      ]
     },
     "execution_count": 41,
     "metadata": {},
     "output_type": "execute_result"
    }
   ],
   "source": [
    "class NumbersDataset(Dataset):\n",
    "    def __init__(self,filename):\n",
    "        datat = filename\n",
    "        self.samples = list(range(2*len(datat)))\n",
    "        self.label = list(range(2*len(datat)))\n",
    "        self.sz = 0\n",
    "        idx = 0\n",
    "        for index in range(len(datat)) :\n",
    "            str1 = str(datat['Drug1_ID'][index])\n",
    "            str2 = str(datat['Drug2_ID'][index])\n",
    "\n",
    "            if (str1 in dictval) and (str2 in dictval) :\n",
    "                loop = 0\n",
    "                if datat['label'][index]==0 :\n",
    "                  loop = 0\n",
    "                elif datat['label'][index]==1 :\n",
    "                  loop = 0\n",
    "                else :\n",
    "                  loop = 0\n",
    "\n",
    "                mat1 = dictval[str1][0]\n",
    "                mat2 = dictval[str2][0]\n",
    "                mean1 = torch.mean(mat1, axis = 0)\n",
    "                std1 = torch.std(mat1, axis = 0)\n",
    "                mean2 = torch.mean(mat2, axis = 0)\n",
    "                std2 = torch.std(mat2, axis = 0)\n",
    "                vect = torch.cat([mean1, mean2, std1, std2], dim=0)\n",
    "                self.samples[idx] = vect.detach().cpu()\n",
    "                self.label[idx] = datat['label'][index]\n",
    "                self.label[idx] = torch.tensor(self.label[idx], dtype=torch.int64)\n",
    "                idx+=1\n",
    "                for genvar in range(0,loop) : \n",
    "                  eps = torch.randn_like(dictval[str1][1])\n",
    "                  std = torch.exp(dictval[str1][1])\n",
    "                  mat1 = eps.mul(std).add_(dictval[str1][0])\n",
    "                  eps = torch.randn_like(dictval[str2][1])\n",
    "                  std = torch.exp(dictval[str2][1])\n",
    "                  mat2 = eps.mul(std).add_(dictval[str2][0])\n",
    "                  mean1 = torch.mean(mat1, axis = 0)\n",
    "                  std1 = torch.std(mat1, axis = 0)\n",
    "                  mean2 = torch.mean(mat2, axis = 0)\n",
    "                  std2 = torch.std(mat2, axis = 0)\n",
    "                  vect = torch.cat([mean1, mean2, std1, std2], dim=0)\n",
    "                  self.samples[idx] = vect.detach().cpu()\n",
    "                  self.label[idx] = datat['label'][index]\n",
    "                  self.label[idx] = torch.tensor(self.label[idx], dtype=torch.int64)\n",
    "                  idx+=1\n",
    "            self.sz = idx\n",
    "\n",
    "\n",
    "    def __len__(self):\n",
    "        return self.sz\n",
    "\n",
    "    def __getitem__(self, idx):\n",
    "        return self.samples[idx],self.label[idx]\n",
    "\n",
    "dataset = NumbersDataset(tempdf)\n",
    "len(dataset)"
   ]
  },
  {
   "cell_type": "code",
   "execution_count": 45,
   "metadata": {
    "colab": {
     "base_uri": "https://localhost:8080/"
    },
    "id": "LHihSh2OBxVn",
    "outputId": "c8cf7e17-8c9f-4f21-ec90-087ac38cfcce"
   },
   "outputs": [
    {
     "data": {
      "text/plain": [
       "36"
      ]
     },
     "execution_count": 45,
     "metadata": {},
     "output_type": "execute_result"
    }
   ],
   "source": [
    "data = dataset\n",
    "data[0][0].shape[0]"
   ]
  },
  {
   "cell_type": "code",
   "execution_count": 46,
   "metadata": {
    "id": "qurUFaEnHjKb"
   },
   "outputs": [],
   "source": [
    "from deepchem.splits.splitters import IndexSplitter\n",
    "splitter = IndexSplitter()\n",
    "train_data, valid_data, test_data = splitter.split(data, frac_train=0.7, frac_valid=0.1, frac_test=0.2)"
   ]
  },
  {
   "cell_type": "code",
   "execution_count": 47,
   "metadata": {
    "colab": {
     "base_uri": "https://localhost:8080/"
    },
    "id": "-BZOByS_IGU2",
    "outputId": "19e4918b-1353-4ae2-95ae-2df124f8d784"
   },
   "outputs": [
    {
     "name": "stdout",
     "output_type": "stream",
     "text": [
      "Length of train data : 56916\n",
      "Length of valid data : 8131\n",
      "Length of test data : 16262\n"
     ]
    }
   ],
   "source": [
    "print(f'Length of train data : {len(train_data)}')\n",
    "print(f'Length of valid data : {len(valid_data)}')\n",
    "print(f'Length of test data : {len(test_data)}')"
   ]
  },
  {
   "cell_type": "code",
   "execution_count": 48,
   "metadata": {
    "id": "YOeyNwT_Inid"
   },
   "outputs": [],
   "source": [
    "data_train_val = []\n",
    "for i in range(len(train_data)):\n",
    "  data_train_val.append(data[train_data[i]])"
   ]
  },
  {
   "cell_type": "code",
   "execution_count": 49,
   "metadata": {
    "id": "VZNgN3R3I2cg"
   },
   "outputs": [],
   "source": [
    "for i in range(len(valid_data)):\n",
    "  data_train_val.append(data[valid_data[i]])"
   ]
  },
  {
   "cell_type": "code",
   "execution_count": 50,
   "metadata": {
    "id": "NdENZuUnJMx2"
   },
   "outputs": [],
   "source": [
    "data_train_val = tuple(data_train_val)"
   ]
  },
  {
   "cell_type": "code",
   "execution_count": 51,
   "metadata": {
    "colab": {
     "base_uri": "https://localhost:8080/"
    },
    "id": "CC4myXKbI-Wk",
    "outputId": "fef6eb4c-b3e1-48d1-985e-96e9758ca548"
   },
   "outputs": [
    {
     "data": {
      "text/plain": [
       "65047"
      ]
     },
     "execution_count": 51,
     "metadata": {},
     "output_type": "execute_result"
    }
   ],
   "source": [
    "len(data_train_val)"
   ]
  },
  {
   "cell_type": "code",
   "execution_count": 52,
   "metadata": {
    "id": "0KwD3Z-PUXFO"
   },
   "outputs": [],
   "source": [
    "from sklearn.model_selection import KFold\n",
    "K = 8\n",
    "kfold = KFold(n_splits=K, random_state=3, shuffle=True)"
   ]
  },
  {
   "cell_type": "code",
   "execution_count": 53,
   "metadata": {
    "colab": {
     "base_uri": "https://localhost:8080/"
    },
    "id": "jxRO6gOwUjlz",
    "outputId": "4191a289-53e6-48a6-fd24-e68cab8c38cc"
   },
   "outputs": [
    {
     "name": "stdout",
     "output_type": "stream",
     "text": [
      "Fold 0\n",
      "Length : 56916 | train_ids : [    0     1     2 ... 65044 65045 65046]\n",
      "Length : 8131 | val_ids : [   23    41    42 ... 65000 65004 65026]\n",
      "Fold 1\n",
      "Length : 56916 | train_ids : [    0     1     2 ... 65044 65045 65046]\n",
      "Length : 8131 | val_ids : [    3     9    14 ... 65034 65035 65041]\n",
      "Fold 2\n",
      "Length : 56916 | train_ids : [    1     2     3 ... 65044 65045 65046]\n",
      "Length : 8131 | val_ids : [    0     5    20 ... 65027 65029 65037]\n",
      "Fold 3\n",
      "Length : 56916 | train_ids : [    0     1     2 ... 65043 65045 65046]\n",
      "Length : 8131 | val_ids : [   11    13    22 ... 65033 65038 65044]\n",
      "Fold 4\n",
      "Length : 56916 | train_ids : [    0     1     2 ... 65044 65045 65046]\n",
      "Length : 8131 | val_ids : [    7    28    30 ... 65019 65022 65024]\n",
      "Fold 5\n",
      "Length : 56916 | train_ids : [    0     2     3 ... 65043 65044 65046]\n",
      "Length : 8131 | val_ids : [    1    16    17 ... 65014 65028 65045]\n",
      "Fold 6\n",
      "Length : 56916 | train_ids : [    0     1     2 ... 65044 65045 65046]\n",
      "Length : 8131 | val_ids : [    6     8    10 ... 65025 65030 65031]\n",
      "Fold 7\n",
      "Length : 56917 | train_ids : [    0     1     3 ... 65041 65044 65045]\n",
      "Length : 8130 | val_ids : [    2     4    12 ... 65042 65043 65046]\n"
     ]
    }
   ],
   "source": [
    "for fold,(x,y) in enumerate(kfold.split(data_train_val)):\n",
    "  data1 = []\n",
    "  print(f'Fold {fold}')\n",
    "  print(f'Length : {len(x)} | train_ids : {x}')\n",
    "  print(f'Length : {len(y)} | val_ids : {y}')\n",
    "  for i in range(len(x)):\n",
    "    data1.append(data[x[i]])\n",
    "  data1 = tuple(data1)\n",
    "  train_load = DataLoader(data1,batch_size=128)"
   ]
  },
  {
   "cell_type": "code",
   "execution_count": 54,
   "metadata": {
    "colab": {
     "base_uri": "https://localhost:8080/"
    },
    "id": "Iyq-J7tWJW-V",
    "outputId": "de683f29-e931-478b-87ca-3051b44b4113"
   },
   "outputs": [
    {
     "data": {
      "text/plain": [
       "0.7000086091330603"
      ]
     },
     "execution_count": 54,
     "metadata": {},
     "output_type": "execute_result"
    }
   ],
   "source": [
    "56917/len(data)"
   ]
  },
  {
   "cell_type": "markdown",
   "metadata": {},
   "source": [
    "# Classification Neural Net"
   ]
  },
  {
   "cell_type": "code",
   "execution_count": 64,
   "metadata": {
    "colab": {
     "base_uri": "https://localhost:8080/"
    },
    "id": "YxIz90EzBD9a",
    "outputId": "9646bd48-901a-4d10-9354-b46c9edc3dc0"
   },
   "outputs": [
    {
     "name": "stdout",
     "output_type": "stream",
     "text": [
      "NeuralNet(\n",
      "  (fc1): Linear(in_features=36, out_features=150, bias=True)\n",
      "  (relu): ReLU()\n",
      "  (fc2): Linear(in_features=150, out_features=2, bias=True)\n",
      ")\n",
      "Number of parameters:  5852\n"
     ]
    }
   ],
   "source": [
    "import torch.nn.functional as F \n",
    "torch.manual_seed(42)\n",
    "\n",
    "class NeuralNet(torch.nn.Module):\n",
    "    def __init__(self, input_size, hidden_size):\n",
    "        super(NeuralNet, self).__init__()\n",
    "        self.input_size = input_size\n",
    "        self.hidden_size  = hidden_size\n",
    "        self.fc1 = torch.nn.Linear(self.input_size, self.hidden_size)\n",
    "        self.relu = torch.nn.ReLU()\n",
    "        self.fc2 = torch.nn.Linear(self.hidden_size, n_classes)\n",
    "        \n",
    "    def forward(self, x):\n",
    "        x = self.fc1(x)\n",
    "        x = self.relu(x)\n",
    "        x = self.fc2(x)\n",
    "        x = F.softmax(x, dim=1)\n",
    "        return x\n",
    "model_ff = NeuralNet(data[0][0].shape[0],150)\n",
    "print(model_ff)\n",
    "print(\"Number of parameters: \", sum(p.numel() for p in model_ff.parameters()))"
   ]
  },
  {
   "cell_type": "code",
   "execution_count": 65,
   "metadata": {},
   "outputs": [
    {
     "name": "stdout",
     "output_type": "stream",
     "text": [
      "Starting training...\n",
      "Fold 0\n",
      "train_ids : [    0     1     2 ... 65044 65045 65046]\n",
      "val_ids : [   23    41    42 ... 65000 65004 65026]\n",
      "Epoch 0 | Train Loss 0.5918593406677246\n",
      "Epoch 50 | Train Loss 0.44324806332588196\n",
      "Epoch 100 | Train Loss 0.397970974445343\n",
      "Epoch 150 | Train Loss 0.38586556911468506\n",
      "Epoch 200 | Train Loss 0.36947566270828247\n",
      "Epoch 250 | Train Loss 0.3533909320831299\n",
      "0.8742105111807015\n",
      "For Fold 0 Val Loss: 0.4340444803237915\n",
      "For Fold 0 Val F1_score: 0.8742105111807015\n",
      "Fold 1\n",
      "train_ids : [    0     1     2 ... 65044 65045 65046]\n",
      "val_ids : [    3     9    14 ... 65034 65035 65041]\n",
      "Epoch 0 | Train Loss 0.3792283236980438\n",
      "Epoch 50 | Train Loss 0.3660903573036194\n",
      "Epoch 100 | Train Loss 0.3700011670589447\n",
      "Epoch 150 | Train Loss 0.3638351857662201\n",
      "Epoch 200 | Train Loss 0.36102306842803955\n",
      "Epoch 250 | Train Loss 0.3527233600616455\n",
      "0.8949479137132785\n",
      "For Fold 1 Val Loss: 0.414679616689682\n",
      "For Fold 1 Val F1_score: 0.8949479137132785\n",
      "Fold 2\n",
      "train_ids : [    1     2     3 ... 65044 65045 65046]\n",
      "val_ids : [    0     5    20 ... 65027 65029 65037]\n",
      "Epoch 0 | Train Loss 0.367779016494751\n",
      "Epoch 50 | Train Loss 0.3413204848766327\n",
      "Epoch 100 | Train Loss 0.3302437365055084\n",
      "Epoch 150 | Train Loss 0.3340223729610443\n",
      "Epoch 200 | Train Loss 0.32984107732772827\n",
      "Epoch 250 | Train Loss 0.3294737935066223\n",
      "0.9060595487338483\n",
      "For Fold 2 Val Loss: 0.4038431942462921\n",
      "For Fold 2 Val F1_score: 0.9060595487338483\n",
      "Fold 3\n",
      "train_ids : [    0     1     2 ... 65043 65045 65046]\n",
      "val_ids : [   11    13    22 ... 65033 65038 65044]\n",
      "Epoch 0 | Train Loss 0.33032822608947754\n",
      "Epoch 50 | Train Loss 0.3378290832042694\n",
      "Epoch 100 | Train Loss 0.3554218113422394\n",
      "Epoch 150 | Train Loss 0.37466931343078613\n",
      "Epoch 200 | Train Loss 0.34097108244895935\n",
      "Epoch 250 | Train Loss 0.3422926366329193\n",
      "0.9162230264727116\n",
      "For Fold 3 Val Loss: 0.3948433995246887\n",
      "For Fold 3 Val F1_score: 0.9162230264727116\n",
      "Fold 4\n",
      "train_ids : [    0     1     2 ... 65044 65045 65046]\n",
      "val_ids : [    7    28    30 ... 65019 65022 65024]\n",
      "Epoch 0 | Train Loss 0.3344453275203705\n",
      "Epoch 50 | Train Loss 0.3382335603237152\n",
      "Epoch 100 | Train Loss 0.34061864018440247\n",
      "Epoch 150 | Train Loss 0.33737605810165405\n",
      "Epoch 200 | Train Loss 0.3490608036518097\n",
      "Epoch 250 | Train Loss 0.33797749876976013\n",
      "0.9281258631397709\n",
      "For Fold 4 Val Loss: 0.38270148634910583\n",
      "For Fold 4 Val F1_score: 0.9281258631397709\n",
      "Fold 5\n",
      "train_ids : [    0     2     3 ... 65043 65044 65046]\n",
      "val_ids : [    1    16    17 ... 65014 65028 65045]\n",
      "Epoch 0 | Train Loss 0.33730626106262207\n",
      "Epoch 50 | Train Loss 0.3386625647544861\n",
      "Epoch 100 | Train Loss 0.3383326530456543\n",
      "Epoch 150 | Train Loss 0.33758875727653503\n",
      "Epoch 200 | Train Loss 0.3386456072330475\n",
      "Epoch 250 | Train Loss 0.3403036594390869\n",
      "0.9291511307485922\n",
      "For Fold 5 Val Loss: 0.381217360496521\n",
      "For Fold 5 Val F1_score: 0.9291511307485922\n",
      "Fold 6\n",
      "train_ids : [    0     1     2 ... 65044 65045 65046]\n",
      "val_ids : [    6     8    10 ... 65025 65030 65031]\n",
      "Epoch 0 | Train Loss 0.3501390516757965\n",
      "Epoch 50 | Train Loss 0.3480702340602875\n",
      "Epoch 100 | Train Loss 0.3262002170085907\n",
      "Epoch 150 | Train Loss 0.34718120098114014\n",
      "Epoch 200 | Train Loss 0.3392714858055115\n",
      "Epoch 250 | Train Loss 0.34017348289489746\n",
      "0.9323509301643104\n",
      "For Fold 6 Val Loss: 0.3792675733566284\n",
      "For Fold 6 Val F1_score: 0.9323509301643104\n",
      "Fold 7\n",
      "train_ids : [    0     1     3 ... 65041 65044 65045]\n",
      "val_ids : [    2     4    12 ... 65042 65043 65046]\n",
      "Epoch 0 | Train Loss 0.33193090558052063\n",
      "Epoch 50 | Train Loss 0.314395546913147\n",
      "Epoch 100 | Train Loss 0.31613826751708984\n",
      "Epoch 150 | Train Loss 0.3193933367729187\n",
      "Epoch 200 | Train Loss 0.328063428401947\n",
      "Epoch 250 | Train Loss 0.32676517963409424\n",
      "0.9383733544996629\n",
      "For Fold 7 Val Loss: 0.3721870481967926\n",
      "For Fold 7 Val F1_score: 0.9383733544996629\n"
     ]
    }
   ],
   "source": [
    "loss_fn = nn.CrossEntropyLoss()\n",
    "optimizer = torch.optim.Adam(model_ff.parameters(), lr=0.001)  \n",
    "\n",
    "# Use GPU for training\n",
    "model_ff = model_ff.to(device)\n",
    "loss_fn = loss_fn.to(device)\n",
    "\n",
    "def train(data):\n",
    "      # Enumerate over the data\n",
    "    for batch in train_loader:\n",
    "      # Use GPU\n",
    "      batch[0] = batch[0].to(device) \n",
    "      batch[1] = batch[1].to(device)  \n",
    "      # Reset gradients\n",
    "      optimizer.zero_grad() \n",
    "      # Passing the node features and the connection info      \n",
    "      pred = model_ff(batch[0])       \n",
    "      # Calculating the loss and gradients      \n",
    "      loss = (loss_fn(pred, batch[1]))      \n",
    "      loss.backward()  \n",
    "      # Update using the gradients\n",
    "      optimizer.step()   \n",
    "    return loss\n",
    "  \n",
    "def test(data):\n",
    "  model_ff.eval()\n",
    "  with torch.no_grad():\n",
    "    # Enumerate over the data\n",
    "      for test_batch in test_loader : \n",
    "        test_batch[0] = test_batch[0].to(device)\n",
    "        test_batch[1] = test_batch[1].to(device)\n",
    "        pred = model_ff(test_batch[0])\n",
    "        losst = (loss_fn(pred, test_batch[1]))      \n",
    "        pred_frac0 = pred[:,0]\n",
    "        pred_frac1 = pred[:,1]\n",
    "        pred = pred.argmax(dim=1)      \n",
    "        dftt = pd.DataFrame()\n",
    "        dftt[\"y_real\"] = test_batch[1].tolist()\n",
    "        dftt[\"y_pred\"] = pred.tolist()\n",
    "        score = f1_score(dftt['y_real'], dftt['y_pred'],average='macro')\n",
    "        print(f1_score(dftt['y_real'], dftt['y_pred'],average='macro'))  \n",
    "      return losst,score\n",
    "\n",
    "print(\"Starting training...\")\n",
    "losses = []\n",
    "losses_test = []\n",
    "for fold,(x,y) in enumerate(kfold.split(data_train_val)):\n",
    "  datax = []\n",
    "  datay = []\n",
    "  print(f'Fold {fold}')\n",
    "  print(f'train_ids : {x}')\n",
    "  print(f'val_ids : {y}')\n",
    "  for i in range(len(x)):\n",
    "    datax.append(data[x[i]])\n",
    "  for n in range(len(y)):\n",
    "    datay.append(data[y[n]])\n",
    "  datax = tuple(datax)\n",
    "  datay = tuple(datay)\n",
    "  train_loader = DataLoader(datax,batch_size=128)\n",
    "  test_loader = DataLoader(datay, batch_size=len(datay))\n",
    "  for epoch in range(251):\n",
    "      loss = train(data)\n",
    "      losses.append(loss)\n",
    "      if epoch % 50 == 0:\n",
    "        print(f\"Epoch {epoch} | Train Loss {loss}\")\n",
    "  filename = f'model{fold}.pth'\n",
    "  torch.save(model_ff.state_dict(),filename)\n",
    "  losst,score = test(data)\n",
    "  losses_test.append(losst)\n",
    "  print(f'For Fold {fold} Val Loss: {losst}')\n",
    "  print(f'For Fold {fold} Val F1_score: {score}')"
   ]
  },
  {
   "cell_type": "code",
   "execution_count": 66,
   "metadata": {
    "colab": {
     "base_uri": "https://localhost:8080/",
     "height": 282
    },
    "id": "Ar5Y6d-aRufN",
    "outputId": "7ee03cc6-4b06-4fcf-bb02-68245fe7d1e5"
   },
   "outputs": [
    {
     "data": {
      "text/plain": [
       "<AxesSubplot:>"
      ]
     },
     "execution_count": 66,
     "metadata": {},
     "output_type": "execute_result"
    },
    {
     "data": {
      "image/png": "[encoded data removed]",
      "text/plain": [
       "<Figure size 432x288 with 1 Axes>"
      ]
     },
     "metadata": {
      "needs_background": "light"
     },
     "output_type": "display_data"
    }
   ],
   "source": [
    "losses_float = [float(loss.cpu().detach().numpy()) for loss in losses] \n",
    "loss_indices = [i for i,l in enumerate(losses_float)] \n",
    "plt = sns.lineplot(loss_indices, losses_float)\n",
    "plt"
   ]
  },
  {
   "cell_type": "code",
   "execution_count": 67,
   "metadata": {},
   "outputs": [
    {
     "data": {
      "text/plain": [
       "<AxesSubplot:>"
      ]
     },
     "execution_count": 67,
     "metadata": {},
     "output_type": "execute_result"
    },
    {
     "data": {
      "image/png": "[encoded data removed]",
      "text/plain": [
       "<Figure size 432x288 with 1 Axes>"
      ]
     },
     "metadata": {
      "needs_background": "light"
     },
     "output_type": "display_data"
    }
   ],
   "source": [
    "losses_float = [float(loss.cpu().detach().numpy()) for loss in losses_test] \n",
    "loss_indices = [i for i,l in enumerate(losses_float)] \n",
    "plt = sns.lineplot(loss_indices, losses_float)\n",
    "plt"
   ]
  },
  {
   "cell_type": "code",
   "execution_count": 68,
   "metadata": {
    "id": "WCHTpLaRQ7yP"
   },
   "outputs": [],
   "source": [
    "data_test = []\n",
    "for i in range(len(test_data)):\n",
    "  data_test.append(data[test_data[i]])"
   ]
  },
  {
   "cell_type": "code",
   "execution_count": 69,
   "metadata": {
    "id": "nsHuTMgMRLUX"
   },
   "outputs": [],
   "source": [
    "data_test = tuple(data_test)"
   ]
  },
  {
   "cell_type": "code",
   "execution_count": 70,
   "metadata": {
    "colab": {
     "base_uri": "https://localhost:8080/"
    },
    "id": "M5cTE5FXRHe1",
    "outputId": "7c079ed4-c0bf-4748-d70f-31d7ce7f76b0"
   },
   "outputs": [
    {
     "data": {
      "text/plain": [
       "16262"
      ]
     },
     "execution_count": 70,
     "metadata": {},
     "output_type": "execute_result"
    }
   ],
   "source": [
    "len(data_test)"
   ]
  },
  {
   "cell_type": "markdown",
   "metadata": {},
   "source": [
    "## Model Selection and results on test data"
   ]
  },
  {
   "cell_type": "code",
   "execution_count": 87,
   "metadata": {
    "colab": {
     "base_uri": "https://localhost:8080/"
    },
    "id": "B9XucMk-kfpH",
    "outputId": "3daeeb06-1c19-4f37-c69a-0849a4d477bb"
   },
   "outputs": [
    {
     "data": {
      "text/plain": [
       "NeuralNet(\n",
       "  (fc1): Linear(in_features=36, out_features=150, bias=True)\n",
       "  (relu): ReLU()\n",
       "  (fc2): Linear(in_features=150, out_features=2, bias=True)\n",
       ")"
      ]
     },
     "execution_count": 87,
     "metadata": {},
     "output_type": "execute_result"
    }
   ],
   "source": [
    "filename = \"model7.pth\"\n",
    "classification_model = NeuralNet(data[0][0].shape[0],150)\n",
    "classification_model.load_state_dict(torch.load(filename))\n",
    "classification_model.eval()\n",
    "classification_model.to(device)"
   ]
  },
  {
   "cell_type": "code",
   "execution_count": 88,
   "metadata": {
    "colab": {
     "base_uri": "https://localhost:8080/",
     "height": 223
    },
    "id": "ZHFqlCvORz_i",
    "outputId": "cc24850c-5efe-46e7-e352-b828c9526e81"
   },
   "outputs": [
    {
     "name": "stdout",
     "output_type": "stream",
     "text": [
      "0.9108090103404491\n"
     ]
    },
    {
     "data": {
      "text/html": [
       "<div>\n",
       "<style scoped>\n",
       "    .dataframe tbody tr th:only-of-type {\n",
       "        vertical-align: middle;\n",
       "    }\n",
       "\n",
       "    .dataframe tbody tr th {\n",
       "        vertical-align: top;\n",
       "    }\n",
       "\n",
       "    .dataframe thead th {\n",
       "        text-align: right;\n",
       "    }\n",
       "</style>\n",
       "<table border=\"1\" class=\"dataframe\">\n",
       "  <thead>\n",
       "    <tr style=\"text-align: right;\">\n",
       "      <th></th>\n",
       "      <th>y_real</th>\n",
       "      <th>y_pred</th>\n",
       "      <th>y_predfrac0</th>\n",
       "      <th>y_predfrac1</th>\n",
       "    </tr>\n",
       "  </thead>\n",
       "  <tbody>\n",
       "    <tr>\n",
       "      <th>16257</th>\n",
       "      <td>0</td>\n",
       "      <td>0</td>\n",
       "      <td>1.000000e+00</td>\n",
       "      <td>3.628562e-17</td>\n",
       "    </tr>\n",
       "    <tr>\n",
       "      <th>16258</th>\n",
       "      <td>1</td>\n",
       "      <td>1</td>\n",
       "      <td>1.416704e-08</td>\n",
       "      <td>1.000000e+00</td>\n",
       "    </tr>\n",
       "    <tr>\n",
       "      <th>16259</th>\n",
       "      <td>1</td>\n",
       "      <td>1</td>\n",
       "      <td>1.772996e-05</td>\n",
       "      <td>9.999822e-01</td>\n",
       "    </tr>\n",
       "    <tr>\n",
       "      <th>16260</th>\n",
       "      <td>0</td>\n",
       "      <td>0</td>\n",
       "      <td>1.000000e+00</td>\n",
       "      <td>1.547428e-33</td>\n",
       "    </tr>\n",
       "    <tr>\n",
       "      <th>16261</th>\n",
       "      <td>0</td>\n",
       "      <td>0</td>\n",
       "      <td>1.000000e+00</td>\n",
       "      <td>4.203895e-45</td>\n",
       "    </tr>\n",
       "  </tbody>\n",
       "</table>\n",
       "</div>"
      ],
      "text/plain": [
       "      y_real y_pred   y_predfrac0   y_predfrac1\n",
       "16257      0      0  1.000000e+00  3.628562e-17\n",
       "16258      1      1  1.416704e-08  1.000000e+00\n",
       "16259      1      1  1.772996e-05  9.999822e-01\n",
       "16260      0      0  1.000000e+00  1.547428e-33\n",
       "16261      0      0  1.000000e+00  4.203895e-45"
      ]
     },
     "execution_count": 88,
     "metadata": {},
     "output_type": "execute_result"
    }
   ],
   "source": [
    "test_loader = DataLoader(data_test,batch_size=len(data_test), shuffle=True)\n",
    "dffull = pd.DataFrame(columns = ['y_real','y_pred'])\n",
    "with torch.no_grad():\n",
    "    for test_batch in test_loader : \n",
    "      test_batch[0] = test_batch[0].to(device)\n",
    "      test_batch[1] = test_batch[1].to(device)\n",
    "      pred = classification_model(test_batch[0]) \n",
    "      pred_frac0 = pred[:,0]\n",
    "      pred_frac1 = pred[:,1]\n",
    "      if n_classes == 3 : \n",
    "        pred_frac2 = pred[:,2]\n",
    "      pred = pred.argmax(dim=1)  \n",
    "      dftt = pd.DataFrame()\n",
    "      dftt[\"y_real\"] = test_batch[1].tolist()\n",
    "      dftt[\"y_pred\"] = pred.tolist()\n",
    "      dftt[\"y_predfrac0\"] = pred_frac0.tolist()\n",
    "      dftt[\"y_predfrac1\"] = pred_frac1.tolist()\n",
    "      if n_classes == 3 : \n",
    "        dftt[\"y_predfrac2\"] = pred_frac2.tolist()\n",
    "      dffull = dffull.append(dftt)\n",
    "      print(f1_score(dftt['y_real'], dftt['y_pred'],average='macro'))\n",
    "\n",
    "dffull.to_csv('tt.csv')\n",
    "dffull.tail()"
   ]
  },
  {
   "cell_type": "code",
   "execution_count": 89,
   "metadata": {
    "colab": {
     "base_uri": "https://localhost:8080/",
     "height": 366
    },
    "id": "m4HgEI5slM2A",
    "outputId": "04c69417-8001-43c5-cdef-c8d94c511ff5"
   },
   "outputs": [
    {
     "name": "stdout",
     "output_type": "stream",
     "text": [
      "F1_score(macro) :  0.9108090103404491\n",
      "F1_score(micro) :  0.910835075636453\n",
      "Accuracy :  0.910835075636453\n",
      "Confusion Matrix : \n"
     ]
    },
    {
     "data": {
      "text/plain": [
       "<sklearn.metrics._plot.confusion_matrix.ConfusionMatrixDisplay at 0x1c088c0df10>"
      ]
     },
     "execution_count": 89,
     "metadata": {},
     "output_type": "execute_result"
    },
    {
     "data": {
      "image/png": "[encoded data removed]",
      "text/plain": [
       "<Figure size 432x288 with 2 Axes>"
      ]
     },
     "metadata": {
      "needs_background": "light"
     },
     "output_type": "display_data"
    }
   ],
   "source": [
    "datahead = pd.read_csv('tt.csv')\n",
    "\n",
    "print(\"F1_score(macro) : \", f1_score(datahead['y_real'], datahead['y_pred'],average='macro'))\n",
    "print(\"F1_score(micro) : \", f1_score(datahead['y_real'], datahead['y_pred'],average='micro'))\n",
    "print(\"Accuracy : \", accuracy_score(datahead['y_real'], datahead['y_pred']))\n",
    "print(\"Confusion Matrix : \")\n",
    "confusion_mat = confusion_matrix(datahead['y_real'], datahead['y_pred'])\n",
    "cm_display = metrics.ConfusionMatrixDisplay(confusion_matrix = confusion_mat, display_labels = [False, True])\n",
    "cm_display.plot()"
   ]
  },
  {
   "cell_type": "code",
   "execution_count": 90,
   "metadata": {
    "colab": {
     "base_uri": "https://localhost:8080/",
     "height": 206
    },
    "id": "PmeZKzhKSEKj",
    "outputId": "4088c201-1bd8-4b0a-d2af-5edb17c025d9"
   },
   "outputs": [
    {
     "data": {
      "text/html": [
       "<div>\n",
       "<style scoped>\n",
       "    .dataframe tbody tr th:only-of-type {\n",
       "        vertical-align: middle;\n",
       "    }\n",
       "\n",
       "    .dataframe tbody tr th {\n",
       "        vertical-align: top;\n",
       "    }\n",
       "\n",
       "    .dataframe thead th {\n",
       "        text-align: right;\n",
       "    }\n",
       "</style>\n",
       "<table border=\"1\" class=\"dataframe\">\n",
       "  <thead>\n",
       "    <tr style=\"text-align: right;\">\n",
       "      <th></th>\n",
       "      <th>y_predfrac0</th>\n",
       "      <th>y_predfrac1</th>\n",
       "    </tr>\n",
       "  </thead>\n",
       "  <tbody>\n",
       "    <tr>\n",
       "      <th>0</th>\n",
       "      <td>0.999667</td>\n",
       "      <td>3.328555e-04</td>\n",
       "    </tr>\n",
       "    <tr>\n",
       "      <th>1</th>\n",
       "      <td>0.000166</td>\n",
       "      <td>9.998337e-01</td>\n",
       "    </tr>\n",
       "    <tr>\n",
       "      <th>2</th>\n",
       "      <td>0.000768</td>\n",
       "      <td>9.992317e-01</td>\n",
       "    </tr>\n",
       "    <tr>\n",
       "      <th>3</th>\n",
       "      <td>0.000761</td>\n",
       "      <td>9.992393e-01</td>\n",
       "    </tr>\n",
       "    <tr>\n",
       "      <th>4</th>\n",
       "      <td>1.000000</td>\n",
       "      <td>2.292606e-30</td>\n",
       "    </tr>\n",
       "  </tbody>\n",
       "</table>\n",
       "</div>"
      ],
      "text/plain": [
       "   y_predfrac0   y_predfrac1\n",
       "0     0.999667  3.328555e-04\n",
       "1     0.000166  9.998337e-01\n",
       "2     0.000768  9.992317e-01\n",
       "3     0.000761  9.992393e-01\n",
       "4     1.000000  2.292606e-30"
      ]
     },
     "execution_count": 90,
     "metadata": {},
     "output_type": "execute_result"
    }
   ],
   "source": [
    "dfttt = datahead.iloc[:,3:]\n",
    "dfttt.head()"
   ]
  },
  {
   "cell_type": "code",
   "execution_count": 91,
   "metadata": {
    "id": "gYp5tREjSCVR"
   },
   "outputs": [],
   "source": [
    "probab = dfttt.to_numpy()"
   ]
  },
  {
   "cell_type": "code",
   "execution_count": null,
   "metadata": {},
   "outputs": [],
   "source": [
    "if n_classes==3 : \n",
    "  macro_roc_auc_ovo = roc_auc_score(datahead['y_real'],probab, multi_class=\"ovo\", average=\"macro\")\n",
    "  print(macro_roc_auc_ovo)\n",
    "  macro_roc_auc_ovo = roc_auc_score(datahead['y_real'],probab, multi_class=\"ovr\", average=\"weighted\")\n",
    "  print(macro_roc_auc_ovo)\n",
    "else : \n",
    "  auc = roc_auc_score(datahead['y_real'],datahead['y_predfrac1'])\n",
    "  print('AUC: %.3f' % auc)"
   ]
  },
  {
   "cell_type": "code",
   "execution_count": null,
   "metadata": {},
   "outputs": [],
   "source": [
    "if n_classes == 3 : \n",
    "  Y_test = datahead['y_real']\n",
    "  y_score = probab\n",
    "  # Use label_binarize to be multi-label like settings\n",
    "  Y = label_binarize(Y_test, classes=[0, 1, 2])\n",
    "  n_classes = Y.shape[1]\n",
    "\n",
    "  Y_test = Y\n",
    "\n",
    "\n",
    "  # For each class\n",
    "  precision = dict()\n",
    "  recall = dict()\n",
    "  average_precision = dict()\n",
    "  for i in range(n_classes):\n",
    "      precision[i], recall[i], _ = precision_recall_curve(Y_test[:, i], y_score[:, i])\n",
    "      average_precision[i] = average_precision_score(Y_test[:, i], y_score[:, i])\n",
    "\n",
    "  # A \"micro-average\": quantifying score on all classes jointly\n",
    "  precision[\"micro\"], recall[\"micro\"], _ = precision_recall_curve(\n",
    "      Y_test.ravel(), y_score.ravel()\n",
    "  )\n",
    "  average_precision[\"micro\"] = average_precision_score(Y_test, y_score, average=\"micro\")\n",
    "  average_precision[\"macro\"] = average_precision_score(Y_test, y_score, average=\"macro\")\n",
    "  print(average_precision[\"micro\"])\n",
    "  print(average_precision[\"macro\"])"
   ]
  },
  {
   "cell_type": "code",
   "execution_count": null,
   "metadata": {},
   "outputs": [],
   "source": [
    "if n_classes == 3 :\n",
    "  display = PrecisionRecallDisplay(\n",
    "      recall=recall[\"micro\"],\n",
    "      precision=precision[\"micro\"],\n",
    "      average_precision=average_precision[\"micro\"],\n",
    "  )\n",
    "  display.plot()\n",
    "  _ = display.ax_.set_title(\"Micro-averaged over all classes\")"
   ]
  },
  {
   "cell_type": "code",
   "execution_count": 92,
   "metadata": {
    "colab": {
     "base_uri": "https://localhost:8080/",
     "height": 296
    },
    "id": "u2fbVR43xIw_",
    "outputId": "ac51bff0-7df6-44dd-f227-b2ac0d8bd18e"
   },
   "outputs": [
    {
     "name": "stdout",
     "output_type": "stream",
     "text": [
      "Model: ROC AUC=0.951\n"
     ]
    },
    {
     "data": {
      "image/png": "[encoded data removed]",
      "text/plain": [
       "<Figure size 432x288 with 1 Axes>"
      ]
     },
     "metadata": {
      "needs_background": "light"
     },
     "output_type": "display_data"
    }
   ],
   "source": [
    "lr_auc = roc_auc_score(datahead['y_real'],datahead['y_predfrac1'])\n",
    "# summarize scores\n",
    "\n",
    "print('Model: ROC AUC=%.3f' % (lr_auc))\n",
    "# calculate roc curves\n",
    "\n",
    "lr_fpr, lr_tpr, _ = roc_curve(datahead['y_real'],datahead['y_predfrac1'])\n",
    "# plot the roc curve for the model\n",
    "pyplot.plot(lr_fpr, lr_tpr, marker='.', label='Model')\n",
    "# axis labels\n",
    "pyplot.xlabel('False Positive Rate')\n",
    "pyplot.ylabel('True Positive Rate')\n",
    "# show the legend\n",
    "pyplot.legend()\n",
    "# show the plot\n",
    "pyplot.show()"
   ]
  },
  {
   "cell_type": "code",
   "execution_count": 93,
   "metadata": {
    "colab": {
     "base_uri": "https://localhost:8080/",
     "height": 296
    },
    "id": "XtF30uBnxM3O",
    "outputId": "d64e063e-aa60-4058-9823-1fadc400517d"
   },
   "outputs": [
    {
     "name": "stdout",
     "output_type": "stream",
     "text": [
      "Logistic: f1=0.912 auc=0.954\n"
     ]
    },
    {
     "data": {
      "image/png": "[encoded data removed]",
      "text/plain": [
       "<Figure size 432x288 with 1 Axes>"
      ]
     },
     "metadata": {
      "needs_background": "light"
     },
     "output_type": "display_data"
    }
   ],
   "source": [
    "lr_precision, lr_recall, _ = precision_recall_curve(datahead['y_real'],datahead['y_predfrac1'])\n",
    "lr_f1, lr_auc = f1_score(datahead['y_real'], datahead['y_pred']), metrics.auc(lr_recall, lr_precision)\n",
    "# summarize scores\n",
    "print('Logistic: f1=%.3f auc=%.3f' % (lr_f1, lr_auc))\n",
    "# plot the precision-recall curves\n",
    "no_skill = len(datahead['y_real'][datahead['y_real']==1]) / len(datahead['y_real'])\n",
    "pyplot.plot([0, 1], [no_skill, no_skill], linestyle='--', label='No Skill')\n",
    "pyplot.plot(lr_recall, lr_precision, marker='.', label='Logistic')\n",
    "# axis labels\n",
    "pyplot.xlabel('Recall')\n",
    "pyplot.ylabel('Precision')\n",
    "# show the legend\n",
    "pyplot.legend()\n",
    "# show the plot\n",
    "pyplot.show()"
   ]
  },
  {
   "cell_type": "code",
   "execution_count": 94,
   "metadata": {
    "colab": {
     "base_uri": "https://localhost:8080/"
    },
    "id": "eYrKc4JCxNZe",
    "outputId": "0568ebbb-6b70-4b3d-b728-7c824253e092"
   },
   "outputs": [
    {
     "data": {
      "text/plain": [
       "0.9537734332948103"
      ]
     },
     "execution_count": 94,
     "metadata": {},
     "output_type": "execute_result"
    }
   ],
   "source": [
    "precision, recall, thresholds  = precision_recall_curve(datahead['y_real'], datahead['y_predfrac1'])\n",
    "auc_score = metrics.auc(recall, precision)\n",
    "auc_score"
   ]
  },
  {
   "cell_type": "code",
   "execution_count": null,
   "metadata": {},
   "outputs": [],
   "source": []
  }
 ],
 "metadata": {
  "accelerator": "GPU",
  "colab": {
   "machine_shape": "hm",
   "provenance": []
  },
  "gpuClass": "standard",
  "kernelspec": {
   "display_name": "Python 3",
   "language": "python",
   "name": "python3"
  },
  "language_info": {
   "codemirror_mode": {
    "name": "ipython",
    "version": 3
   },
   "file_extension": ".py",
   "mimetype": "text/x-python",
   "name": "python",
   "nbconvert_exporter": "python",
   "pygments_lexer": "ipython3",
   "version": "3.8.8"
  }
 },
 "nbformat": 4,
 "nbformat_minor": 1
}
